{
 "cells": [
  {
   "cell_type": "code",
   "execution_count": 2,
   "id": "b85d1de9",
   "metadata": {},
   "outputs": [],
   "source": [
    "text = \"'mdjrny-v4 style'  A wide angle colored line art drawing of a beautiful female half human cyborg in a futuristic 25th century city street,  highly detailed, psytrance art style, golden bikini, back alley shot, wide shot, diagonal view of subject, highly detailed, monochromatic, graphic novel, steampunk\""
   ]
  },
  {
   "cell_type": "code",
   "execution_count": 5,
   "id": "4b79a95c",
   "metadata": {},
   "outputs": [
    {
     "name": "stdout",
     "output_type": "stream",
     "text": [
      "-mdjrny-v4_style-__A_wide_angle_colored_line_art_drawing_of_a_beautiful_female_half_human_cyborg_in_a_futuristic_25th_century_city_street-__highly_detailed-_psytrance_art_style-_golden_bikini-_back_alley_shot-_wide_shot-_diagonal_view_of_subject-_highly_detailed-_monochromatic-_graphic_novel-_steampunk.jpg\n"
     ]
    }
   ],
   "source": [
    "text = text.replace(\",\",\"-\")\n",
    "text = text.replace(\" \",\"_\")\n",
    "text = text.replace(\"'\",\"-\")\n",
    "text = text+\".jpg\"\n",
    "print(text)"
   ]
  },
  {
   "cell_type": "code",
   "execution_count": 12,
   "id": "2268f655",
   "metadata": {},
   "outputs": [],
   "source": [
    "import cv2\n",
    "import numpy as np\n",
    "import ffmpeg\n",
    "\n",
    "tvid =\"/home/jack/Desktop/HDD500/collections/newvid/2023-04-18_12-49-20-345new.mp4\"\n",
    "bvid=\"/home/jack/Desktop/content/static/videos/640x640.mp4\"\n",
    "\n",
    "# Load the videos\n",
    "video_bottom = cv2.VideoCapture(bvid)\n",
    "video_top = cv2.VideoCapture(tvid)\n",
    "\n",
    "# Get the video dimensions\n",
    "width = int(video_bottom.get(cv2.CAP_PROP_FRAME_WIDTH))\n",
    "height = int(video_bottom.get(cv2.CAP_PROP_FRAME_HEIGHT))\n",
    "\n",
    "# Define the center coordinates and radius of the transparent circle\n",
    "center_x = width // 2\n",
    "center_y = height // 2\n",
    "radius = 150\n",
    "\n",
    "# Create a video writer to save the result\n",
    "output_file = '/home/jack/Desktop/content/static/videos/experimental2.mp4'\n",
    "output = cv2.VideoWriter(output_file, cv2.VideoWriter_fourcc(*'mp4v'), 30, (width, height))\n",
    "\n",
    "# Loop through the frames of the videos\n",
    "while True:\n",
    "    # Read the frames from both videos\n",
    "    ret_bottom, frame_bottom = video_bottom.read()\n",
    "    ret_top, frame_top = video_top.read()\n",
    "\n",
    "    # If either video has reached the end, exit the loop\n",
    "    if not ret_bottom or not ret_top:\n",
    "        break\n",
    "\n",
    "    # Create a black mask image with the same dimensions as the videos\n",
    "    mask = np.zeros((height, width), dtype=np.uint8)\n",
    "\n",
    "    # Draw a transparent circle on the mask\n",
    "    cv2.circle(mask, (center_x, center_y), radius, (255, 255, 255), -1)\n",
    "\n",
    "    # Apply the mask to the top video frame\n",
    "    frame_top = cv2.bitwise_and(frame_top, frame_top, mask=mask)\n",
    "\n",
    "    # Combine the frames of the two videos\n",
    "    result = cv2.add(frame_bottom, frame_top)\n",
    "\n",
    "    # Write the resulting frame to the output video\n",
    "    output.write(result)\n",
    "\n",
    "# Release the video capture and writer\n",
    "video_bottom.release()\n",
    "video_top.release()\n",
    "output.release()"
   ]
  },
  {
   "cell_type": "code",
   "execution_count": null,
   "id": "08a36ca4",
   "metadata": {},
   "outputs": [],
   "source": []
  },
  {
   "cell_type": "code",
   "execution_count": null,
   "id": "8a96f711",
   "metadata": {},
   "outputs": [],
   "source": []
  }
 ],
 "metadata": {
  "kernelspec": {
   "display_name": "cloned-base",
   "language": "python",
   "name": "cloned-base"
  },
  "language_info": {
   "codemirror_mode": {
    "name": "ipython",
    "version": 3
   },
   "file_extension": ".py",
   "mimetype": "text/x-python",
   "name": "python",
   "nbconvert_exporter": "python",
   "pygments_lexer": "ipython3",
   "version": "3.9.12"
  }
 },
 "nbformat": 4,
 "nbformat_minor": 5
}
