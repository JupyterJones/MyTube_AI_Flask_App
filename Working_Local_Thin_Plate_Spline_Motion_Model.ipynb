{
 "cells": [
  {
   "cell_type": "markdown",
   "metadata": {
    "colab_type": "text",
    "id": "view-in-github"
   },
   "source": [
    "<a href=\"https://colab.research.google.com/github/JupyterJones/AI-art/blob/master/Copy_of_Thin_Plate_Spline_Motion_Model.ipynb\" target=\"_parent\"><img src=\"https://colab.research.google.com/assets/colab-badge.svg\" alt=\"Open In Colab\"/></a>"
   ]
  },
  {
   "cell_type": "code",
   "execution_count": null,
   "metadata": {
    "colab": {
     "base_uri": "https://localhost:8080/"
    },
    "id": "wCV9R4cV_Uap",
    "outputId": "0fe38af3-22c3-4a6f-e747-758653908278"
   },
   "outputs": [],
   "source": [
    "!git clone https://github.com/yoyo-nb/Thin-Plate-Spline-Motion-Model.git"
   ]
  },
  {
   "cell_type": "code",
   "execution_count": null,
   "metadata": {
    "colab": {
     "base_uri": "https://localhost:8080/"
    },
    "id": "Jyi0nUoOJKC6",
    "outputId": "e59b07f2-e777-4e23-cde1-38107b6dfdfd"
   },
   "outputs": [],
   "source": [
    "cd Thin-Plate-Spline-Motion-Model"
   ]
  },
  {
   "cell_type": "code",
   "execution_count": null,
   "metadata": {
    "colab": {
     "base_uri": "https://localhost:8080/"
    },
    "id": "OzYZDRk8_ikB",
    "outputId": "7eb6c795-e782-44bd-aa52-c942fb26a8b3"
   },
   "outputs": [],
   "source": [
    "#!mkdir checkpoints\n",
    "!wget -c https://cloud.tsinghua.edu.cn/f/da8d61d012014b12a9e4/?dl=1 -O checkpoints/vox.pth.tar\n",
    "!wget -c https://cloud.tsinghua.edu.cn/f/483ef53650b14ac7ae70/?dl=1 -O checkpoints/ted.pth.tar\n",
    "!wget -c https://cloud.tsinghua.edu.cn/f/9ec01fa4aaef423c8c02/?dl=1 -O checkpoints/taichi.pth.tar\n",
    "!wget -c https://cloud.tsinghua.edu.cn/f/cd411b334a2e49cdb1e2/?dl=1 -O checkpoints/mgif.pth.tar"
   ]
  },
  {
   "cell_type": "code",
   "execution_count": null,
   "metadata": {},
   "outputs": [],
   "source": [
    "import os\n",
    "os.chdir(\"Thin-Plate-Spline-Motion-Model\")"
   ]
  },
  {
   "cell_type": "code",
   "execution_count": null,
   "metadata": {},
   "outputs": [],
   "source": [
    "!mv ../checkpoints/*.* checkpoints "
   ]
  },
  {
   "cell_type": "code",
   "execution_count": null,
   "metadata": {},
   "outputs": [],
   "source": [
    "!ls checkpoints"
   ]
  },
  {
   "cell_type": "code",
   "execution_count": 7,
   "metadata": {
    "id": "czsWABcK_2KE"
   },
   "outputs": [
    {
     "name": "stdout",
     "output_type": "stream",
     "text": [
      "Requirement already satisfied: face_alignment in /home/jack/miniconda3/lib/python3.9/site-packages (1.3.5)\n",
      "Requirement already satisfied: torch in /home/jack/miniconda3/lib/python3.9/site-packages (from face_alignment) (1.13.1)\n",
      "Requirement already satisfied: numpy in /home/jack/miniconda3/lib/python3.9/site-packages (from face_alignment) (1.23.5)\n",
      "Requirement already satisfied: scipy>=0.17 in /home/jack/miniconda3/lib/python3.9/site-packages (from face_alignment) (1.9.1)\n",
      "Requirement already satisfied: scikit-image in /home/jack/miniconda3/lib/python3.9/site-packages (from face_alignment) (0.20.0)\n",
      "Requirement already satisfied: opencv-python in /home/jack/miniconda3/lib/python3.9/site-packages (from face_alignment) (4.7.0.72)\n",
      "Requirement already satisfied: tqdm in /home/jack/miniconda3/lib/python3.9/site-packages (from face_alignment) (4.63.0)\n",
      "Requirement already satisfied: numba in /home/jack/miniconda3/lib/python3.9/site-packages (from face_alignment) (0.56.4)\n",
      "Requirement already satisfied: llvmlite<0.40,>=0.39.0dev0 in /home/jack/miniconda3/lib/python3.9/site-packages (from numba->face_alignment) (0.39.1)\n",
      "Requirement already satisfied: setuptools in /home/jack/miniconda3/lib/python3.9/site-packages (from numba->face_alignment) (61.2.0)\n",
      "Requirement already satisfied: networkx>=2.8 in /home/jack/miniconda3/lib/python3.9/site-packages (from scikit-image->face_alignment) (3.1)\n",
      "Requirement already satisfied: pillow>=9.0.1 in /home/jack/miniconda3/lib/python3.9/site-packages (from scikit-image->face_alignment) (9.3.0)\n",
      "Requirement already satisfied: imageio>=2.4.1 in /home/jack/miniconda3/lib/python3.9/site-packages (from scikit-image->face_alignment) (2.24.0)\n",
      "Requirement already satisfied: tifffile>=2019.7.26 in /home/jack/miniconda3/lib/python3.9/site-packages (from scikit-image->face_alignment) (2023.4.12)\n",
      "Requirement already satisfied: PyWavelets>=1.1.1 in /home/jack/miniconda3/lib/python3.9/site-packages (from scikit-image->face_alignment) (1.4.1)\n",
      "Requirement already satisfied: packaging>=20.0 in /home/jack/miniconda3/lib/python3.9/site-packages (from scikit-image->face_alignment) (21.3)\n",
      "Requirement already satisfied: lazy_loader>=0.1 in /home/jack/miniconda3/lib/python3.9/site-packages (from scikit-image->face_alignment) (0.1)\n",
      "Requirement already satisfied: typing-extensions in /home/jack/miniconda3/lib/python3.9/site-packages (from torch->face_alignment) (4.3.0)\n",
      "Requirement already satisfied: nvidia-cuda-runtime-cu11==11.7.99 in /home/jack/miniconda3/lib/python3.9/site-packages (from torch->face_alignment) (11.7.99)\n",
      "Requirement already satisfied: nvidia-cudnn-cu11==8.5.0.96 in /home/jack/miniconda3/lib/python3.9/site-packages (from torch->face_alignment) (8.5.0.96)\n",
      "Requirement already satisfied: nvidia-cublas-cu11==11.10.3.66 in /home/jack/miniconda3/lib/python3.9/site-packages (from torch->face_alignment) (11.10.3.66)\n",
      "Requirement already satisfied: nvidia-cuda-nvrtc-cu11==11.7.99 in /home/jack/miniconda3/lib/python3.9/site-packages (from torch->face_alignment) (11.7.99)\n",
      "Requirement already satisfied: wheel in /home/jack/miniconda3/lib/python3.9/site-packages (from nvidia-cublas-cu11==11.10.3.66->torch->face_alignment) (0.37.1)\n",
      "Requirement already satisfied: pyparsing!=3.0.5,>=2.0.2 in /home/jack/miniconda3/lib/python3.9/site-packages (from packaging>=20.0->scikit-image->face_alignment) (3.0.9)\n"
     ]
    }
   ],
   "source": [
    "import torch\n",
    "\n",
    "# edit the config\n",
    "device = torch.device('cpu')\n",
    "dataset_name = 'vox' # ['vox', 'taichi', 'ted', 'mgif']\n",
    "source_image_path = 'Thin-Plate-Spline-Motion-Model/assets/source.png'\n",
    "driving_video_path = 'Thin-Plate-Spline-Motion-Model/assets/driving.mp4'\n",
    "output_video_path = 'Thin-Plate-Spline-Motion-Model/assets/generated.mp4'\n",
    "config_path = 'config/vox-256.yaml'\n",
    "checkpoint_path = 'checkpoints/vox.pth.tar'\n",
    "predict_mode = 'relative' # ['standard', 'relative', 'avd']\n",
    "find_best_frame = True # when use the relative mode to animate a face, use 'find_best_frame=True' can get better quality result\n",
    "\n",
    "pixel = 256 # for vox, taichi and mgif, the resolution is 256*256\n",
    "if(dataset_name == 'ted'): # for ted, the resolution is 384*384\n",
    "    pixel = 384\n",
    "\n",
    "if find_best_frame:\n",
    "  !pip install face_alignment"
   ]
  },
  {
   "cell_type": "code",
   "execution_count": 6,
   "metadata": {},
   "outputs": [
    {
     "name": "stdout",
     "output_type": "stream",
     "text": [
      " driving-.mp4   driving-old.mp4  'source (copy 1).png'\t source.png   vox.gif\r\n",
      " driving.mp4    generated.mp4\t  source.jpg\t\t ted.gif\r\n"
     ]
    }
   ],
   "source": [
    "!ls Thin-Plate-Spline-Motion-Model/assets"
   ]
  },
  {
   "cell_type": "code",
   "execution_count": null,
   "metadata": {
    "colab": {
     "base_uri": "https://localhost:8080/",
     "height": 621
    },
    "id": "buuCZcGKARnp",
    "outputId": "2fd321d6-6b77-4e2a-c1bd-77eb76579ff1"
   },
   "outputs": [
    {
     "name": "stderr",
     "output_type": "stream",
     "text": [
      "<frozen importlib._bootstrap>:228: RuntimeWarning: scipy._lib.messagestream.MessageStream size changed, may indicate binary incompatibility. Expected 56 from C header, got 64 from PyObject\n"
     ]
    }
   ],
   "source": [
    "try:\n",
    "  import imageio\n",
    "  import imageio_ffmpeg\n",
    "except:\n",
    "  !pip install imageio_ffmpeg\n",
    "import numpy as np\n",
    "import matplotlib.pyplot as plt\n",
    "import matplotlib.animation as animation\n",
    "from skimage.transform import resize\n",
    "from IPython.display import HTML\n",
    "import warnings\n",
    "import os\n",
    "\n",
    "warnings.filterwarnings(\"ignore\")\n",
    "driving_video_path=\"Thin-Plate-Spline-Motion-Model/assets/driving.mp4\"\n",
    "source_image_path=\"Thin-Plate-Spline-Motion-Model/assets/source.png\"\n",
    "source_image = imageio.imread(source_image_path)\n",
    "reader = imageio.get_reader(driving_video_path)\n",
    "\n",
    "source_image = resize(source_image, (pixel, pixel))[..., :3]\n",
    "\n",
    "fps = reader.get_meta_data()['fps']\n",
    "driving_video = []\n",
    "try:\n",
    "    for im in reader:\n",
    "        driving_video.append(im)\n",
    "except RuntimeError:\n",
    "    pass\n",
    "reader.close()\n",
    "\n",
    "driving_video = [resize(frame, (pixel, pixel))[..., :3] for frame in driving_video]\n",
    "\n",
    "def display(source, driving, generated=None):\n",
    "    fig = plt.figure(figsize=(8 + 4 * (generated is not None), 6))\n",
    "\n",
    "    ims = []\n",
    "    for i in range(len(driving)):\n",
    "        cols = [source]\n",
    "        cols.append(driving[i])\n",
    "        if generated is not None:\n",
    "            cols.append(generated[i])\n",
    "        im = plt.imshow(np.concatenate(cols, axis=1), animated=True)\n",
    "        plt.axis('off')\n",
    "        ims.append([im])\n",
    "\n",
    "    ani = animation.ArtistAnimation(fig, ims, interval=50, repeat_delay=1000)\n",
    "    plt.close()\n",
    "    return ani\n",
    "    \n",
    "\n",
    "HTML(display(source_image, driving_video).to_html5_video())"
   ]
  },
  {
   "cell_type": "code",
   "execution_count": null,
   "metadata": {},
   "outputs": [],
   "source": [
    "!ls "
   ]
  },
  {
   "cell_type": "code",
   "execution_count": null,
   "metadata": {},
   "outputs": [],
   "source": [
    "!cp demo.py demos.py"
   ]
  },
  {
   "cell_type": "code",
   "execution_count": null,
   "metadata": {
    "id": "RyX8fH7sCObj"
   },
   "outputs": [],
   "source": [
    "from demos import load_checkpoints\n",
    "inpainting, kp_detector, dense_motion_network, avd_network = load_checkpoints(config_path = config_path, checkpoint_path = checkpoint_path, device = device)"
   ]
  },
  {
   "cell_type": "code",
   "execution_count": null,
   "metadata": {
    "colab": {
     "base_uri": "https://localhost:8080/",
     "height": 639
    },
    "id": "o84sOb7JCSY2",
    "outputId": "f534ef99-9415-4056-98a3-d0641bed6a1a"
   },
   "outputs": [],
   "source": [
    "from demos import make_animation\n",
    "from skimage import img_as_ubyte\n",
    "\n",
    "if predict_mode=='relative' and find_best_frame:\n",
    "    from demo import find_best_frame as _find\n",
    "    i = _find(source_image, driving_video, device.type=='cpu')\n",
    "    print (\"Best frame: \" + str(i))\n",
    "    driving_forward = driving_video[i:]\n",
    "    driving_backward = driving_video[:(i+1)][::-1]\n",
    "    predictions_forward = make_animation(source_image, driving_forward, inpainting, kp_detector, dense_motion_network, avd_network, device = device, mode = predict_mode)\n",
    "    predictions_backward = make_animation(source_image, driving_backward, inpainting, kp_detector, dense_motion_network, avd_network, device = device, mode = predict_mode)\n",
    "    predictions = predictions_backward[::-1] + predictions_forward[1:]\n",
    "else:\n",
    "    predictions = make_animation(source_image, driving_video, inpainting, kp_detector, dense_motion_network, avd_network, device = device, mode = predict_mode)\n",
    "\n",
    "#save resulting video\n",
    "imageio.mimsave(output_video_path, [img_as_ubyte(frame) for frame in predictions], fps=fps)\n",
    "\n",
    "HTML(display(source_image, driving_video, predictions).to_html5_video())"
   ]
  },
  {
   "cell_type": "code",
   "execution_count": null,
   "metadata": {
    "id": "sn-BOAmWFvNv"
   },
   "outputs": [],
   "source": [
    "# Save resulting video\n",
    "output_video_path = \"animated-Image.mp4\"\n",
    "imageio.mimsave(output_video_path, [img_as_ubyte(frame) for frame in predictions], fps=fps)\n"
   ]
  },
  {
   "cell_type": "code",
   "execution_count": null,
   "metadata": {},
   "outputs": [],
   "source": [
    "output_video_path = \"../animated-Image.mp4\"\n",
    "imageio.mimsave(output_video_path, [img_as_ubyte(frame) for frame in predictions], fps=fps)"
   ]
  },
  {
   "cell_type": "code",
   "execution_count": null,
   "metadata": {},
   "outputs": [],
   "source": [
    "from IPython.display import HTML\n",
    "\n",
    "video_path = \"animated-Image.mp4\"\n",
    "\n",
    "# Generate HTML code to display the video\n",
    "html_code = f'<video controls><source src=\"{video_path}\" type=\"video/mp4\"></video>'\n",
    "\n",
    "# Display the video in Jupyter Notebook\n",
    "HTML(html_code)\n"
   ]
  },
  {
   "cell_type": "code",
   "execution_count": null,
   "metadata": {},
   "outputs": [],
   "source": [
    "!ls Thin-Plate-Spline-Motion-Model/temp"
   ]
  },
  {
   "cell_type": "code",
   "execution_count": null,
   "metadata": {},
   "outputs": [],
   "source": [
    "from moviepy.editor import VideoFileClip\n",
    "\n",
    "# Input video file\n",
    "input_file = \"Thin-Plate-Spline-Motion-Model/temp/driver_orig.mp4\"\n",
    "\n",
    "# Output video file\n",
    "output_file = \"Thin-Plate-Spline-Motion-Model/temp/driver4.mp4\"\n",
    "\n",
    "# Crop dimensions\n",
    "crop_width = 480\n",
    "crop_height = 480\n",
    "\n",
    "# Load the video clip\n",
    "clip = VideoFileClip(input_file)\n",
    "\n",
    "# Get the center coordinates for cropping\n",
    "center_x = clip.size[0] // 2\n",
    "center_y = clip.size[1] // 2\n",
    "\n",
    "# Calculate the top-left corner coordinates for cropping\n",
    "top_left_x = center_x - crop_width // 2\n",
    "top_left_y = center_y - crop_height // 2\n",
    "\n",
    "# Crop the video clip\n",
    "cropped_clip = clip.crop(x1=top_left_x, y1=top_left_y, x2=top_left_x + crop_width, y2=top_left_y + crop_height)\n",
    "\n",
    "# Set the audio of the cropped clip to the original audio\n",
    "cropped_clip = cropped_clip.set_audio(clip.audio)\n",
    "\n",
    "# Write the cropped clip to the output file\n",
    "cropped_clip.write_videofile(output_file, codec=\"libx264\", audio_codec=\"aac\")\n",
    "\n",
    "# Close the clips\n",
    "clip.close()\n",
    "cropped_clip.close()\n"
   ]
  },
  {
   "cell_type": "code",
   "execution_count": null,
   "metadata": {},
   "outputs": [],
   "source": [
    "from moviepy.editor import VideoFileClip\n",
    "import moviepy.video.fx.all as vfx\n",
    "\n",
    "# Input video file\n",
    "input_file = \"Thin-Plate-Spline-Motion-Model/temp/driver_orig.mp4\"\n",
    "\n",
    "# Output video file\n",
    "output_file = \"Thin-Plate-Spline-Motion-Model/temp/driver2.mp4\"\n",
    "\n",
    "# Crop dimensions\n",
    "crop_size = 480\n",
    "\n",
    "# Load the video clip\n",
    "clip = VideoFileClip(input_file)\n",
    "\n",
    "# Calculate the crop dimensions\n",
    "crop_x = (clip.size[0] - crop_size) // 2\n",
    "crop_y = (clip.size[1] - crop_size) // 2\n",
    "\n",
    "# Crop the video clip\n",
    "cropped_clip = clip.crop(x1=crop_x, y1=crop_y, x2=crop_x + crop_size, y2=crop_y + crop_size)\n",
    "\n",
    "# Resize the cropped clip to a square\n",
    "resized_clip = cropped_clip.fx(vfx.resize, width=crop_size, height=crop_size)\n",
    "\n",
    "# Set the audio of the resized clip to the original audio\n",
    "resized_clip = resized_clip.set_audio(clip.audio)\n",
    "\n",
    "# Write the resized clip to the output file\n",
    "resized_clip.write_videofile(output_file, codec=\"libx264\", audio_codec=\"aac\")\n",
    "\n",
    "# Close the clips\n",
    "clip.close()\n",
    "cropped_clip.close()\n",
    "resized_clip.close()\n"
   ]
  },
  {
   "cell_type": "code",
   "execution_count": null,
   "metadata": {},
   "outputs": [],
   "source": [
    "#input_file = \"Thin-Plate-Spline-Motion-Model/temp/driver_orig.mp4\"\n",
    "\n",
    "# Output video file\n",
    "#output_file = \"Thin-Plate-Spline-Motion-Model/temp/driver.mp4\"\n",
    "!ffmpeg -i Thin-Plate-Spline-Motion-Model/temp/driver_orig.mp4 -filter:v \"crop=512:512:(iw-512)/2:(ih-512)/2\" \\\n",
    "-c:a copy Thin-Plate-Spline-Motion-Model/temp/driver.mp4\n"
   ]
  },
  {
   "cell_type": "code",
   "execution_count": null,
   "metadata": {},
   "outputs": [],
   "source": [
    "import cv2\n",
    "from moviepy.editor import VideoClip\n",
    "\n",
    "def capture_frame(t):\n",
    "    # Open the camera\n",
    "    cap = cv2.VideoCapture(0)\n",
    "    \n",
    "    # Read a frame from the camera\n",
    "    ret, frame = cap.read()\n",
    "    \n",
    "    # Close the camera\n",
    "    cap.release()\n",
    "    \n",
    "    # Convert the frame from BGR to RGB\n",
    "    frame = cv2.cvtColor(frame, cv2.COLOR_BGR2RGB)\n",
    "    \n",
    "    return frame\n",
    "\n",
    "# Create a video clip from the capture_frame function\n",
    "video_clip = VideoClip(capture_frame, duration=10)\n",
    "\n",
    "# Display the video clip\n",
    "video_clip.preview()\n"
   ]
  },
  {
   "cell_type": "code",
   "execution_count": null,
   "metadata": {},
   "outputs": [],
   "source": [
    "input_file = \"Thin-Plate-Spline-Motion-Model/temp/drive.mp4"
   ]
  },
  {
   "cell_type": "code",
   "execution_count": null,
   "metadata": {},
   "outputs": [],
   "source": [
    "!ffmpeg -i Thin-Plate-Spline-Motion-Model/temp/driver.mp4 -ss 00:00:05 -vframes 1 -y Thin-Plate-Spline-Motion-Model/temp/source.png\n"
   ]
  },
  {
   "cell_type": "code",
   "execution_count": null,
   "metadata": {},
   "outputs": [],
   "source": [
    "!ls Thin-Plate-Spline-Motion-Model/temp"
   ]
  },
  {
   "cell_type": "code",
   "execution_count": null,
   "metadata": {},
   "outputs": [],
   "source": []
  }
 ],
 "metadata": {
  "accelerator": "GPU",
  "colab": {
   "include_colab_link": true,
   "provenance": []
  },
  "kernelspec": {
   "display_name": "cloned-base",
   "language": "python",
   "name": "cloned-base"
  },
  "language_info": {
   "codemirror_mode": {
    "name": "ipython",
    "version": 3
   },
   "file_extension": ".py",
   "mimetype": "text/x-python",
   "name": "python",
   "nbconvert_exporter": "python",
   "pygments_lexer": "ipython3",
   "version": "3.9.12"
  }
 },
 "nbformat": 4,
 "nbformat_minor": 1
}
