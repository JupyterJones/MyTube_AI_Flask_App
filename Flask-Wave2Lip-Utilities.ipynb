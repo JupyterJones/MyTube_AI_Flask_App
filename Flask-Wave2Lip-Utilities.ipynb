{
 "cells": [
  {
   "cell_type": "code",
   "execution_count": 4,
   "id": "74d85866",
   "metadata": {},
   "outputs": [],
   "source": [
    "cp Flask-Wave2Lip-Utilities.ipynb /home/jack/Desktop/content/"
   ]
  },
  {
   "cell_type": "code",
   "execution_count": 19,
   "id": "d063a35f",
   "metadata": {},
   "outputs": [
    {
     "name": "stdout",
     "output_type": "stream",
     "text": [
      "/mnt/HDD500/flask/FLASK\r\n"
     ]
    }
   ],
   "source": [
    "!pwd"
   ]
  },
  {
   "cell_type": "code",
   "execution_count": null,
   "id": "3e25bb9c",
   "metadata": {},
   "outputs": [],
   "source": [
    "/mnt/HDD500/flask/FLASK/Wav2Lip/content/sample_data"
   ]
  },
  {
   "cell_type": "code",
   "execution_count": 17,
   "id": "80e8ac83",
   "metadata": {},
   "outputs": [],
   "source": [
    "import sounddevice as sd\n",
    "import soundfile as sf\n",
    "\n",
    "# Open the WAV file\n",
    "wav_file = \"output.wav\"\n",
    "data, fs = sf.read(wav_file)\n",
    "\n",
    "# Play the audio\n",
    "sd.play(data, fs)\n",
    "sd.wait()\n"
   ]
  },
  {
   "cell_type": "code",
   "execution_count": 15,
   "id": "097bfbc6",
   "metadata": {},
   "outputs": [
    {
     "name": "stdout",
     "output_type": "stream",
     "text": [
      "Overwriting talk.txt\n"
     ]
    }
   ],
   "source": [
    "%%writefile talk.txt\n",
    "We will be playing with many new ideas. \n",
    "Jack seems to like experimenting with me and my AI friends.\n",
    "We will share our results with you.\n",
    "To encourage us, please comment like and subscribe.\n",
    "Tell me if you want a few instruction videos."
   ]
  },
  {
   "cell_type": "code",
   "execution_count": 18,
   "id": "a875b2c0",
   "metadata": {},
   "outputs": [
    {
     "data": {
      "text/plain": [
       "<_io.BufferedRandom name='Wav2Lip/content/sample_data/input_audio.wav'>"
      ]
     },
     "execution_count": 18,
     "metadata": {},
     "output_type": "execute_result"
    }
   ],
   "source": [
    "from gtts import gTTS\n",
    "from pydub import AudioSegment\n",
    "\n",
    "# Read text from file\n",
    "with open(\"talk.txt\", \"r\") as file:\n",
    "    text = file.read()\n",
    "\n",
    "# Generate audio from text\n",
    "tts = gTTS(text=text, lang='en')\n",
    "tts.save(\"output.mp3\")\n",
    "\n",
    "# Convert MP3 to WAV\n",
    "audio = AudioSegment.from_mp3(\"output.mp3\")\n",
    "audio.export(\"Wav2Lip/content/sample_data/input_audio.wav\", format=\"wav\")\n",
    "\n",
    "\n"
   ]
  },
  {
   "cell_type": "code",
   "execution_count": 10,
   "id": "32e16cf8",
   "metadata": {},
   "outputs": [],
   "source": [
    "from gtts import gTTS\n",
    "from pydub import AudioSegment\n",
    "#import simpleaudio as sa\n",
    "# Read text from file\n",
    "with open(\"talk.txt\", \"r\") as file:\n",
    "    text = file.read()\n",
    "\n",
    "tts = gTTS(text=text, lang='en')\n",
    "tts.save(\"output.mp3\")\n",
    "mp3_file = \"output.mp3\"\n",
    "wav_file = \"output.wav\"\n",
    "\n",
    "audio = AudioSegment.from_mp3(mp3_file)\n",
    "audio.export(wav_file, format=\"wav\")\n",
    "\n",
    "\n",
    "#def play_wav(file_path):\n",
    "#    wave_obj = sa.WaveObject.from_wave_file(file_path)\n",
    "#    play_obj = wave_obj.play()\n",
    "#    play_obj.wait_done()\n",
    "\n",
    "def play_mp3(file_path):\n",
    "    audio = AudioSegment.from_mp3(file_path)\n",
    "    audio.export(\"temp.wav\", format=\"wav\")\n",
    "\n",
    "\n",
    "# Play a WAV file\n",
    "wav_file = \"audio.wav\"\n",
    "#play_wav(wav_file)\n",
    "\n",
    "# Play an MP3 file\n",
    "mp3_file = \"audio.mp3\"\n",
    "\n"
   ]
  },
  {
   "cell_type": "code",
   "execution_count": null,
   "id": "99b8b9d9",
   "metadata": {},
   "outputs": [],
   "source": []
  },
  {
   "cell_type": "code",
   "execution_count": null,
   "id": "cfdeef35",
   "metadata": {},
   "outputs": [],
   "source": [
    "from pydub import AudioSegment\n",
    "\n",
    "mp3_file = \"output.mp3\"\n",
    "wav_file = \"output.wav\"\n",
    "\n",
    "audio = AudioSegment.from_mp3(mp3_file)\n",
    "audio.export(wav_file, format=\"wav\")\n"
   ]
  },
  {
   "cell_type": "code",
   "execution_count": 9,
   "id": "4031f57a",
   "metadata": {},
   "outputs": [
    {
     "name": "stdout",
     "output_type": "stream",
     "text": [
      "total 26040\r\n",
      "-rw-rw-r-- 1 1000 1000 259354 Apr 26 18:55 Leonardo_Select_Half_body_portrait_of_a_beautiful_woman_as_mad_0.jpg\r\n",
      "-rw-rw-r-- 1 1000 1000 271721 Apr 26 18:55 Leonardo_Select_Half_body_portrait_of_a_beautiful_woman_as_mad_3.jpg\r\n",
      "-rw-rw-r-- 1 1000 1000 243174 Apr 26 18:55 Leonardo_Select_Half_body_portrait_of_a_beautiful_woman_as_mad_2.jpg\r\n",
      "-rw-rw-r-- 1 1000 1000 259320 Apr 26 18:55 Leonardo_Select_Half_body_portrait_of_a_beautiful_woman_as_mad_1.jpg\r\n",
      "-rw-rw-r-- 1 1000 1000 249502 Apr 26 18:56 Leonardo_Select_Half_body_portrait_of_a_beautiful_woman_as_mad_0a.jpg\r\n",
      "-rw-rw-r-- 1 1000 1000 263846 Apr 26 18:57 Leonardo_Select_Half_body_portrait_of_a_beautiful_woman_as_mad_3a.jpg\r\n",
      "-rw-rw-r-- 1 1000 1000 231066 Apr 26 18:57 Leonardo_Select_Half_body_portrait_of_a_beautiful_woman_as_mad_2a.jpg\r\n",
      "-rw-rw-r-- 1 1000 1000 271083 Apr 26 18:57 Leonardo_Select_Half_body_portrait_of_a_beautiful_woman_as_mad_1a.jpg\r\n",
      "-rw-rw-r-- 1 1000 1000 233558 Apr 26 18:59 Leonardo_Select_Half_body_portrait_of_a_beautiful_woman_as_mad_3b.jpg\r\n",
      "-rw-rw-r-- 1 1000 1000 284250 Apr 26 18:59 Leonardo_Select_Half_body_portrait_of_a_beautiful_woman_as_mad_2b.jpg\r\n",
      "-rw-rw-r-- 1 1000 1000 282524 Apr 26 18:59 Leonardo_Select_Half_body_portrait_of_a_beautiful_woman_as_mad_1b.jpg\r\n",
      "-rw-rw-r-- 1 1000 1000 227998 Apr 26 18:59 Leonardo_Select_Half_body_portrait_of_a_beautiful_woman_as_mad_0b.jpg\r\n",
      "-rw-rw-r-- 1 1000 1000 275456 Apr 26 19:04 Leonardo_Select_Half_body_portrait_of_a_beautiful_woman_as_mad_3z.jpg\r\n",
      "-rw-rw-r-- 1 1000 1000 255801 Apr 26 19:04 Leonardo_Select_Half_body_portrait_of_a_beautiful_woman_as_mad_2z.jpg\r\n",
      "-rw-rw-r-- 1 1000 1000 260869 Apr 26 19:04 Leonardo_Select_Half_body_portrait_of_a_beautiful_woman_as_mad_1z.jpg\r\n",
      "-rw-rw-r-- 1 1000 1000 206493 Apr 26 19:05 Leonardo_Select_Half_body_portrait_of_a_beautiful_woman_as_mad_0z.jpg\r\n",
      "-rw-rw-r-- 1 1000 1000 248316 Apr 26 19:05 Leonardo_Select_Half_body_portrait_of_a_beautiful_woman_as_mad_3x.jpg\r\n",
      "-rw-rw-r-- 1 1000 1000 239905 Apr 26 19:05 Leonardo_Select_Half_body_portrait_of_a_beautiful_woman_as_mad_2x.jpg\r\n",
      "-rw-rw-r-- 1 1000 1000 261938 Apr 26 19:05 Leonardo_Select_Half_body_portrait_of_a_beautiful_woman_as_mad_1x.jpg\r\n",
      "-rw-rw-r-- 1 1000 1000 260651 Apr 26 19:05 Leonardo_Select_Half_body_portrait_of_a_beautiful_woman_as_mad_0c.jpg\r\n",
      "-rw-rw-r-- 1 1000 1000 251697 Apr 26 19:07 Leonardo_Select_Half_body_portrait_of_a_beautiful_woman_as_mad_3u.jpg\r\n",
      "-rw-rw-r-- 1 1000 1000 264025 Apr 26 19:07 Leonardo_Select_Half_body_portrait_of_a_beautiful_woman_as_mad_2u.jpg\r\n",
      "-rw-rw-r-- 1 1000 1000 272563 Apr 26 19:07 Leonardo_Select_Half_body_portrait_of_a_beautiful_woman_as_mad_1u.jpg\r\n",
      "-rw-rw-r-- 1 1000 1000 278682 Apr 26 19:07 Leonardo_Select_Half_body_portrait_of_a_beautiful_woman_as_mad_0u.jpg\r\n",
      "-rw-rw-r-- 1 1000 1000 241685 Apr 26 19:11 Leonardo_Select_Half_body_portrait_of_a_beautiful_woman_as_mad_t3.jpg\r\n",
      "-rw-rw-r-- 1 1000 1000 225888 Apr 26 19:12 Leonardo_Select_Half_body_portrait_of_a_beautiful_woman_as_mad_t2.jpg\r\n",
      "-rw-rw-r-- 1 1000 1000 277995 Apr 26 19:12 Leonardo_Select_Half_body_portrait_of_a_beautiful_woman_as_mad_t1.jpg\r\n",
      "-rw-rw-r-- 1 1000 1000 244594 Apr 26 19:12 Leonardo_Select_Half_body_portrait_of_a_beautiful_woman_as_mad_t0.jpg\r\n",
      "-rw-rw-r-- 1 1000 1000 248704 Apr 26 19:16 Leonardo_Signature_Half_body_portrait_of_a_beautiful_woman_asq_0.jpg\r\n",
      "-rw-rw-r-- 1 1000 1000 261915 Apr 26 19:16 Leonardo_Signature_Half_body_portrait_of_a_beautiful_woman_as_q1.jpg\r\n",
      "-rw-rw-r-- 1 1000 1000 319910 Apr 26 19:16 Leonardo_Signature_Half_body_portrait_of_a_beautiful_woman_as_q2.jpg\r\n",
      "-rw-rw-r-- 1 1000 1000 275318 Apr 26 19:16 Leonardo_Signature_Half_body_portrait_of_a_beautiful_woman_as_3q.jpg\r\n",
      "-rw-rw-r-- 1 1000 1000 252392 Apr 26 19:17 Leonardo_Signature_Half_body_portrait_of_a_beautiful_woman_as_w0.jpg\r\n",
      "-rw-rw-r-- 1 1000 1000 246982 Apr 26 19:17 Leonardo_Signature_Half_body_portrait_of_a_beautiful_woman_as_w1.jpg\r\n",
      "-rw-rw-r-- 1 1000 1000 248873 Apr 26 19:18 Leonardo_Signature_Half_body_portrait_of_a_beautiful_woman_ase_2.jpg\r\n",
      "-rw-rw-r-- 1 1000 1000 246646 Apr 26 19:18 Leonardo_Signature_Half_body_portrait_of_a_beautiful_woman_as_r3.jpg\r\n",
      "-rw-rw-r-- 1 1000 1000 301875 Apr 26 19:19 Leonardo_Signature_Half_body_portrait_of_a_beautiful_woman_as_d0.jpg\r\n",
      "-rw-rw-r-- 1 1000 1000 253507 Apr 26 19:19 Leonardo_Signature_Half_body_portrait_of_a_beautiful_woman_as_d1.jpg\r\n",
      "-rw-rw-r-- 1 1000 1000 286095 Apr 26 19:19 Leonardo_Signature_Half_body_portrait_of_a_beautiful_woman_as_d2.jpg\r\n",
      "-rw-rw-r-- 1 1000 1000 271142 Apr 26 19:20 Leonardo_Signature_Half_body_portrait_of_a_beautiful_woman_as_d3.jpg\r\n",
      "-rw-rw-r-- 1 1000 1000 277037 Apr 26 19:21 Leonardo_Signature_Half_body_portrait_of_a_beautiful_woman_asd_7.jpg\r\n",
      "-rw-rw-r-- 1 1000 1000 266563 Apr 26 19:21 Leonardo_Signature_Half_body_portrait_of_a_beautiful_womadn_as_6.jpg\r\n",
      "-rw-rw-r-- 1 1000 1000 259342 Apr 26 19:21 Leonardo_Signature_Half_body_portrait_of_a_beautiful_woman_ads_2.jpg\r\n",
      "-rw-rw-r-- 1 1000 1000 222613 Apr 26 19:21 Leonardo_Signature_Half_body_portrait_of_a_beautiful_woman_das_1.jpg\r\n",
      "-rw-rw-r-- 1 1000 1000 261426 Apr 26 19:22 Leonardo_Signature_Half_body_portrait_of_a_beautiful_woman_as_0.jpg\r\n",
      "-rw-rw-r-- 1 1000 1000 237632 Apr 26 19:23 Leonardo_Signature_Half_bbody_portrait_of_a_beautiful_woman_as_0.jpg\r\n",
      "-rw-rw-r-- 1 1000 1000 256541 Apr 26 19:23 Leonardo_Signature_Half_body_portraitn_of_a_beautiful_woman_as_1.jpg\r\n",
      "-rw-rw-r-- 1 1000 1000 262771 Apr 26 19:23 Leonardo_Signature_Half_body_portrait_of_a_beautiful_womanm_as_2.jpg\r\n",
      "-rw-rw-r-- 1 1000 1000 265119 Apr 26 19:24 Leonardo_Signature_Half_body_portrait_of_a_beautiful_wboman_as_3.jpg\r\n",
      "-rw-rw-r-- 1 1000 1000 274189 Apr 26 19:24 Leonardo_Signature_Half_body_portrait_of_a_beautiful_womanb_as_4.jpg\r\n",
      "-rw-rw-r-- 1 1000 1000 272790 Apr 26 19:24 Leonardo_Signature_Half_body_portrait_of_a_beautiful_womanb_as_5.jpg\r\n",
      "-rw-rw-r-- 1 1000 1000 263722 Apr 26 19:24 Leonardo_Signature_Half_body_portrait_of_a_beautifulb_woman_as_6.jpg\r\n",
      "-rw-rw-r-- 1 1000 1000 248075 Apr 26 19:24 Leonardo_Signature_Half_body_portrait_of_a_beautiful_womabn_as_7.jpg\r\n",
      "-rw-rw-r-- 1 1000 1000 299718 Apr 26 19:29 Leonardo_Signature_Half_body_portrait_of_a_beautiful_wboman_as_7.jpg\r\n",
      "-rw-rw-r-- 1 1000 1000 275504 Apr 26 19:29 Leonardo_Signature_Half_body_portrait_of_a_beautbiful_woman_as_6.jpg\r\n",
      "-rw-rw-r-- 1 1000 1000 280030 Apr 26 19:29 Leonardo_Signature_Half_body_portrait_of_a_bveautiful_woman_as_5.jpg\r\n",
      "-rw-rw-r-- 1 1000 1000 280183 Apr 26 19:29 Leonardo_Signature_Half_body_pocrtrait_of_a_beautiful_woman_as_4.jpg\r\n",
      "-rw-rw-r-- 1 1000 1000 306859 Apr 26 19:29 Leonardo_Signature_Half_cbody_pocrtrait_of_a_beautiful_woman_as_4.jpg\r\n",
      "-rw-rw-r-- 1 1000 1000 282730 Apr 26 19:29 Leonardo_Signature_Half_body_portrait_of_a_beautiful_vbwoman_as_2.jpg\r\n",
      "-rw-rw-r-- 1 1000 1000 277415 Apr 26 19:30 Leonardo_Signature_Half_body_portcvrait_of_a_beautiful_woman_as_1.jpg\r\n",
      "-rw-rw-r-- 1 1000 1000 284794 Apr 26 19:31 Leonardo_Signature_Half_bod1y_portcvrait_of_a_beautiful_woman_as_1.jpg\r\n",
      "-rw-rw-r-- 1 1000 1000 244620 Apr 26 19:32 Leonardo_Signature_Half_body2_portrait_of_a_very_beautiful_Nubi_1.jpg\r\n",
      "-rw-rw-r-- 1 1000 1000 286365 Apr 26 19:32 Leonardo_Signature_Half_body_portrait_of_a_very_be3autiful_Nubi_2.jpg\r\n",
      "-rw-rw-r-- 1 1000 1000 298642 Apr 26 19:32 Leonardo_Signature_Half_body_portrait_of_a_very_beauti4ful_Nubi_3.jpg\r\n",
      "-rw-rw-r-- 1 1000 1000 268498 Apr 26 19:32 Leonardo_Signature_Half_body_portrait_of_a_very_be5autiful_Nubi_4.jpg\r\n",
      "-rw-rw-r-- 1 1000 1000 230963 Apr 26 19:32 Leonardo_Signature_Half_body_portrait_of_a_very_beaut6iful_Nubi_5.jpg\r\n",
      "-rw-rw-r-- 1 1000 1000 276918 Apr 26 19:32 Leonardo_Signature_Half_body_portrait_of_a_very_beautiful_Nubi_6.jpg\r\n",
      "-rw-rw-r-- 1 1000 1000 251815 Apr 26 19:32 Leonardo_Signature_Half_body_portrait_of_a_very_beautiful_Nubi_7.jpg\r\n",
      "-rw-rw-r-- 1 1000 1000 233941 Apr 26 19:36 Leonardo_Signature_Half_body_portrait_of_a_very_beautiful_Roma_0.jpg\r\n",
      "-rw-rw-r-- 1 1000 1000 279283 Apr 26 19:36 Leonardo_Signature_Half_body_portrait_of_a_very_beautiful_Roma_1.jpg\r\n",
      "-rw-rw-r-- 1 1000 1000 232310 Apr 26 19:36 Leonardo_Signature_Half_body_portrait_of_a_very_beautiful_Roma_2.jpg\r\n",
      "-rw-rw-r-- 1 1000 1000 255904 Apr 26 19:36 Leonardo_Signature_Half_body_portrait_of_a_very_beautiful_Roma_3.jpg\r\n",
      "-rw-rw-r-- 1 1000 1000 261819 Apr 26 19:36 Leonardo_Signature_Half_body_portrait_of_a_very_beautiful_Roma_4.jpg\r\n",
      "-rw-rw-r-- 1 1000 1000 251007 Apr 26 19:36 Leonardo_Signature_Half_body_portrait_of_a_very_beautiful_Roma_5.jpg\r\n",
      "-rw-rw-r-- 1 1000 1000 281411 Apr 26 19:37 Leonardo_Signature_Half_body_portrait_of_a_very_beautiful_Roma_6.jpg\r\n",
      "-rw-rw-r-- 1 1000 1000 300067 Apr 26 19:38 Leonardo_Signature_Half_body_portrait_of_a_very_beautiful_Cath_0.jpg\r\n",
      "-rw-rw-r-- 1 1000 1000 275137 Apr 26 19:38 Leonardo_Signature_Half_body_portrait_of_a_very_beautiful_Cath_1.jpg\r\n",
      "-rw-rw-r-- 1 1000 1000 295222 Apr 26 19:38 Leonardo_Signature_Half_body_portrait_of_a_very_beautiful_Cath_2.jpg\r\n",
      "-rw-rw-r-- 1 1000 1000 264587 Apr 26 19:38 Leonardo_Signature_Half_body_portrait_of_a_very_beautiful_Cath_3.jpg\r\n",
      "-rw-rw-r-- 1 1000 1000 267638 Apr 26 19:38 Leonardo_Signature_Half_body_portrait_of_a_very_beautiful_Cath_4.jpg\r\n",
      "-rw-rw-r-- 1 1000 1000 268382 Apr 26 19:38 Leonardo_Signature_Half_body_portrait_of_a_very_beautiful_Cath_5.jpg\r\n",
      "-rw-rw-r-- 1 1000 1000 275391 Apr 26 19:38 Leonardo_Signature_Half_body_portrait_of_a_very_beautiful_Cath_6.jpg\r\n",
      "-rw-rw-r-- 1 1000 1000 264594 Apr 26 19:39 Leonardo_Signature_Half_body_portrait_of_a_very_beautiful_Cath_7.jpg\r\n",
      "-rw-rw-r-- 1 1000 1000 267409 Apr 26 19:40 Leonardo_Signature_Half_body_portrait_of_a_very_beautiful_peas_0.jpg\r\n",
      "-rw-rw-r-- 1 1000 1000 293106 Apr 26 19:40 Leonardo_Signature_Half_body_portrait_of_a_very_beautiful_peas_1.jpg\r\n",
      "-rw-rw-r-- 1 1000 1000 291278 Apr 26 19:40 Leonardo_Signature_Half_body_portrait_of_a_very_beautiful_peas_2.jpg\r\n",
      "-rw-rw-r-- 1 1000 1000 277501 Apr 26 19:40 Leonardo_Signature_Half_body_portrait_of_a_very_beautiful_peas_3.jpg\r\n",
      "-rw-rw-r-- 1 1000 1000 290933 Apr 26 19:41 Leonardo_Signature_Half_body_portrait_of_a_very_beautiful_peas_4.jpg\r\n",
      "-rw-rw-r-- 1 1000 1000 263674 Apr 26 19:41 Leonardo_Signature_Half_body_portrait_of_a_very_beautiful_peas_5.jpg\r\n",
      "-rw-rw-r-- 1 1000 1000 321567 Apr 26 19:41 Leonardo_Signature_Half_body_portrait_of_a_very_beautiful_peas_6.jpg\r\n",
      "-rw-rw-r-- 1 1000 1000 276237 Apr 26 19:41 Leonardo_Signature_Half_body_portrait_of_a_very_beautiful_peas_7.jpg\r\n",
      "-rw-rw-r-- 1 1000 1000 270942 Apr 26 19:44 Leonardo_Signature_Half_body_portrait_of_a_very_beautiful_youn_0.jpg\r\n",
      "-rw-rw-r-- 1 1000 1000 244443 Apr 26 19:45 Leonardo_Signature_Half_body_portrait_of_a_very_beautiful_youn_1.jpg\r\n",
      "-rw-rw-r-- 1 1000 1000 266834 Apr 26 19:45 Leonardo_Signature_Half_body_portrait_of_a_very_beautiful_youn_2.jpg\r\n",
      "-rw-rw-r-- 1 1000 1000 254145 Apr 26 19:45 Leonardo_Signature_Half_body_portrait_of_a_very_beautiful_youn_3.jpg\r\n",
      "-rw-rw-r-- 1 1000 1000 258850 Apr 26 19:45 Leonardo_Signature_Half_body_portrait_of_a_very_beautiful_youn_4.jpg\r\n",
      "-rw-rw-r-- 1 1000 1000 269668 Apr 26 19:45 Leonardo_Signature_Half_body_portrait_of_a_very_beautiful_youn_5.jpg\r\n",
      "-rw-rw-r-- 1 1000 1000 259281 Apr 26 19:45 Leonardo_Signature_Half_body_portrait_of_a_very_beautiful_youn_6.jpg\r\n",
      "-rw-rw-r-- 1 1000 1000 304874 Apr 26 19:45 Leonardo_Signature_Half_body_portrait_of_a_very_beautiful_youn_7.jpg\r\n",
      "drwxrwxr-x 6 1000 1000  24576 May 20 13:55 ..\r\n",
      "-rw-rw-r-- 1 1000 1000 100321 May 20 14:34 00034-3507522950.jpeg\r\n",
      "drwxrwxr-x 2 1000 1000  16384 May 20 14:39 .\r\n",
      "-rw-rw-r-- 1 1000 1000  15231 May 20 14:39 square_to_video.jpeg\r\n"
     ]
    }
   ],
   "source": [
    "!ls -rant static/images/squares"
   ]
  },
  {
   "cell_type": "code",
   "execution_count": 5,
   "id": "505b08f9",
   "metadata": {},
   "outputs": [
    {
     "name": "stdout",
     "output_type": "stream",
     "text": [
      "input_audio0.wav\t    input_audio-old.wav  input_video-.mp4\r\n",
      "input_audio1.wav\t    input_audio.wav\t input_video.mp4\r\n",
      "input_audio-4.wav\t    input_video2.mp4\t input_video_.mp4\r\n",
      "input_audio-interestin.wav  input_video-4.mp4\t input_video-new.mp4\r\n",
      "input_audio-.jpg\t    input_video-5.mp4\t input_video-old.mp4\r\n",
      "input_audio-new.wav\t    input_video5.mp4\t input_videoS.mp4\r\n"
     ]
    }
   ],
   "source": [
    "!ls Wav2Lip/content/sample_data"
   ]
  },
  {
   "cell_type": "code",
   "execution_count": 1,
   "id": "bd4aaf21",
   "metadata": {},
   "outputs": [
    {
     "name": "stdout",
     "output_type": "stream",
     "text": [
      "-v: command not found\n",
      "\n"
     ]
    }
   ],
   "source": [
    "length=ffprobe -v error -show_entries format=duration -of default=noprint_wrappers=1:nokey=1 Wav2Lip/content/sample_data/input_audio.wav\n",
    "echo ${length}"
   ]
  },
  {
   "cell_type": "code",
   "execution_count": 1,
   "id": "7aa5f295",
   "metadata": {},
   "outputs": [
    {
     "name": "stdout",
     "output_type": "stream",
     "text": [
      "Input #0, image2, from 'use.jpg':\n",
      "  Duration: 00:00:00.04, start: 0.000000, bitrate: 23201 kb/s\n",
      "    Stream #0:0: Video: mjpeg (Progressive), yuvj444p(pc, bt470bg/unknown/unknown), 508x508 [SAR 300:300 DAR 1:1], 25 fps, 25 tbr, 25 tbn, 25 tbc\n",
      "Stream mapping:\n",
      "  Stream #0:0 -> #0:0 (mjpeg (native) -> h264 (libx264))\n",
      "Press [q] to stop, [?] for help\n",
      "\u001b[48;5;0m\u001b[38;5;153m[swscaler @ 0x558d865cfdc0] \u001b[0m\u001b[48;5;0m\u001b[38;5;226mdeprecated pixel format used, make sure you did set range correctly\n",
      "\u001b[0m\u001b[48;5;0m\u001b[38;5;51m[libx264 @ 0x558d860aca80] \u001b[0musing SAR=1/1\n",
      "\u001b[48;5;0m\u001b[38;5;51m[libx264 @ 0x558d860aca80] \u001b[0musing cpu capabilities: MMX2 SSE2Fast LZCNT SSSE3 SSE4.2\n",
      "\u001b[48;5;0m\u001b[38;5;51m[libx264 @ 0x558d860aca80] \u001b[0mprofile High, level 3.0\n",
      "\u001b[48;5;0m\u001b[38;5;51m[libx264 @ 0x558d860aca80] \u001b[0m264 - core 155 r2917 0a84d98 - H.264/MPEG-4 AVC codec - Copyleft 2003-2018 - http://www.videolan.org/x264.html - options: cabac=1 ref=3 deblock=1:0:0 analyse=0x3:0x113 me=hex subme=7 psy=1 psy_rd=1.00:0.00 mixed_ref=1 me_range=16 chroma_me=1 trellis=1 8x8dct=1 cqm=0 deadzone=21,11 fast_pskip=1 chroma_qp_offset=-2 threads=3 lookahead_threads=1 sliced_threads=0 nr=0 decimate=1 interlaced=0 bluray_compat=0 constrained_intra=0 bframes=3 b_pyramid=2 b_adapt=1 b_bias=0 direct=1 weightb=1 open_gop=0 weightp=2 keyint=250 keyint_min=25 scenecut=40 intra_refresh=0 rc_lookahead=40 rc=crf mbtree=1 crf=23.0 qcomp=0.60 qpmin=0 qpmax=69 qpstep=4 ip_ratio=1.40 aq=1:1.00\n",
      "Output #0, mp4, to 'Wav2Lip/content/sample_data/input_video.mp4':\n",
      "  Metadata:\n",
      "    encoder         : Lavf58.29.100\n",
      "    Stream #0:0: Video: h264 (libx264) (avc1 / 0x31637661), yuv420p, 508x508 [SAR 1:1 DAR 1:1], q=-1--1, 25 fps, 12800 tbn, 25 tbc\n",
      "    Metadata:\n",
      "      encoder         : Lavc58.54.100 libx264\n",
      "    Side data:\n",
      "      cpb: bitrate max/min/avg: 0/0/0 buffer size: 0 vbv_delay: -1\n",
      "frame=  425 fps=132 q=-1.0 Lsize=     197kB time=00:00:16.88 bitrate=  95.7kbits/s speed=5.25x    \n",
      "video:191kB audio:0kB subtitle:0kB other streams:0kB global headers:0kB muxing overhead: 3.034972%\n",
      "\u001b[48;5;0m\u001b[38;5;51m[libx264 @ 0x558d860aca80] \u001b[0mframe I:2     Avg QP:18.63  size: 92270\n",
      "\u001b[48;5;0m\u001b[38;5;51m[libx264 @ 0x558d860aca80] \u001b[0mframe P:107   Avg QP:20.81  size:    46\n",
      "\u001b[48;5;0m\u001b[38;5;51m[libx264 @ 0x558d860aca80] \u001b[0mframe B:316   Avg QP:32.34  size:    19\n",
      "\u001b[48;5;0m\u001b[38;5;51m[libx264 @ 0x558d860aca80] \u001b[0mconsecutive B-frames:  0.7%  0.5%  0.0% 98.8%\n",
      "\u001b[48;5;0m\u001b[38;5;51m[libx264 @ 0x558d860aca80] \u001b[0mmb I  I16..4:  0.1% 82.4% 17.4%\n",
      "\u001b[48;5;0m\u001b[38;5;51m[libx264 @ 0x558d860aca80] \u001b[0mmb P  I16..4:  0.0%  0.0%  0.0%  P16..4:  0.8%  0.0%  0.0%  0.0%  0.0%    skip:99.2%\n",
      "\u001b[48;5;0m\u001b[38;5;51m[libx264 @ 0x558d860aca80] \u001b[0mmb B  I16..4:  0.0%  0.0%  0.0%  B16..8:  0.0%  0.0%  0.0%  direct: 0.0%  skip:100.0%  L0:10.0% L1:90.0% BI: 0.0%\n",
      "\u001b[48;5;0m\u001b[38;5;51m[libx264 @ 0x558d860aca80] \u001b[0m8x8 transform intra:82.4% inter:85.7%\n",
      "\u001b[48;5;0m\u001b[38;5;51m[libx264 @ 0x558d860aca80] \u001b[0mcoded y,uvDC,uvAC intra: 98.6% 99.8% 97.6% inter: 0.0% 0.2% 0.0%\n",
      "\u001b[48;5;0m\u001b[38;5;51m[libx264 @ 0x558d860aca80] \u001b[0mi16 v,h,dc,p:  0%  0%  0% 100%\n",
      "\u001b[48;5;0m\u001b[38;5;51m[libx264 @ 0x558d860aca80] \u001b[0mi8 v,h,dc,ddl,ddr,vr,hd,vl,hu: 16%  8% 14%  9% 11% 13%  9% 11% 10%\n",
      "\u001b[48;5;0m\u001b[38;5;51m[libx264 @ 0x558d860aca80] \u001b[0mi4 v,h,dc,ddl,ddr,vr,hd,vl,hu: 14%  8% 11%  8% 16% 14% 12% 10%  8%\n",
      "\u001b[48;5;0m\u001b[38;5;51m[libx264 @ 0x558d860aca80] \u001b[0mi8c dc,h,v,p: 48% 18% 23% 11%\n",
      "\u001b[48;5;0m\u001b[38;5;51m[libx264 @ 0x558d860aca80] \u001b[0mWeighted P-Frames: Y:0.0% UV:0.0%\n",
      "\u001b[48;5;0m\u001b[38;5;51m[libx264 @ 0x558d860aca80] \u001b[0mref P L0: 97.1%  0.1%  2.2%  0.6%\n",
      "\u001b[48;5;0m\u001b[38;5;51m[libx264 @ 0x558d860aca80] \u001b[0mref B L1: 88.9% 11.1%\n",
      "\u001b[48;5;0m\u001b[38;5;51m[libx264 @ 0x558d860aca80] \u001b[0mkb/s:91.92\n"
     ]
    }
   ],
   "source": [
    "length=$(ffprobe -v error -show_entries format=duration -of default=noprint_wrappers=1:nokey=1 Wav2Lip/content/sample_data/input_audio.wav)\n",
    "ffmpeg -hide_banner -loop 1 -i use.jpg -c:v libx264 -t $length -pix_fmt yuv420p Wav2Lip/content/sample_data/input_video.mp4\n"
   ]
  },
  {
   "cell_type": "code",
   "execution_count": 5,
   "id": "852ce8fd",
   "metadata": {},
   "outputs": [
    {
     "name": "stdout",
     "output_type": "stream",
     "text": [
      "ffplay version N-108064-gdb85e01fd7 Copyright (c) 2003-2022 the FFmpeg developers\n",
      "  built with gcc 9 (Ubuntu 9.4.0-1ubuntu1~20.04.1)\n",
      "  configuration: \n",
      "  libavutil      57. 36.101 / 57. 36.101\n",
      "  libavcodec     59. 42.104 / 59. 42.104\n",
      "  libavformat    59. 30.101 / 59. 30.101\n",
      "  libavdevice    59.  8.101 / 59.  8.101\n",
      "  libavfilter     8. 48.100 /  8. 48.100\n",
      "  libswscale      6.  8.108 /  6.  8.108\n",
      "  libswresample   4.  9.100 /  4.  9.100\n",
      "Input #0, mov,mp4,m4a,3gp,3g2,mj2, from 'Wav2Lip/content/sample_data/video.mp4':\n",
      "  Metadata:\n",
      "    major_brand     : isom\n",
      "    minor_version   : 512\n",
      "    compatible_brands: isomiso2avc1mp41\n",
      "    encoder         : Lavf58.29.100\n",
      "  Duration: 00:01:08.24, start: 0.000000, bitrate: 15 kb/s\n",
      "  Stream #0:0[0x1](und): Video: h264 (High) (avc1 / 0x31637661), yuv420p(progressive), 240x240 [SAR 1:1 DAR 1:1], 12 kb/s, 25 fps, 25 tbr, 12800 tbn (default)\n",
      "    Metadata:\n",
      "      handler_name    : VideoHandler\n",
      "      vendor_id       : [0][0][0][0]\n",
      "  36.91 M-V: -0.039 fd=   2 aq=    0KB vq=    0KB sq=    0B f=0/0   \n"
     ]
    }
   ],
   "source": [
    "ffplay Wav2Lip/content/sample_data/video.mp4"
   ]
  },
  {
   "cell_type": "code",
   "execution_count": 3,
   "id": "4b0cbb78",
   "metadata": {},
   "outputs": [
    {
     "name": "stdout",
     "output_type": "stream",
     "text": [
      "68.256000\n"
     ]
    }
   ],
   "source": [
    "length=$(ffprobe -v error -show_entries format=duration -of default=noprint_wrappers=1:nokey=1 Wav2Lip/content/sample_data/input_audio.wav)\n",
    "echo $length\n",
    "ffmpeg -loop 1 -i static/images/squares/square_to_video.jpeg -c:v libx264 -t ${length} -pix_fmt yuv420p Wav2Lip/content/sample_data/video.mp4"
   ]
  },
  {
   "cell_type": "code",
   "execution_count": null,
   "id": "313aa38f",
   "metadata": {},
   "outputs": [],
   "source": [
    "ffmpeg -loop 1 -i static/images/squares/square_to_video.jpeg -c:v libx264 -t ${length} -pix_fmt yuv420p Wav2Lip/content/sample_data/video.mp4\n"
   ]
  },
  {
   "cell_type": "code",
   "execution_count": 10,
   "id": "a86e77f0",
   "metadata": {},
   "outputs": [
    {
     "ename": "NotADirectoryError",
     "evalue": "[Errno 20] Not a directory: 'static/images/squares/square_to_video.jpeg'",
     "output_type": "error",
     "traceback": [
      "\u001b[0;31m---------------------------------------------------------------------------\u001b[0m",
      "\u001b[0;31mNotADirectoryError\u001b[0m                        Traceback (most recent call last)",
      "Cell \u001b[0;32mIn[10], line 11\u001b[0m\n\u001b[1;32m      8\u001b[0m video_name \u001b[38;5;241m=\u001b[39m \u001b[38;5;124m'\u001b[39m\u001b[38;5;124moutput_video.mp4\u001b[39m\u001b[38;5;124m'\u001b[39m\n\u001b[1;32m     10\u001b[0m \u001b[38;5;66;03m# Retrieve the list of image filenames from the folder\u001b[39;00m\n\u001b[0;32m---> 11\u001b[0m images \u001b[38;5;241m=\u001b[39m [img \u001b[38;5;28;01mfor\u001b[39;00m img \u001b[38;5;129;01min\u001b[39;00m \u001b[43mos\u001b[49m\u001b[38;5;241;43m.\u001b[39;49m\u001b[43mlistdir\u001b[49m\u001b[43m(\u001b[49m\u001b[43mimage_folder\u001b[49m\u001b[43m)\u001b[49m \u001b[38;5;28;01mif\u001b[39;00m img\u001b[38;5;241m.\u001b[39mendswith(\u001b[38;5;124m'\u001b[39m\u001b[38;5;124m.jpg\u001b[39m\u001b[38;5;124m'\u001b[39m)]\n\u001b[1;32m     13\u001b[0m \u001b[38;5;66;03m# Sort the image filenames in ascending order to maintain the correct sequence\u001b[39;00m\n\u001b[1;32m     14\u001b[0m images\u001b[38;5;241m.\u001b[39msort()\n",
      "\u001b[0;31mNotADirectoryError\u001b[0m: [Errno 20] Not a directory: 'static/images/squares/square_to_video.jpeg'"
     ]
    }
   ],
   "source": [
    "import cv2\n",
    "import os\n",
    "\n",
    "# Path to the folder containing the images\n",
    "image_folder = 'static/images/squares/square_to_video.jpeg'\n",
    "\n",
    "# Output video file name\n",
    "video_name = 'output_video.mp4'\n",
    "\n",
    "# Retrieve the list of image filenames from the folder\n",
    "images = [img for img in os.listdir(image_folder) if img.endswith('.jpg')]\n",
    "\n",
    "# Sort the image filenames in ascending order to maintain the correct sequence\n",
    "images.sort()\n",
    "\n",
    "# Set the video frame size based on the dimensions of the first image\n",
    "frame = cv2.imread(os.path.join(image_folder, images[0]))\n",
    "height, width, _ = frame.shape\n",
    "frame_size = (width, height)\n",
    "\n",
    "# Create a VideoWriter object to generate the video file\n",
    "video = cv2.VideoWriter(video_name, cv2.VideoWriter_fourcc(*'mp4v'), 30, frame_size)\n",
    "\n",
    "# Iterate over the images and write each frame to the video\n",
    "for image in images:\n",
    "    frame = cv2.imread(os.path.join(image_folder, image))\n",
    "    video.write(frame)\n",
    "\n",
    "# Release the video object and destroy any open windows\n",
    "video.release()\n",
    "cv2.destroyAllWindows()\n"
   ]
  },
  {
   "cell_type": "code",
   "execution_count": null,
   "id": "cef4dadd",
   "metadata": {},
   "outputs": [],
   "source": []
  }
 ],
 "metadata": {
  "kernelspec": {
   "display_name": "Bash",
   "language": "bash",
   "name": "bash"
  },
  "language_info": {
   "codemirror_mode": "shell",
   "file_extension": ".sh",
   "mimetype": "text/x-sh",
   "name": "bash"
  }
 },
 "nbformat": 4,
 "nbformat_minor": 5
}
