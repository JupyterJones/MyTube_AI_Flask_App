{
 "cells": [
  {
   "cell_type": "code",
   "execution_count": null,
   "id": "39b9ee23",
   "metadata": {},
   "outputs": [],
   "source": [
    "from PIL import Image\n",
    "import random\n",
    "import glob\n",
    "from random import randint\n",
    "nim = Image.new(\"RGB\", (4000,640), (0,0,0))\n",
    "images = random.sample(glob.glob('thumbs/*.jpg'),20)"
   ]
  },
  {
   "cell_type": "code",
   "execution_count": null,
   "id": "f62cc8e4",
   "metadata": {},
   "outputs": [],
   "source": [
    "from PIL import Image\n",
    "import random\n",
    "import glob\n",
    "from random import randint\n",
    "def makecol(nim,images):\n",
    "    for i in range(0, len(images)):\n",
    "        x = randint(0,nim.size[0])\n",
    "        y = randint(0,nim.size[1])\n",
    "        nim.paste(images[i], (x,y))\n",
    "        return nim\n",
    "nim = Image.new(\"RGB\", (4000,640), (250,250,250))\n",
    "images = random.sample(glob.glob('thumbs/*.jpg'),20)\n",
    "makecol(nim,images)"
   ]
  },
  {
   "cell_type": "code",
   "execution_count": null,
   "id": "f3d9a0f1",
   "metadata": {},
   "outputs": [],
   "source": [
    "from PIL import Image\n",
    "import random\n",
    "import glob\n",
    "from random import randint\n",
    "\n",
    "def makecol(nim, images):\n",
    "    for i in range(len(images)):\n",
    "        x = randint(0, nim.size[0])\n",
    "        y = randint(0, nim.size[1])\n",
    "        nim.paste(images[i], (x, y))\n",
    "    return nim\n",
    "\n",
    "nim = Image.new(\"RGB\", (4000, 640), (250, 250, 250))\n",
    "images = random.sample(glob.glob('thumbs/*.jpg'), 20)\n",
    "makecol(nim, images)\n"
   ]
  },
  {
   "cell_type": "code",
   "execution_count": null,
   "id": "bb981efb",
   "metadata": {},
   "outputs": [],
   "source": [
    "from PIL import Image\n",
    "import random\n",
    "import glob\n",
    "from random import randint\n",
    "\n",
    "def makecol(nim, images):\n",
    "    for i in range(len(images)):\n",
    "        x = randint(0, nim.size[0])\n",
    "        y = randint(0, nim.size[1])\n",
    "        im = Image.open(images[i])\n",
    "        box = (x, y, x + im.size[0], y + im.size[1])\n",
    "        nim.paste(im, box)\n",
    "    return nim\n",
    "\n",
    "nim = Image.new(\"RGB\", (6000, 640), (250, 250, 250))\n",
    "images = random.sample(glob.glob('thumbs/*.png'), 100)\n",
    "makecol(nim, images).save(\"START2.png\")\n"
   ]
  },
  {
   "cell_type": "code",
   "execution_count": null,
   "id": "c55b9e3b",
   "metadata": {},
   "outputs": [],
   "source": [
    "nim = Image.open(\"START2.png\")\n",
    "images = random.sample(glob.glob('thumbs/*.png'), 1000)\n",
    "im = makecol(nim, images).save(\"START2.png\")\n",
    "im"
   ]
  },
  {
   "cell_type": "code",
   "execution_count": null,
   "id": "54d03609",
   "metadata": {},
   "outputs": [],
   "source": [
    "view = Image.open(\"START2.png\")\n",
    "view"
   ]
  },
  {
   "cell_type": "code",
   "execution_count": null,
   "id": "28ba0002",
   "metadata": {},
   "outputs": [],
   "source": [
    "from PIL import Image\n",
    "import os\n",
    "\n",
    "def find_images_with_width_gt_4000(root_dir):\n",
    "    for subdir, dirs, files in os.walk(root_dir):\n",
    "        for file in files:\n",
    "            filepath = os.path.join(subdir, file)\n",
    "            try:\n",
    "                with Image.open(filepath) as img:\n",
    "                    if img.width > 4000 and (filepath.endswith('.jpg') or filepath.endswith('.png')):\n",
    "                        print(f\"{filepath} has width greater than 4000 pixels\")\n",
    "            except:\n",
    "                pass\n",
    "\n",
    "find_images_with_width_gt_4000('/home/jack')\n"
   ]
  },
  {
   "cell_type": "code",
   "execution_count": null,
   "id": "afe8a136",
   "metadata": {},
   "outputs": [],
   "source": [
    "from PIL import Image\n",
    "import os\n",
    "import shutil\n",
    "\n",
    "def find_copy_long_images(root_dir, dest_dir):\n",
    "    for subdir, dirs, files in os.walk(root_dir):\n",
    "        for file in files:\n",
    "            filepath = os.path.join(subdir, file)\n",
    "            try:\n",
    "                with Image.open(filepath) as img:\n",
    "                    if img.width > 400 and (filepath.endswith('.jpg') or filepath.endswith('.png')):\n",
    "                        count += 1\n",
    "                        dest_file = os.path.join(dest_dir, f\"{name}_{count}{ext}\")\n",
    "                        shutil.copy(filepath, os.path.join(dest_dir, file))\n",
    "                        print(f\"{filepath} copied to {os.path.join(dest_dir, file)}\")\n",
    "            except:\n",
    "                pass\n",
    "\n",
    "find_copy_long_images('/home/jack/Desktop/',os.path.expanduser('~/Desktop/video_backgrounds'))\n"
   ]
  },
  {
   "cell_type": "code",
   "execution_count": null,
   "id": "df745f84",
   "metadata": {},
   "outputs": [],
   "source": [
    "from PIL import Image\n",
    "import os\n",
    "import shutil\n",
    "\n",
    "def find_and_copy_long_images(root_dir, dest_dir):\n",
    "    for subdir, dirs, files in os.walk(root_dir):\n",
    "        for file in files:\n",
    "            filepath = os.path.join(subdir, file)\n",
    "            try:\n",
    "                with Image.open(filepath) as img:\n",
    "                    print(filepath)\n",
    "                    if img.width > 40 and (filepath.endswith('.jpg') or filepath.endswith('.png')):\n",
    "                        dest_file = os.path.join(dest_dir, file)\n",
    "                        while os.path.exists(dest_file):\n",
    "                            name, ext = os.path.splitext(file)\n",
    "                            dest_file = os.path.join(dest_dir, f\"{name}_{cnt}{ext}\")\n",
    "                            cnt += 1\n",
    "                        shutil.copy(filepath, dest_file)\n",
    "                        print(f\"{filepath} copied to {dest_file}\")\n",
    "            except:\n",
    "                pass\n",
    "\n",
    "find_and_copy_long_images('/home/jack/Desktop', os.path.expanduser('~/Desktop/long_images'))\n"
   ]
  },
  {
   "cell_type": "code",
   "execution_count": null,
   "id": "8e7a37b4",
   "metadata": {},
   "outputs": [],
   "source": [
    "from PIL import Image\n",
    "import os\n",
    "import shutil\n",
    "\n",
    "def find_and_copy_long_images(root_dir, dest_dir):\n",
    "    for subdir, dirs, files in os.walk(root_dir):\n",
    "        for file in files:\n",
    "            filepath = os.path.join(subdir, file)\n",
    "            try:\n",
    "                with Image.open(filepath) as img:\n",
    "                    if img.width > 4000 and (filepath.endswith('.jpg') or filepath.endswith('.png')):\n",
    "                        dest_file = os.path.join(dest_dir, file)\n",
    "                        count = 0\n",
    "                        while os.path.exists(dest_file):\n",
    "                            name, ext = os.path.splitext(file)\n",
    "                            count += 1\n",
    "                            dest_file = os.path.join(dest_dir, f\"{name}_{count}{ext}\")\n",
    "                        shutil.copy(filepath, dest_file)\n",
    "                        print(f\"{filepath} copied to {dest_file}\")\n",
    "            except:\n",
    "                pass\n",
    "\n",
    "find_and_copy_long_images('/home/jack', os.path.expanduser('~/Desktop/long_images'))\n"
   ]
  },
  {
   "cell_type": "code",
   "execution_count": 1,
   "id": "776ac525",
   "metadata": {},
   "outputs": [
    {
     "name": "stdout",
     "output_type": "stream",
     "text": [
      "/home/jack/Image-0001.png copied to /home/jack/Desktop/video_backgrounds/Image-0001.png\n",
      "/home/jack/Desktop/FLASK/GreenBack.jpg copied to /home/jack/Desktop/video_backgrounds/GreenBack.jpg\n",
      "/home/jack/Desktop/FLASK/plants-0.jpg copied to /home/jack/Desktop/video_backgrounds/plants-0.jpg\n",
      "/home/jack/Desktop/FLASK/GreenBack-0.jpg copied to /home/jack/Desktop/video_backgrounds/GreenBack-0.jpg\n",
      "/home/jack/Desktop/FLASK/plants.jpg copied to /home/jack/Desktop/video_backgrounds/plants.jpg\n",
      "/home/jack/Desktop/FLASK/static/longbackgrounds/plants-longest.jpg copied to /home/jack/Desktop/video_backgrounds/plants-longest.jpg\n",
      "/home/jack/Desktop/FLASK/static/longbackgrounds/newlongest.jpg copied to /home/jack/Desktop/video_backgrounds/newlongest.jpg\n",
      "/home/jack/Desktop/FLASK/static/longbackgrounds/indexed-blues.jpg copied to /home/jack/Desktop/video_backgrounds/indexed-blues.jpg\n",
      "/home/jack/Desktop/FLASK/static/longbackgrounds/indexed-longest.jpg copied to /home/jack/Desktop/video_backgrounds/indexed-longest.jpg\n",
      "/home/jack/Desktop/00de3/YouTube_Video_Creator/static/longbackgrounds/plants-longest.jpg copied to /home/jack/Desktop/video_backgrounds/plants-longest_1.jpg\n",
      "/home/jack/Desktop/00de3/YouTube_Video_Creator/static/longbackgrounds/background3.jpg copied to /home/jack/Desktop/video_backgrounds/background3.jpg\n",
      "/home/jack/Desktop/00de3/YouTube_Video_Creator/static/longbackgrounds/newlongest.jpg copied to /home/jack/Desktop/video_backgrounds/newlongest_1.jpg\n",
      "/home/jack/Desktop/00de3/YouTube_Video_Creator/static/longbackgrounds/background.jpg copied to /home/jack/Desktop/video_backgrounds/background.jpg\n",
      "/home/jack/Desktop/00de3/YouTube_Video_Creator/static/longbackgrounds/indexed-blues.jpg copied to /home/jack/Desktop/video_backgrounds/indexed-blues_1.jpg\n",
      "/home/jack/Desktop/00de3/YouTube_Video_Creator/static/longbackgrounds/background2.jpg copied to /home/jack/Desktop/video_backgrounds/background2.jpg\n",
      "/home/jack/Desktop/00de3/YouTube_Video_Creator/static/longbackgrounds/indexed-longest.jpg copied to /home/jack/Desktop/video_backgrounds/indexed-longest_1.jpg\n",
      "/home/jack/Desktop/flask_docker/static/longbackgrounds/plants-longest.jpg copied to /home/jack/Desktop/video_backgrounds/plants-longest_2.jpg\n",
      "/home/jack/Desktop/flask_docker/static/longbackgrounds/newlongest.jpg copied to /home/jack/Desktop/video_backgrounds/newlongest_2.jpg\n",
      "/home/jack/Desktop/flask_docker/static/longbackgrounds/indexed-blues.jpg copied to /home/jack/Desktop/video_backgrounds/indexed-blues_2.jpg\n",
      "/home/jack/Desktop/flask_docker/static/longbackgrounds/indexed-longest.jpg copied to /home/jack/Desktop/video_backgrounds/indexed-longest_2.jpg\n",
      "/home/jack/Desktop/video_backgrounds/newlongest_1.jpg copied to /home/jack/Desktop/video_backgrounds/newlongest_1_1.jpg\n",
      "/home/jack/Desktop/video_backgrounds/indexed-longest_2.jpg copied to /home/jack/Desktop/video_backgrounds/indexed-longest_2_1.jpg\n",
      "/home/jack/Desktop/video_backgrounds/newlongest_2.jpg copied to /home/jack/Desktop/video_backgrounds/newlongest_2_1.jpg\n",
      "/home/jack/Desktop/video_backgrounds/plants-longest_2.jpg copied to /home/jack/Desktop/video_backgrounds/plants-longest_2_1.jpg\n",
      "/home/jack/Desktop/video_backgrounds/plants-longest.jpg copied to /home/jack/Desktop/video_backgrounds/plants-longest_3.jpg\n",
      "/home/jack/Desktop/video_backgrounds/background3.jpg copied to /home/jack/Desktop/video_backgrounds/background3_1.jpg\n",
      "/home/jack/Desktop/video_backgrounds/GreenBack.jpg copied to /home/jack/Desktop/video_backgrounds/GreenBack_1.jpg\n",
      "/home/jack/Desktop/video_backgrounds/newlongest.jpg copied to /home/jack/Desktop/video_backgrounds/newlongest_3.jpg\n",
      "/home/jack/Desktop/video_backgrounds/background.jpg copied to /home/jack/Desktop/video_backgrounds/background_1.jpg\n",
      "/home/jack/Desktop/video_backgrounds/plants-0.jpg copied to /home/jack/Desktop/video_backgrounds/plants-0_1.jpg\n",
      "/home/jack/Desktop/video_backgrounds/indexed-blues.jpg copied to /home/jack/Desktop/video_backgrounds/indexed-blues_3.jpg\n",
      "/home/jack/Desktop/video_backgrounds/background2.jpg copied to /home/jack/Desktop/video_backgrounds/background2_1.jpg\n",
      "/home/jack/Desktop/video_backgrounds/GreenBack-0.jpg copied to /home/jack/Desktop/video_backgrounds/GreenBack-0_1.jpg\n",
      "/home/jack/Desktop/video_backgrounds/indexed-longest.jpg copied to /home/jack/Desktop/video_backgrounds/indexed-longest_3.jpg\n",
      "/home/jack/Desktop/video_backgrounds/Image-0001.png copied to /home/jack/Desktop/video_backgrounds/Image-0001_1.png\n",
      "/home/jack/Desktop/video_backgrounds/indexed-blues_1.jpg copied to /home/jack/Desktop/video_backgrounds/indexed-blues_1_1.jpg\n",
      "/home/jack/Desktop/video_backgrounds/plants-longest_1.jpg copied to /home/jack/Desktop/video_backgrounds/plants-longest_1_1.jpg\n",
      "/home/jack/Desktop/video_backgrounds/plants.jpg copied to /home/jack/Desktop/video_backgrounds/plants_1.jpg\n",
      "/home/jack/Desktop/video_backgrounds/indexed-blues_2.jpg copied to /home/jack/Desktop/video_backgrounds/indexed-blues_2_1.jpg\n",
      "/home/jack/Desktop/video_backgrounds/indexed-longest_1.jpg copied to /home/jack/Desktop/video_backgrounds/indexed-longest_1_1.jpg\n",
      "/home/jack/miniconda3/envs/py31/doc/global/template/images/Qt-footer_shadow.png copied to /home/jack/Desktop/video_backgrounds/Qt-footer_shadow.png\n",
      "/home/jack/miniconda3/envs/bakup-clonebase/doc/global/template/images/Qt-footer_shadow.png copied to /home/jack/Desktop/video_backgrounds/Qt-footer_shadow_1.png\n",
      "/home/jack/miniconda3/envs/bakup-clonebase/lib/python3.9/site-packages/ryvencore_qt/resources/pics/opencv_example.png copied to /home/jack/Desktop/video_backgrounds/opencv_example.png\n",
      "/home/jack/miniconda3/envs/cloned_py31/doc/global/template/images/Qt-footer_shadow.png copied to /home/jack/Desktop/video_backgrounds/Qt-footer_shadow_2.png\n",
      "/home/jack/miniconda3/envs/py37/doc/global/template/images/Qt-footer_shadow.png copied to /home/jack/Desktop/video_backgrounds/Qt-footer_shadow_3.png\n",
      "/home/jack/miniconda3/envs/py37/lib/python3.7/site-packages/ryvencore_qt/resources/pics/opencv_example.png copied to /home/jack/Desktop/video_backgrounds/opencv_example_1.png\n",
      "/home/jack/miniconda3/envs/cloned_base/doc/global/template/images/Qt-footer_shadow.png copied to /home/jack/Desktop/video_backgrounds/Qt-footer_shadow_4.png\n",
      "/home/jack/miniconda3/envs/py36/lib/python3.6/site-packages/ryvencore_qt/resources/pics/opencv_example.png copied to /home/jack/Desktop/video_backgrounds/opencv_example_2.png\n",
      "/home/jack/miniconda3/doc/global/template/images/Qt-footer_shadow.png copied to /home/jack/Desktop/video_backgrounds/Qt-footer_shadow_5.png\n",
      "/home/jack/miniconda3/lib/python3.9/site-packages/ryvencore_qt/resources/pics/opencv_example.png copied to /home/jack/Desktop/video_backgrounds/opencv_example_3.png\n",
      "/home/jack/miniconda3/pkgs/qt-main-5.15.2-h327a75a_7/doc/global/template/images/Qt-footer_shadow.png copied to /home/jack/Desktop/video_backgrounds/Qt-footer_shadow_6.png\n",
      "/home/jack/miniconda3/pkgs/qt-5.12.9-hda022c4_4/doc/global/template/images/Qt-footer_shadow.png copied to /home/jack/Desktop/video_backgrounds/Qt-footer_shadow_7.png\n",
      "/home/jack/tensorflow/tensorflow/lite/experimental/acceleration/mini_benchmark/snow_4032_3024_3.jpg copied to /home/jack/Desktop/video_backgrounds/snow_4032_3024_3.jpg\n",
      "/home/jack/.cache/kdenlive/1679971996669/audiothumbs/9be8925b37622724d858003fc1c22312_30_audio.png copied to /home/jack/Desktop/video_backgrounds/9be8925b37622724d858003fc1c22312_30_audio.png\n",
      "/home/jack/.cache/kdenlive/1679971996669/audiothumbs/f714d846acbbcb30ffb293bec1209623_30_audio.png copied to /home/jack/Desktop/video_backgrounds/f714d846acbbcb30ffb293bec1209623_30_audio.png\n",
      "/home/jack/.cache/kdenlive/1678425420404/audiothumbs/dbc6d0b1072460f869f568a7d3862204_25_audio.png copied to /home/jack/Desktop/video_backgrounds/dbc6d0b1072460f869f568a7d3862204_25_audio.png\n",
      "/home/jack/.cache/kdenlive/1676494332251/audiothumbs/3f4ff6a68349d3fb92f92161869b3e72_10_audio.png copied to /home/jack/Desktop/video_backgrounds/3f4ff6a68349d3fb92f92161869b3e72_10_audio.png\n",
      "/home/jack/.cache/kdenlive/1676494332251/audiothumbs/8fb945102f9e25eaa03df0c7fda2e270_10_audio.png copied to /home/jack/Desktop/video_backgrounds/8fb945102f9e25eaa03df0c7fda2e270_10_audio.png\n",
      "/home/jack/.cache/kdenlive/1679834275461/audiothumbs/f714d846acbbcb30ffb293bec1209623_25_audio.png copied to /home/jack/Desktop/video_backgrounds/f714d846acbbcb30ffb293bec1209623_25_audio.png\n"
     ]
    },
    {
     "name": "stdout",
     "output_type": "stream",
     "text": [
      "/home/jack/.cache/kdenlive/1676852602791/audiothumbs/35c8f611ea885306cfd332f8f0c3d830_24_audio.png copied to /home/jack/Desktop/video_backgrounds/35c8f611ea885306cfd332f8f0c3d830_24_audio.png\n",
      "/home/jack/Videos/background2.png copied to /home/jack/Desktop/video_backgrounds/background2.png\n",
      "/home/jack/.nvm/versions/node/v16.17.0/lib/node_modules/subscapes/node_modules/@jimp/plugin-print/fonts/open-sans/open-sans-64-white/open-sans-64-white.png copied to /home/jack/Desktop/video_backgrounds/open-sans-64-white.png\n",
      "/home/jack/.nvm/versions/node/v16.17.0/lib/node_modules/subscapes/node_modules/@jimp/plugin-print/fonts/open-sans/open-sans-128-white/open-sans-128-white.png copied to /home/jack/Desktop/video_backgrounds/open-sans-128-white.png\n",
      "/home/jack/.nvm/versions/node/v16.17.0/lib/node_modules/subscapes/node_modules/@jimp/plugin-print/fonts/open-sans/open-sans-128-black/open-sans-128-black.png copied to /home/jack/Desktop/video_backgrounds/open-sans-128-black.png\n",
      "/home/jack/.nvm/versions/node/v16.17.0/lib/node_modules/subscapes/node_modules/@jimp/plugin-print/fonts/open-sans/open-sans-64-black/open-sans-64-black.png copied to /home/jack/Desktop/video_backgrounds/open-sans-64-black.png\n",
      "/home/jack/.nvm/versions/node/v16.17.0/lib/node_modules/subscapes/node_modules/jimp/fonts/open-sans/open-sans-64-white/open-sans-64-white.png copied to /home/jack/Desktop/video_backgrounds/open-sans-64-white_1.png\n",
      "/home/jack/.nvm/versions/node/v16.17.0/lib/node_modules/subscapes/node_modules/jimp/fonts/open-sans/open-sans-128-white/open-sans-128-white.png copied to /home/jack/Desktop/video_backgrounds/open-sans-128-white_1.png\n",
      "/home/jack/.nvm/versions/node/v16.17.0/lib/node_modules/subscapes/node_modules/jimp/fonts/open-sans/open-sans-128-black/open-sans-128-black.png copied to /home/jack/Desktop/video_backgrounds/open-sans-128-black_1.png\n",
      "/home/jack/.nvm/versions/node/v16.17.0/lib/node_modules/subscapes/node_modules/jimp/fonts/open-sans/open-sans-64-black/open-sans-64-black.png copied to /home/jack/Desktop/video_backgrounds/open-sans-64-black_1.png\n",
      "/home/jack/go/pkg/mod/github.com/ajstarks/svgo@v0.0.0-20211024235047-1546f124cd8b/svgdef.png copied to /home/jack/Desktop/video_backgrounds/svgdef.png\n",
      "/home/jack/Documents/deep_green.png copied to /home/jack/Desktop/video_backgrounds/deep_green.png\n",
      "/home/jack/Documents/background2.png copied to /home/jack/Desktop/video_backgrounds/background2_1.png\n",
      "/home/jack/Documents/deep_red.png copied to /home/jack/Desktop/video_backgrounds/deep_red.png\n",
      "/home/jack/Documents/background.png copied to /home/jack/Desktop/video_backgrounds/background.png\n",
      "/home/jack/.local/share/Trash/files/Qt-footer_shadow_3.png copied to /home/jack/Desktop/video_backgrounds/Qt-footer_shadow_3.png\n",
      "/home/jack/.local/share/Trash/files/Qt-footer_shadow_4.png copied to /home/jack/Desktop/video_backgrounds/Qt-footer_shadow_4.png\n",
      "/home/jack/.local/share/Steam/appcache/librarycache/440_logo.png copied to /home/jack/Desktop/video_backgrounds/440_logo.png\n",
      "/home/jack/TENSOR/tensorflow/tensorflow/lite/experimental/acceleration/mini_benchmark/snow_4032_3024_3.jpg copied to /home/jack/Desktop/video_backgrounds/snow_4032_3024_3_1.jpg\n",
      "/home/jack/ionicfish/www/plants-longest.jpg copied to /home/jack/Desktop/video_backgrounds/plants-longest_4.jpg\n",
      "/home/jack/ionicfish/www/newlongest.jpg copied to /home/jack/Desktop/video_backgrounds/newlongest_4.jpg\n",
      "/home/jack/ionicfish/www/indexed-blues.jpg copied to /home/jack/Desktop/video_backgrounds/indexed-blues_4.jpg\n",
      "/home/jack/ionicfish/www/indexed-longest.jpg copied to /home/jack/Desktop/video_backgrounds/indexed-longest_4.jpg\n"
     ]
    }
   ],
   "source": [
    "from PIL import Image\n",
    "import os\n",
    "import shutil\n",
    "from collections import defaultdict\n",
    "\n",
    "def find_and_copy_long_images(root_dir, dest_dir):\n",
    "    counts = defaultdict(int)\n",
    "    for subdir, dirs, files in os.walk(root_dir):\n",
    "        for file in files:\n",
    "            filepath = os.path.join(subdir, file)\n",
    "            try:\n",
    "                with Image.open(filepath) as img:\n",
    "                    if img.width > 4000 and (filepath.endswith('.jpg') or filepath.endswith('.png')):\n",
    "                        dest_file = os.path.join(dest_dir, file)\n",
    "                        count = counts[file]\n",
    "                        while os.path.exists(dest_file):\n",
    "                            name, ext = os.path.splitext(file)\n",
    "                            count += 1\n",
    "                            dest_file = os.path.join(dest_dir, f\"{name}_{count}{ext}\")\n",
    "                        counts[file] = count\n",
    "                        shutil.copy(filepath, dest_file)\n",
    "                        print(f\"{filepath} copied to {dest_file}\")\n",
    "            except:\n",
    "                pass\n",
    "\n",
    "find_and_copy_long_images('/home/jack', '/home/jack/Desktop/video_backgrounds')\n"
   ]
  },
  {
   "cell_type": "code",
   "execution_count": null,
   "id": "f2084f82",
   "metadata": {},
   "outputs": [],
   "source": [
    "!rm /home/jack/Desktop/video_backgrounds/*.png"
   ]
  },
  {
   "cell_type": "code",
   "execution_count": 6,
   "id": "835789ad",
   "metadata": {},
   "outputs": [
    {
     "name": "stdout",
     "output_type": "stream",
     "text": [
      "1663149893239  1676849748800  1677091579380  1678502311160  1680127961747\r\n",
      "1663334314761  1676850678532  1677100810274  1678668041346  1680131169769\r\n",
      "1671360446261  1676850899935  1677108916124  1678690308414  1680147580100\r\n",
      "1671492674953  1676852602791  1677115150217  1678803537041  1680162186162\r\n",
      "1673015592374  1676877022197  1677317466011  1678995995043  proxy\r\n",
      "1673016029459  1676881553068  1677344099168  1679834275461  qmlcache\r\n",
      "1676348266453  1676912829253  1677381691504  1679971996669\r\n",
      "1676385409998  1677004251490  1678425420404  1680067896685\r\n",
      "1676494332251  1677015630558  1678454849169  1680070484094\r\n"
     ]
    }
   ],
   "source": [
    "!ls /home/jack/.cache/kdenlive/."
   ]
  },
  {
   "cell_type": "code",
   "execution_count": 9,
   "id": "ec681337",
   "metadata": {},
   "outputs": [
    {
     "name": "stdout",
     "output_type": "stream",
     "text": [
      "Moviepy - Building video EXPERIMENT/part_1.mp4.\n",
      "Moviepy - Writing video EXPERIMENT/part_1.mp4\n",
      "\n"
     ]
    },
    {
     "name": "stderr",
     "output_type": "stream",
     "text": [
      "                                                                     \r"
     ]
    },
    {
     "name": "stdout",
     "output_type": "stream",
     "text": [
      "Moviepy - Done !\n",
      "Moviepy - video ready EXPERIMENT/part_1.mp4\n",
      "Moviepy - Building video EXPERIMENT/part_2.mp4.\n",
      "Moviepy - Writing video EXPERIMENT/part_2.mp4\n",
      "\n"
     ]
    },
    {
     "name": "stderr",
     "output_type": "stream",
     "text": [
      "                                                                     \r"
     ]
    },
    {
     "name": "stdout",
     "output_type": "stream",
     "text": [
      "Moviepy - Done !\n",
      "Moviepy - video ready EXPERIMENT/part_2.mp4\n",
      "Moviepy - Building video EXPERIMENT/part_3.mp4.\n",
      "Moviepy - Writing video EXPERIMENT/part_3.mp4\n",
      "\n"
     ]
    },
    {
     "name": "stderr",
     "output_type": "stream",
     "text": [
      "                                                                     \r"
     ]
    },
    {
     "name": "stdout",
     "output_type": "stream",
     "text": [
      "Moviepy - Done !\n",
      "Moviepy - video ready EXPERIMENT/part_3.mp4\n"
     ]
    }
   ],
   "source": [
    "from moviepy.video.io.VideoFileClip import VideoFileClip\n",
    "import math\n",
    "\n",
    "# Load the video file\n",
    "#input_file = \"/home/jack/Downloads/00de3/Prodia-AI_Art_and_Music_files/640x640_splatter.mkv\"\n",
    "input_file = \"/home/jack/Desktop/HDD500/MyTube_AI_Flask_App/static/output.mp4\"\n",
    "\n",
    "video = VideoFileClip(input_file)\n",
    "\n",
    "# Get the duration and fps of the video\n",
    "duration = video.duration\n",
    "fps = video.fps\n",
    "\n",
    "# Calculate the duration of each part\n",
    "part_duration = math.floor(duration / 3)\n",
    "\n",
    "# Split the video into three equal-length parts and save each part separately\n",
    "for i in range(3):\n",
    "    # Define the start and end times of the part\n",
    "    start_time = i * part_duration\n",
    "    end_time = (i+1) * part_duration if i < 2 else duration\n",
    "    \n",
    "    # Extract the part of the video between the start and end times\n",
    "    part = video.subclip(start_time, end_time)\n",
    "    \n",
    "    # Define the output filename for the part\n",
    "    output_filename = f\"EXPERIMENT/part_{i+1}.mp4\"\n",
    "    \n",
    "    # Write the part to the output file\n",
    "    part.write_videofile(output_filename, fps=fps)\n"
   ]
  },
  {
   "cell_type": "code",
   "execution_count": 7,
   "id": "e38957db",
   "metadata": {},
   "outputs": [],
   "source": [
    "!ls EXPERIMENT"
   ]
  },
  {
   "cell_type": "code",
   "execution_count": 8,
   "id": "9c283d4c",
   "metadata": {},
   "outputs": [
    {
     "name": "stdout",
     "output_type": "stream",
     "text": [
      "Moviepy - Building video EXPERIMENT/output.mp4.\n",
      "Moviepy - Writing video EXPERIMENT/output.mp4\n",
      "\n"
     ]
    },
    {
     "name": "stderr",
     "output_type": "stream",
     "text": [
      "                                                                     \r"
     ]
    },
    {
     "name": "stdout",
     "output_type": "stream",
     "text": [
      "Moviepy - Done !\n",
      "Moviepy - video ready EXPERIMENT/output.mp4\n"
     ]
    }
   ],
   "source": [
    "from moviepy.editor import VideoFileClip, concatenate_videoclips\n",
    "\n",
    "# Load the input video file\n",
    "input_file = \"/home/jack/Desktop/HDD500/MyTube_AI_Flask_App/static/output.mp4\"\n",
    "video = VideoFileClip(input_file)\n",
    "\n",
    "# Split the video into three equal parts\n",
    "duration = video.duration\n",
    "part_duration = duration / 3\n",
    "part1 = video.subclip(0, part_duration)\n",
    "part2 = video.subclip(part_duration, 2 * part_duration)\n",
    "part3 = video.subclip(2 * part_duration, duration)\n",
    "\n",
    "# Concatenate the three parts into a single video\n",
    "output_video = concatenate_videoclips([part1, part2, part3])\n",
    "\n",
    "# Write the output video file\n",
    "output_file = \"EXPERIMENT/output.mp4\"\n",
    "output_video.write_videofile(output_file)\n"
   ]
  },
  {
   "cell_type": "code",
   "execution_count": null,
   "id": "b730acc7",
   "metadata": {},
   "outputs": [],
   "source": [
    "from moviepy.editor import VideoFileClip, concatenate_videoclips\n",
    "\n",
    "# Load the input video file\n",
    "input_file = \"/home/jack/Downloads/00de3/Prodia-AI_Art_and_Music_files/640x640_splatter.mkv\"\n",
    "video = VideoFileClip(input_file)\n",
    "\n",
    "# Split the video into three equal parts\n",
    "duration = video.duration\n",
    "part_duration = duration / 3\n",
    "part1 = video.subclip(0, part_duration)\n",
    "part2 = video.subclip(part_duration, 2 * part_duration)\n",
    "part3 = video.subclip(2 * part_duration, duration)\n",
    "\n",
    "# Concatenate the three parts into a single video\n",
    "output_video = concatenate_videoclips([part1, part2, part3])\n",
    "\n",
    "# Write the output video file\n",
    "output_file = \"output.mp4\"\n",
    "output_video.write_videofile(output_file)\n"
   ]
  },
  {
   "cell_type": "code",
   "execution_count": 1,
   "id": "3dd3d983",
   "metadata": {},
   "outputs": [
    {
     "name": "stdout",
     "output_type": "stream",
     "text": [
      "/mnt/HDD500/MyTube_AI_Flask_App\r\n"
     ]
    }
   ],
   "source": [
    "!pwd"
   ]
  },
  {
   "cell_type": "code",
   "execution_count": 3,
   "id": "61ef54a8",
   "metadata": {},
   "outputs": [
    {
     "name": "stdout",
     "output_type": "stream",
     "text": [
      "/mnt/HDD500/0WORKSHOP-with-NOTEBOOKS/VIDEOS/blend-minterpolate.mp4\n",
      "/mnt/HDD500/YOUTUBE/DarkStorm/blend-minterpolate.mp4\n",
      "/mnt/HDD500/YOUTUBE/DarkStorm/output-blend-minterpolate.mp4\n",
      "/mnt/HDD500/collections/fmp/blend-minterpolate.mp4\n",
      "/mnt/HDD500/collections/fmp2/blend-minterpolate.mp4\n"
     ]
    }
   ],
   "source": [
    "!locate blend-minterpolate.mp4"
   ]
  },
  {
   "cell_type": "code",
   "execution_count": 5,
   "id": "334be746",
   "metadata": {},
   "outputs": [
    {
     "data": {
      "text/html": [
       "<video src=\"/mnt/HDD500/collections/fmp2/blend-minterpolate.mp4\" controls  >\n",
       "      Your browser does not support the <code>video</code> element.\n",
       "    </video>"
      ],
      "text/plain": [
       "<IPython.core.display.Video object>"
      ]
     },
     "execution_count": 5,
     "metadata": {},
     "output_type": "execute_result"
    }
   ],
   "source": [
    "from IPython.display import Video\n",
    "\n",
    "Video(\"/mnt/HDD500/collections/fmp2/blend-minterpolate.mp4\")\n"
   ]
  },
  {
   "cell_type": "code",
   "execution_count": 6,
   "id": "5e5a88a2",
   "metadata": {},
   "outputs": [
    {
     "name": "stdout",
     "output_type": "stream",
     "text": [
      "VLC media player 3.0.11.1 Vetinari (revision 3.0.11.1-0-g52483f3ca2)\n",
      "[\u001b[32;1m0000000000f34120\u001b[0m] main libvlc: \u001b[0;1mRunning vlc with the default interface. Use 'cvlc' to use vlc without interface.\u001b[0m\n",
      "libva info: VA-API version 0.39.0\n",
      "libva info: va_getDriverName() returns 0\n",
      "libva info: Trying to open /usr/lib/x86_64-linux-gnu/dri/nouveau_drv_video.so\n",
      "libva error: /usr/lib/x86_64-linux-gnu/dri/nouveau_drv_video.so has no function __vaDriverInit_0_32\n",
      "libva info: va_openDriver() returns -1\n",
      "[\u001b[32;1m00007fcb58001970\u001b[0m] glconv_vaapi_x11 gl error: \u001b[31;1mvaInitialize: unknown libva error\u001b[0m\n",
      "libva info: VA-API version 0.39.0\n",
      "libva info: va_getDriverName() returns 0\n",
      "libva info: Trying to open /usr/lib/x86_64-linux-gnu/dri/gallium_drv_video.so\n",
      "libva info: va_openDriver() returns -1\n",
      "[\u001b[32;1m00007fcb58001970\u001b[0m] glconv_vaapi_drm gl error: \u001b[31;1mvaInitialize: unknown libva error\u001b[0m\n",
      "libva info: VA-API version 0.39.0\n",
      "libva info: va_getDriverName() returns 0\n",
      "libva info: Trying to open /usr/lib/x86_64-linux-gnu/dri/gallium_drv_video.so\n",
      "libva info: va_openDriver() returns -1\n",
      "[\u001b[32;1m00007fcb58001970\u001b[0m] glconv_vaapi_drm gl error: \u001b[31;1mvaInitialize: unknown libva error\u001b[0m\n",
      "[\u001b[32;1m00007fcb5cc09400\u001b[0m] avcodec decoder: \u001b[0;1mUsing G3DVL VDPAU Driver Shared Library version 1.0 for hardware decoding\u001b[0m\n",
      "\u001b[0;36m[h264 @ 0x7fcb5cc0fc00] \u001b[0m\u001b[1;31mFailed setup for format vdpau: hwaccel initialisation returned error.\n",
      "\u001b[0m[\u001b[32;1m00007fcb5cc09400\u001b[0m] avcodec decoder error: \u001b[31;1mexisting hardware acceleration cannot be reused\u001b[0m\n",
      "libva info: VA-API version 0.39.0\n",
      "libva info: va_getDriverName() returns 0\n",
      "libva info: Trying to open /usr/lib/x86_64-linux-gnu/dri/nouveau_drv_video.so\n",
      "libva error: /usr/lib/x86_64-linux-gnu/dri/nouveau_drv_video.so has no function __vaDriverInit_0_32\n",
      "libva info: va_openDriver() returns -1\n",
      "[\u001b[32;1m00007fcb58757a70\u001b[0m] glconv_vaapi_x11 gl error: \u001b[31;1mvaInitialize: unknown libva error\u001b[0m\n",
      "libva info: VA-API version 0.39.0\n",
      "libva info: va_getDriverName() returns 0\n",
      "libva info: Trying to open /usr/lib/x86_64-linux-gnu/dri/gallium_drv_video.so\n",
      "libva info: va_openDriver() returns -1\n",
      "[\u001b[32;1m00007fcb58757a70\u001b[0m] glconv_vaapi_drm gl error: \u001b[31;1mvaInitialize: unknown libva error\u001b[0m\n",
      "libva info: VA-API version 0.39.0\n",
      "libva info: va_getDriverName() returns 0\n",
      "libva info: Trying to open /usr/lib/x86_64-linux-gnu/dri/gallium_drv_video.so\n",
      "libva info: va_openDriver() returns -1\n",
      "[\u001b[32;1m00007fcb58757a70\u001b[0m] glconv_vaapi_drm gl error: \u001b[31;1mvaInitialize: unknown libva error\u001b[0m\n",
      "QObject::~QObject: Timers cannot be stopped from another thread\n"
     ]
    }
   ],
   "source": [
    "!vlc /mnt/HDD500/collections/fmp2/blend-minterpolate.mp4"
   ]
  },
  {
   "cell_type": "code",
   "execution_count": 10,
   "id": "fa183e7c",
   "metadata": {},
   "outputs": [
    {
     "name": "stdout",
     "output_type": "stream",
     "text": [
      "Moviepy - Building video EXPERIMENT/myinterpolatedvideo.mp4.\n",
      "Moviepy - Writing video EXPERIMENT/myinterpolatedvideo.mp4\n",
      "\n"
     ]
    },
    {
     "name": "stderr",
     "output_type": "stream",
     "text": [
      "                                                                     \r"
     ]
    },
    {
     "name": "stdout",
     "output_type": "stream",
     "text": [
      "Moviepy - Done !\n",
      "Moviepy - video ready EXPERIMENT/myinterpolatedvideo.mp4\n"
     ]
    }
   ],
   "source": [
    "import moviepy.editor as mp\n",
    "\n",
    "# Load the video file\n",
    "clip = mp.VideoFileClip(\"/mnt/HDD500/collections/fmp2/blend-minterpolate.mp4\")\n",
    "\n",
    "# Double the frame rate of the video using the speedx function\n",
    "new_clip = clip.speedx(factor=2.0)\n",
    "\n",
    "# Write the new interpolated video to a file\n",
    "new_clip.write_videofile(\"EXPERIMENT/myinterpolatedvideo.mp4\")\n"
   ]
  },
  {
   "cell_type": "code",
   "execution_count": null,
   "id": "0ac6c8bc",
   "metadata": {},
   "outputs": [],
   "source": [
    "/home/jack/Desktop/HDD500/MyTube_AI_Flask_App/static/2023-06-12_15-17-30_output.mp4"
   ]
  },
  {
   "cell_type": "code",
   "execution_count": 16,
   "id": "3fc1e09e",
   "metadata": {},
   "outputs": [
    {
     "name": "stdout",
     "output_type": "stream",
     "text": [
      "/home/jack/Desktop/ProcessDirectory/static/long.mp3\n",
      "/home/jack/Desktop/ffmpeg_flask/static/long.mp3\n"
     ]
    }
   ],
   "source": [
    "!locate static/long.mp3"
   ]
  },
  {
   "cell_type": "code",
   "execution_count": 18,
   "id": "36f26c04",
   "metadata": {},
   "outputs": [],
   "source": [
    "!cp /home/jack/Desktop/ffmpeg_flask/static/long.mp3 EXPERIMENT/long.mp3"
   ]
  },
  {
   "cell_type": "code",
   "execution_count": 20,
   "id": "eb05f3cb",
   "metadata": {
    "scrolled": false
   },
   "outputs": [
    {
     "name": "stderr",
     "output_type": "stream",
     "text": [
      "ffmpeg version 4.2.7-0ubuntu0.1 Copyright (c) 2000-2022 the FFmpeg developers\n",
      "  built with gcc 9 (Ubuntu 9.4.0-1ubuntu1~20.04.1)\n",
      "  configuration: --prefix=/usr --extra-version=0ubuntu0.1 --toolchain=hardened --libdir=/usr/lib/x86_64-linux-gnu --incdir=/usr/include/x86_64-linux-gnu --arch=amd64 --enable-gpl --disable-stripping --enable-avresample --disable-filter=resample --enable-avisynth --enable-gnutls --enable-ladspa --enable-libaom --enable-libass --enable-libbluray --enable-libbs2b --enable-libcaca --enable-libcdio --enable-libcodec2 --enable-libflite --enable-libfontconfig --enable-libfreetype --enable-libfribidi --enable-libgme --enable-libgsm --enable-libjack --enable-libmp3lame --enable-libmysofa --enable-libopenjpeg --enable-libopenmpt --enable-libopus --enable-libpulse --enable-librsvg --enable-librubberband --enable-libshine --enable-libsnappy --enable-libsoxr --enable-libspeex --enable-libssh --enable-libtheora --enable-libtwolame --enable-libvidstab --enable-libvorbis --enable-libvpx --enable-libwavpack --enable-libwebp --enable-libx265 --enable-libxml2 --enable-libxvid --enable-libzmq --enable-libzvbi --enable-lv2 --enable-omx --enable-openal --enable-opencl --enable-opengl --enable-sdl2 --enable-libdc1394 --enable-libdrm --enable-libiec61883 --enable-nvenc --enable-chromaprint --enable-frei0r --enable-libx264 --enable-shared\n",
      "  WARNING: library configuration mismatch\n",
      "  avcodec     configuration: --prefix=/usr --extra-version=0ubuntu0.1 --toolchain=hardened --libdir=/usr/lib/x86_64-linux-gnu --incdir=/usr/include/x86_64-linux-gnu --arch=amd64 --enable-gpl --disable-stripping --enable-avresample --disable-filter=resample --enable-avisynth --enable-gnutls --enable-ladspa --enable-libaom --enable-libass --enable-libbluray --enable-libbs2b --enable-libcaca --enable-libcdio --enable-libcodec2 --enable-libflite --enable-libfontconfig --enable-libfreetype --enable-libfribidi --enable-libgme --enable-libgsm --enable-libjack --enable-libmp3lame --enable-libmysofa --enable-libopenjpeg --enable-libopenmpt --enable-libopus --enable-libpulse --enable-librsvg --enable-librubberband --enable-libshine --enable-libsnappy --enable-libsoxr --enable-libspeex --enable-libssh --enable-libtheora --enable-libtwolame --enable-libvidstab --enable-libvorbis --enable-libvpx --enable-libwavpack --enable-libwebp --enable-libx265 --enable-libxml2 --enable-libxvid --enable-libzmq --enable-libzvbi --enable-lv2 --enable-omx --enable-openal --enable-opencl --enable-opengl --enable-sdl2 --enable-libdc1394 --enable-libdrm --enable-libiec61883 --enable-nvenc --enable-chromaprint --enable-frei0r --enable-libx264 --enable-shared --enable-version3 --disable-doc --disable-programs --enable-libaribb24 --enable-liblensfun --enable-libopencore_amrnb --enable-libopencore_amrwb --enable-libtesseract --enable-libvo_amrwbenc\n",
      "  libavutil      56. 31.100 / 56. 31.100\n",
      "  libavcodec     58. 54.100 / 58. 54.100\n",
      "  libavformat    58. 29.100 / 58. 29.100\n",
      "  libavdevice    58.  8.100 / 58.  8.100\n",
      "  libavfilter     7. 57.100 /  7. 57.100\n",
      "  libavresample   4.  0.  0 /  4.  0.  0\n",
      "  libswscale      5.  5.100 /  5.  5.100\n",
      "  libswresample   3.  5.100 /  3.  5.100\n",
      "  libpostproc    55.  5.100 / 55.  5.100\n",
      "Input #0, mov,mp4,m4a,3gp,3g2,mj2, from '/home/jack/Desktop/HDD500/MyTube_AI_Flask_App/static/2023-06-12_15-17-30_output.mp4':\n",
      "  Metadata:\n",
      "    major_brand     : isom\n",
      "    minor_version   : 512\n",
      "    compatible_brands: isomiso2avc1mp41\n",
      "    encoder         : Lavf58.29.100\n",
      "  Duration: 00:00:29.95, start: 0.000000, bitrate: 978 kb/s\n",
      "    Stream #0:0(und): Video: h264 (High) (avc1 / 0x31637661), yuv420p, 512x768, 976 kb/s, 20 fps, 20 tbr, 10240 tbn, 40 tbc (default)\n",
      "    Metadata:\n",
      "      handler_name    : VideoHandler\n",
      "Stream mapping:\n",
      "  Stream #0:0 -> #0:0 (h264 (native) -> h264 (libx264))\n",
      "Press [q] to stop, [?] for help\n",
      "[libx264 @ 0x55a64396b7c0] using cpu capabilities: MMX2 SSE2Fast LZCNT SSSE3 SSE4.2\n",
      "[libx264 @ 0x55a64396b7c0] profile High, level 3.1\n",
      "[libx264 @ 0x55a64396b7c0] 264 - core 155 r2917 0a84d98 - H.264/MPEG-4 AVC codec - Copyleft 2003-2018 - http://www.videolan.org/x264.html - options: cabac=1 ref=3 deblock=1:0:0 analyse=0x3:0x113 me=hex subme=7 psy=1 psy_rd=1.00:0.00 mixed_ref=1 me_range=16 chroma_me=1 trellis=1 8x8dct=1 cqm=0 deadzone=21,11 fast_pskip=1 chroma_qp_offset=-2 threads=3 lookahead_threads=1 sliced_threads=0 nr=0 decimate=1 interlaced=0 bluray_compat=0 constrained_intra=0 bframes=3 b_pyramid=2 b_adapt=1 b_bias=0 direct=1 weightb=1 open_gop=0 weightp=2 keyint=250 keyint_min=25 scenecut=40 intra_refresh=0 rc_lookahead=40 rc=crf mbtree=1 crf=23.0 qcomp=0.60 qpmin=0 qpmax=69 qpstep=4 ip_ratio=1.40 aq=1:1.00\n",
      "Output #0, mp4, to 'EXPERIMENT/output.mp4':\n",
      "  Metadata:\n",
      "    major_brand     : isom\n",
      "    minor_version   : 512\n",
      "    compatible_brands: isomiso2avc1mp41\n",
      "    encoder         : Lavf58.29.100\n",
      "    Stream #0:0(und): Video: h264 (libx264) (avc1 / 0x31637661), yuv420p, 512x768, q=-1--1, 30 fps, 15360 tbn, 30 tbc (default)\n",
      "    Metadata:\n",
      "      handler_name    : VideoHandler\n",
      "      encoder         : Lavc58.54.100 libx264\n",
      "    Side data:\n",
      "      cpb: bitrate max/min/avg: 0/0/0 buffer size: 0 vbv_delay: -1\n",
      "frame=  897 fps=5.8 q=-1.0 Lsize=    3532kB time=00:00:29.80 bitrate= 970.8kbits/s dup=0 drop=596 speed=0.191x     \n",
      "video:3520kB audio:0kB subtitle:0kB other streams:0kB global headers:0kB muxing overhead: 0.319539%\n",
      "[libx264 @ 0x55a64396b7c0] frame I:30    Avg QP:17.88  size:119327\n",
      "[libx264 @ 0x55a64396b7c0] frame P:239   Avg QP:21.44  size:    42\n",
      "[libx264 @ 0x55a64396b7c0] frame B:628   Avg QP:25.65  size:    23\n",
      "[libx264 @ 0x55a64396b7c0] consecutive B-frames:  6.6%  0.2%  0.0% 93.2%\n",
      "[libx264 @ 0x55a64396b7c0] mb I  I16..4:  2.1% 50.3% 47.5%\n",
      "[libx264 @ 0x55a64396b7c0] mb P  I16..4:  0.0%  0.0%  0.0%  P16..4:  0.4%  0.0%  0.0%  0.0%  0.0%    skip:99.6%\n",
      "[libx264 @ 0x55a64396b7c0] mb B  I16..4:  0.0%  0.0%  0.0%  B16..8:  0.0%  0.0%  0.0%  direct: 0.0%  skip:100.0%  L0:18.4% L1:81.6% BI: 0.0%\n",
      "[libx264 @ 0x55a64396b7c0] 8x8 transform intra:50.3% inter:90.5%\n",
      "[libx264 @ 0x55a64396b7c0] coded y,uvDC,uvAC intra: 96.9% 97.4% 91.1% inter: 0.0% 0.1% 0.0%\n",
      "[libx264 @ 0x55a64396b7c0] i16 v,h,dc,p: 28%  5% 18% 48%\n",
      "[libx264 @ 0x55a64396b7c0] i8 v,h,dc,ddl,ddr,vr,hd,vl,hu: 21%  8% 11%  9%  8% 12%  7% 15%  9%\n",
      "[libx264 @ 0x55a64396b7c0] i4 v,h,dc,ddl,ddr,vr,hd,vl,hu: 15%  6%  9% 10% 13% 17%  8% 15%  7%\n",
      "[libx264 @ 0x55a64396b7c0] i8c dc,h,v,p: 46% 13% 26% 15%\n",
      "[libx264 @ 0x55a64396b7c0] Weighted P-Frames: Y:0.0% UV:0.0%\n",
      "[libx264 @ 0x55a64396b7c0] ref P L0: 98.7%  0.2%  0.6%  0.6%\n",
      "[libx264 @ 0x55a64396b7c0] ref B L0: 55.2% 39.7%  5.2%\n",
      "[libx264 @ 0x55a64396b7c0] ref B L1: 99.6%  0.4%\n",
      "[libx264 @ 0x55a64396b7c0] kb/s:964.33\n",
      "ffmpeg version 4.2.7-0ubuntu0.1 Copyright (c) 2000-2022 the FFmpeg developers\n",
      "  built with gcc 9 (Ubuntu 9.4.0-1ubuntu1~20.04.1)\n",
      "  configuration: --prefix=/usr --extra-version=0ubuntu0.1 --toolchain=hardened --libdir=/usr/lib/x86_64-linux-gnu --incdir=/usr/include/x86_64-linux-gnu --arch=amd64 --enable-gpl --disable-stripping --enable-avresample --disable-filter=resample --enable-avisynth --enable-gnutls --enable-ladspa --enable-libaom --enable-libass --enable-libbluray --enable-libbs2b --enable-libcaca --enable-libcdio --enable-libcodec2 --enable-libflite --enable-libfontconfig --enable-libfreetype --enable-libfribidi --enable-libgme --enable-libgsm --enable-libjack --enable-libmp3lame --enable-libmysofa --enable-libopenjpeg --enable-libopenmpt --enable-libopus --enable-libpulse --enable-librsvg --enable-librubberband --enable-libshine --enable-libsnappy --enable-libsoxr --enable-libspeex --enable-libssh --enable-libtheora --enable-libtwolame --enable-libvidstab --enable-libvorbis --enable-libvpx --enable-libwavpack --enable-libwebp --enable-libx265 --enable-libxml2 --enable-libxvid --enable-libzmq --enable-libzvbi --enable-lv2 --enable-omx --enable-openal --enable-opencl --enable-opengl --enable-sdl2 --enable-libdc1394 --enable-libdrm --enable-libiec61883 --enable-nvenc --enable-chromaprint --enable-frei0r --enable-libx264 --enable-shared\n",
      "  WARNING: library configuration mismatch\n",
      "  avcodec     configuration: --prefix=/usr --extra-version=0ubuntu0.1 --toolchain=hardened --libdir=/usr/lib/x86_64-linux-gnu --incdir=/usr/include/x86_64-linux-gnu --arch=amd64 --enable-gpl --disable-stripping --enable-avresample --disable-filter=resample --enable-avisynth --enable-gnutls --enable-ladspa --enable-libaom --enable-libass --enable-libbluray --enable-libbs2b --enable-libcaca --enable-libcdio --enable-libcodec2 --enable-libflite --enable-libfontconfig --enable-libfreetype --enable-libfribidi --enable-libgme --enable-libgsm --enable-libjack --enable-libmp3lame --enable-libmysofa --enable-libopenjpeg --enable-libopenmpt --enable-libopus --enable-libpulse --enable-librsvg --enable-librubberband --enable-libshine --enable-libsnappy --enable-libsoxr --enable-libspeex --enable-libssh --enable-libtheora --enable-libtwolame --enable-libvidstab --enable-libvorbis --enable-libvpx --enable-libwavpack --enable-libwebp --enable-libx265 --enable-libxml2 --enable-libxvid --enable-libzmq --enable-libzvbi --enable-lv2 --enable-omx --enable-openal --enable-opencl --enable-opengl --enable-sdl2 --enable-libdc1394 --enable-libdrm --enable-libiec61883 --enable-nvenc --enable-chromaprint --enable-frei0r --enable-libx264 --enable-shared --enable-version3 --disable-doc --disable-programs --enable-libaribb24 --enable-liblensfun --enable-libopencore_amrnb --enable-libopencore_amrwb --enable-libtesseract --enable-libvo_amrwbenc\n",
      "  libavutil      56. 31.100 / 56. 31.100\n",
      "  libavcodec     58. 54.100 / 58. 54.100\n",
      "  libavformat    58. 29.100 / 58. 29.100\n",
      "  libavdevice    58.  8.100 / 58.  8.100\n",
      "  libavfilter     7. 57.100 /  7. 57.100\n",
      "  libavresample   4.  0.  0 /  4.  0.  0\n",
      "  libswscale      5.  5.100 /  5.  5.100\n",
      "  libswresample   3.  5.100 /  3.  5.100\n",
      "  libpostproc    55.  5.100 / 55.  5.100\n",
      "Input #0, mov,mp4,m4a,3gp,3g2,mj2, from 'EXPERIMENT/output.mp4':\n",
      "  Metadata:\n",
      "    major_brand     : isom\n",
      "    minor_version   : 512\n",
      "    compatible_brands: isomiso2avc1mp41\n",
      "    encoder         : Lavf58.29.100\n",
      "  Duration: 00:00:29.90, start: 0.000000, bitrate: 967 kb/s\n",
      "    Stream #0:0(und): Video: h264 (High) (avc1 / 0x31637661), yuv420p, 512x768, 964 kb/s, 30 fps, 30 tbr, 15360 tbn, 60 tbc (default)\n",
      "    Metadata:\n",
      "      handler_name    : VideoHandler\n",
      "Stream mapping:\n",
      "  Stream #0:0 -> #0:0 (h264 (native) -> h264 (libx264))\n",
      "Press [q] to stop, [?] for help\n",
      "[libx264 @ 0x56438362dfc0] using cpu capabilities: MMX2 SSE2Fast LZCNT SSSE3 SSE4.2\n",
      "[libx264 @ 0x56438362dfc0] profile High, level 3.1\n",
      "[libx264 @ 0x56438362dfc0] 264 - core 155 r2917 0a84d98 - H.264/MPEG-4 AVC codec - Copyleft 2003-2018 - http://www.videolan.org/x264.html - options: cabac=1 ref=3 deblock=1:0:0 analyse=0x3:0x113 me=hex subme=7 psy=1 psy_rd=1.00:0.00 mixed_ref=1 me_range=16 chroma_me=1 trellis=1 8x8dct=1 cqm=0 deadzone=21,11 fast_pskip=1 chroma_qp_offset=-2 threads=3 lookahead_threads=1 sliced_threads=0 nr=0 decimate=1 interlaced=0 bluray_compat=0 constrained_intra=0 bframes=3 b_pyramid=2 b_adapt=1 b_bias=0 direct=1 weightb=1 open_gop=0 weightp=2 keyint=250 keyint_min=25 scenecut=40 intra_refresh=0 rc_lookahead=40 rc=crf mbtree=1 crf=23.0 qcomp=0.60 qpmin=0 qpmax=69 qpstep=4 ip_ratio=1.40 aq=1:1.00\n",
      "Output #0, mp4, to 'EXPERIMENT/mpdecimate.mp4':\n",
      "  Metadata:\n",
      "    major_brand     : isom\n",
      "    minor_version   : 512\n",
      "    compatible_brands: isomiso2avc1mp41\n",
      "    encoder         : Lavf58.29.100\n",
      "    Stream #0:0(und): Video: h264 (libx264) (avc1 / 0x31637661), yuv420p, 512x768, q=-1--1, 30 fps, 15360 tbn, 30 tbc (default)\n",
      "    Metadata:\n",
      "      handler_name    : VideoHandler\n",
      "      encoder         : Lavc58.54.100 libx264\n",
      "    Side data:\n",
      "      cpb: bitrate max/min/avg: 0/0/0 buffer size: 0 vbv_delay: -1\n"
     ]
    },
    {
     "name": "stderr",
     "output_type": "stream",
     "text": [
      "frame=   30 fps= 14 q=-1.0 Lsize=    1047kB time=00:00:00.90 bitrate=9531.0kbits/s speed=0.421x    \n",
      "video:1046kB audio:0kB subtitle:0kB other streams:0kB global headers:0kB muxing overhead: 0.091382%\n",
      "[libx264 @ 0x56438362dfc0] frame I:1     Avg QP:31.20  size: 50023\n",
      "[libx264 @ 0x56438362dfc0] frame P:29    Avg QP:30.31  size: 35194\n",
      "[libx264 @ 0x56438362dfc0] mb I  I16..4:  1.8% 49.2% 49.0%\n",
      "[libx264 @ 0x56438362dfc0] mb P  I16..4:  6.2% 56.7% 36.0%  P16..4:  0.8%  0.3%  0.1%  0.0%  0.0%    skip: 0.0%\n",
      "[libx264 @ 0x56438362dfc0] 8x8 transform intra:57.1% inter:51.4%\n",
      "[libx264 @ 0x56438362dfc0] coded y,uvDC,uvAC intra: 84.1% 75.1% 37.6% inter: 60.9% 87.5% 1.5%\n",
      "[libx264 @ 0x56438362dfc0] i16 v,h,dc,p: 34%  9% 11% 46%\n",
      "[libx264 @ 0x56438362dfc0] i8 v,h,dc,ddl,ddr,vr,hd,vl,hu: 19%  8% 11% 10%  9% 12%  7% 15%  9%\n",
      "[libx264 @ 0x56438362dfc0] i4 v,h,dc,ddl,ddr,vr,hd,vl,hu: 19%  8% 12% 10% 13% 15%  7% 12%  5%\n",
      "[libx264 @ 0x56438362dfc0] i8c dc,h,v,p: 51% 13% 26% 10%\n",
      "[libx264 @ 0x56438362dfc0] Weighted P-Frames: Y:0.0% UV:0.0%\n",
      "[libx264 @ 0x56438362dfc0] ref P L0: 23.7%  9.8% 40.3% 26.3%\n",
      "[libx264 @ 0x56438362dfc0] kb/s:8565.14\n",
      "ffmpeg version 4.2.7-0ubuntu0.1 Copyright (c) 2000-2022 the FFmpeg developers\n",
      "  built with gcc 9 (Ubuntu 9.4.0-1ubuntu1~20.04.1)\n",
      "  configuration: --prefix=/usr --extra-version=0ubuntu0.1 --toolchain=hardened --libdir=/usr/lib/x86_64-linux-gnu --incdir=/usr/include/x86_64-linux-gnu --arch=amd64 --enable-gpl --disable-stripping --enable-avresample --disable-filter=resample --enable-avisynth --enable-gnutls --enable-ladspa --enable-libaom --enable-libass --enable-libbluray --enable-libbs2b --enable-libcaca --enable-libcdio --enable-libcodec2 --enable-libflite --enable-libfontconfig --enable-libfreetype --enable-libfribidi --enable-libgme --enable-libgsm --enable-libjack --enable-libmp3lame --enable-libmysofa --enable-libopenjpeg --enable-libopenmpt --enable-libopus --enable-libpulse --enable-librsvg --enable-librubberband --enable-libshine --enable-libsnappy --enable-libsoxr --enable-libspeex --enable-libssh --enable-libtheora --enable-libtwolame --enable-libvidstab --enable-libvorbis --enable-libvpx --enable-libwavpack --enable-libwebp --enable-libx265 --enable-libxml2 --enable-libxvid --enable-libzmq --enable-libzvbi --enable-lv2 --enable-omx --enable-openal --enable-opencl --enable-opengl --enable-sdl2 --enable-libdc1394 --enable-libdrm --enable-libiec61883 --enable-nvenc --enable-chromaprint --enable-frei0r --enable-libx264 --enable-shared\n",
      "  WARNING: library configuration mismatch\n",
      "  avcodec     configuration: --prefix=/usr --extra-version=0ubuntu0.1 --toolchain=hardened --libdir=/usr/lib/x86_64-linux-gnu --incdir=/usr/include/x86_64-linux-gnu --arch=amd64 --enable-gpl --disable-stripping --enable-avresample --disable-filter=resample --enable-avisynth --enable-gnutls --enable-ladspa --enable-libaom --enable-libass --enable-libbluray --enable-libbs2b --enable-libcaca --enable-libcdio --enable-libcodec2 --enable-libflite --enable-libfontconfig --enable-libfreetype --enable-libfribidi --enable-libgme --enable-libgsm --enable-libjack --enable-libmp3lame --enable-libmysofa --enable-libopenjpeg --enable-libopenmpt --enable-libopus --enable-libpulse --enable-librsvg --enable-librubberband --enable-libshine --enable-libsnappy --enable-libsoxr --enable-libspeex --enable-libssh --enable-libtheora --enable-libtwolame --enable-libvidstab --enable-libvorbis --enable-libvpx --enable-libwavpack --enable-libwebp --enable-libx265 --enable-libxml2 --enable-libxvid --enable-libzmq --enable-libzvbi --enable-lv2 --enable-omx --enable-openal --enable-opencl --enable-opengl --enable-sdl2 --enable-libdc1394 --enable-libdrm --enable-libiec61883 --enable-nvenc --enable-chromaprint --enable-frei0r --enable-libx264 --enable-shared --enable-version3 --disable-doc --disable-programs --enable-libaribb24 --enable-liblensfun --enable-libopencore_amrnb --enable-libopencore_amrwb --enable-libtesseract --enable-libvo_amrwbenc\n",
      "  libavutil      56. 31.100 / 56. 31.100\n",
      "  libavcodec     58. 54.100 / 58. 54.100\n",
      "  libavformat    58. 29.100 / 58. 29.100\n",
      "  libavdevice    58.  8.100 / 58.  8.100\n",
      "  libavfilter     7. 57.100 /  7. 57.100\n",
      "  libavresample   4.  0.  0 /  4.  0.  0\n",
      "  libswscale      5.  5.100 /  5.  5.100\n",
      "  libswresample   3.  5.100 /  3.  5.100\n",
      "  libpostproc    55.  5.100 / 55.  5.100\n",
      "Input #0, mov,mp4,m4a,3gp,3g2,mj2, from 'EXPERIMENT/mpdecimate.mp4':\n",
      "  Metadata:\n",
      "    major_brand     : isom\n",
      "    minor_version   : 512\n",
      "    compatible_brands: isomiso2avc1mp41\n",
      "    encoder         : Lavf58.29.100\n",
      "  Duration: 00:00:01.00, start: 0.000000, bitrate: 8578 kb/s\n",
      "    Stream #0:0(und): Video: h264 (High) (avc1 / 0x31637661), yuv420p, 512x768, 8570 kb/s, 30 fps, 30 tbr, 15360 tbn, 60 tbc (default)\n",
      "    Metadata:\n",
      "      handler_name    : VideoHandler\n",
      "Input #1, mp3, from 'static/long.mp3':\n",
      "  Metadata:\n",
      "    major_brand     : mp42\n",
      "    minor_version   : 0\n",
      "    compatible_brands: isommp42\n",
      "    encoder         : Lavf58.29.100\n",
      "  Duration: 03:26:08.74, start: 0.025057, bitrate: 128 kb/s\n",
      "    Stream #1:0: Audio: mp3, 44100 Hz, stereo, fltp, 128 kb/s\n",
      "    Metadata:\n",
      "      encoder         : Lavc58.54\n",
      "[afade @ 0x558e9654ee00] Unable to parse option value \"exprs=tb-d\" as duration\n",
      "    Last message repeated 1 times\n",
      "[afade @ 0x558e9654ee00] Error setting option st to value exprs=tb-d.\n",
      "[Parsed_afade_1 @ 0x558e9654ed00] Error applying options to the filter.\n",
      "[AVFilterGraph @ 0x558e96510500] Error initializing filter 'afade' with args 't=out:st=exprs=tb-d:d=2'\n",
      "Error initializing complex filters.\n",
      "Invalid argument\n"
     ]
    }
   ],
   "source": [
    "import subprocess\n",
    "def process_video(input_video):\n",
    "    DIR = \"EXPERIMENT/\"\n",
    "  \n",
    "    # Run FFmpeg commands\n",
    "    command1 = \"ffmpeg -i \"+input_video+\" -filter:v \\\"minterpolate='mi_mode=mci:mc_mode=aobmc:vsbmc=1:fps=50'\\\" -c:v libx264 -r 30 -pix_fmt yuv420p -c:a copy -y \"+DIR+\"output.mp4\"\n",
    "    subprocess.run(command1, shell=True)\n",
    "    \n",
    "    command2 = \"ffmpeg -i \"+DIR+\"output.mp4 -vf mpdecimate,setpts=N/FRAME_RATE/TB -c:v libx264 -r 30 -pix_fmt yuv420p -c:a copy -y  \"+DIR+\"mpdecimate.mp4\"\n",
    "    subprocess.run(command2, shell=True)\n",
    "\n",
    "    # Add music to the video\n",
    "    command3 = \"ffmpeg -i EXPERIMENT/mpdecimate.mp4 -i static/long.mp3 -filter_complex \\\"[1:a]afade=t=in:st=0:d=1,afade=t=out:st='exprs=tb-d':d=2[a1];[0:a][a1]amix=inputs=2\\\" -c:v copy -y  \"+DIR+\"final.mp4\"\n",
    "\n",
    "    subprocess.run(command3, shell=True)\n",
    "   \n",
    "    \n",
    "input_video=\"/home/jack/Desktop/HDD500/MyTube_AI_Flask_App/static/2023-06-12_15-17-30_output.mp4\"  \n",
    "process_video(input_video)"
   ]
  },
  {
   "cell_type": "code",
   "execution_count": null,
   "id": "afce4227",
   "metadata": {},
   "outputs": [],
   "source": [
    "/home/jack/Desktop/HDD500/YOUTUBE/output_videos/2520230304-190412_short.mp4"
   ]
  },
  {
   "cell_type": "code",
   "execution_count": 29,
   "id": "696086b6",
   "metadata": {
    "scrolled": false
   },
   "outputs": [
    {
     "name": "stderr",
     "output_type": "stream",
     "text": [
      "ffmpeg version 4.2.7-0ubuntu0.1 Copyright (c) 2000-2022 the FFmpeg developers\n",
      "  built with gcc 9 (Ubuntu 9.4.0-1ubuntu1~20.04.1)\n",
      "  configuration: --prefix=/usr --extra-version=0ubuntu0.1 --toolchain=hardened --libdir=/usr/lib/x86_64-linux-gnu --incdir=/usr/include/x86_64-linux-gnu --arch=amd64 --enable-gpl --disable-stripping --enable-avresample --disable-filter=resample --enable-avisynth --enable-gnutls --enable-ladspa --enable-libaom --enable-libass --enable-libbluray --enable-libbs2b --enable-libcaca --enable-libcdio --enable-libcodec2 --enable-libflite --enable-libfontconfig --enable-libfreetype --enable-libfribidi --enable-libgme --enable-libgsm --enable-libjack --enable-libmp3lame --enable-libmysofa --enable-libopenjpeg --enable-libopenmpt --enable-libopus --enable-libpulse --enable-librsvg --enable-librubberband --enable-libshine --enable-libsnappy --enable-libsoxr --enable-libspeex --enable-libssh --enable-libtheora --enable-libtwolame --enable-libvidstab --enable-libvorbis --enable-libvpx --enable-libwavpack --enable-libwebp --enable-libx265 --enable-libxml2 --enable-libxvid --enable-libzmq --enable-libzvbi --enable-lv2 --enable-omx --enable-openal --enable-opencl --enable-opengl --enable-sdl2 --enable-libdc1394 --enable-libdrm --enable-libiec61883 --enable-nvenc --enable-chromaprint --enable-frei0r --enable-libx264 --enable-shared\n",
      "  libavutil      56. 31.100 / 56. 31.100\n",
      "  libavcodec     58. 54.100 / 58. 54.100\n",
      "  libavformat    58. 29.100 / 58. 29.100\n",
      "  libavdevice    58.  8.100 / 58.  8.100\n",
      "  libavfilter     7. 57.100 /  7. 57.100\n",
      "  libavresample   4.  0.  0 /  4.  0.  0\n",
      "  libswscale      5.  5.100 /  5.  5.100\n",
      "  libswresample   3.  5.100 /  3.  5.100\n",
      "  libpostproc    55.  5.100 / 55.  5.100\n",
      "Input #0, mov,mp4,m4a,3gp,3g2,mj2, from '/home/jack/Desktop/FLASK/static/square_vids/00024_AI_Square_Video_Content.mp4':\n",
      "  Metadata:\n",
      "    major_brand     : isom\n",
      "    minor_version   : 512\n",
      "    compatible_brands: isomiso2avc1mp41\n",
      "    encoder         : Lavf58.29.100\n",
      "  Duration: 00:00:50.00, start: 0.000000, bitrate: 297 kb/s\n",
      "    Stream #0:0(und): Video: h264 (High) (avc1 / 0x31637661), yuv420p, 640x640, 294 kb/s, 24 fps, 24 tbr, 12288 tbn, 48 tbc (default)\n",
      "    Metadata:\n",
      "      handler_name    : VideoHandler\n",
      "Stream mapping:\n",
      "  Stream #0:0 -> #0:0 (h264 (native) -> h264 (libx264))\n",
      "Press [q] to stop, [?] for help\n",
      "[libx264 @ 0x55d1b6c13500] using cpu capabilities: MMX2 SSE2Fast LZCNT SSSE3 SSE4.2\n",
      "[libx264 @ 0x55d1b6c13500] profile High, level 3.1\n",
      "[libx264 @ 0x55d1b6c13500] 264 - core 155 r2917 0a84d98 - H.264/MPEG-4 AVC codec - Copyleft 2003-2018 - http://www.videolan.org/x264.html - options: cabac=1 ref=3 deblock=1:0:0 analyse=0x3:0x113 me=hex subme=7 psy=1 psy_rd=1.00:0.00 mixed_ref=1 me_range=16 chroma_me=1 trellis=1 8x8dct=1 cqm=0 deadzone=21,11 fast_pskip=1 chroma_qp_offset=-2 threads=3 lookahead_threads=1 sliced_threads=0 nr=0 decimate=1 interlaced=0 bluray_compat=0 constrained_intra=0 bframes=3 b_pyramid=2 b_adapt=1 b_bias=0 direct=1 weightb=1 open_gop=0 weightp=2 keyint=250 keyint_min=25 scenecut=40 intra_refresh=0 rc_lookahead=40 rc=crf mbtree=1 crf=23.0 qcomp=0.60 qpmin=0 qpmax=69 qpstep=4 ip_ratio=1.40 aq=1:1.00\n",
      "Output #0, mp4, to '/home/jack/Desktop/ffmpeg_flask/outputxx.mp4':\n",
      "  Metadata:\n",
      "    major_brand     : isom\n",
      "    minor_version   : 512\n",
      "    compatible_brands: isomiso2avc1mp41\n",
      "    encoder         : Lavf58.29.100\n",
      "    Stream #0:0(und): Video: h264 (libx264) (avc1 / 0x31637661), yuv420p, 640x640, q=-1--1, 30 fps, 15360 tbn, 30 tbc (default)\n",
      "    Metadata:\n",
      "      handler_name    : VideoHandler\n",
      "      encoder         : Lavc58.54.100 libx264\n",
      "    Side data:\n",
      "      cpb: bitrate max/min/avg: 0/0/0 buffer size: 0 vbv_delay: -1\n",
      "frame= 1499 fps=5.0 q=-1.0 Lsize=    1787kB time=00:00:49.86 bitrate= 293.5kbits/s dup=0 drop=997 speed=0.167x    \n",
      "video:1768kB audio:0kB subtitle:0kB other streams:0kB global headers:0kB muxing overhead: 1.029577%\n",
      "[libx264 @ 0x55d1b6c13500] frame I:50    Avg QP:15.19  size: 35142\n",
      "[libx264 @ 0x55d1b6c13500] frame P:399   Avg QP:20.16  size:    61\n",
      "[libx264 @ 0x55d1b6c13500] frame B:1050  Avg QP:24.73  size:    27\n",
      "[libx264 @ 0x55d1b6c13500] consecutive B-frames:  6.5%  0.1%  0.2% 93.1%\n",
      "[libx264 @ 0x55d1b6c13500] mb I  I16..4:  5.4% 82.9% 11.7%\n",
      "[libx264 @ 0x55d1b6c13500] mb P  I16..4:  0.0%  0.0%  0.0%  P16..4:  0.7%  0.1%  0.0%  0.0%  0.0%    skip:99.2%\n",
      "[libx264 @ 0x55d1b6c13500] mb B  I16..4:  0.0%  0.0%  0.0%  B16..8:  0.3%  0.0%  0.0%  direct: 0.0%  skip:99.7%  L0:33.8% L1:66.2% BI: 0.0%\n",
      "[libx264 @ 0x55d1b6c13500] 8x8 transform intra:82.8% inter:98.0%\n",
      "[libx264 @ 0x55d1b6c13500] coded y,uvDC,uvAC intra: 87.7% 90.6% 83.9% inter: 0.0% 0.1% 0.0%\n",
      "[libx264 @ 0x55d1b6c13500] i16 v,h,dc,p: 23% 17%  5% 55%\n",
      "[libx264 @ 0x55d1b6c13500] i8 v,h,dc,ddl,ddr,vr,hd,vl,hu: 29% 19%  8%  6%  7%  9%  6%  9%  7%\n",
      "[libx264 @ 0x55d1b6c13500] i4 v,h,dc,ddl,ddr,vr,hd,vl,hu: 36% 21%  7%  4%  9%  8%  7%  5%  4%\n",
      "[libx264 @ 0x55d1b6c13500] i8c dc,h,v,p: 34% 19% 26% 21%\n",
      "[libx264 @ 0x55d1b6c13500] Weighted P-Frames: Y:0.0% UV:0.0%\n",
      "[libx264 @ 0x55d1b6c13500] ref P L0: 96.7%  0.0%  2.3%  1.0%\n",
      "[libx264 @ 0x55d1b6c13500] ref B L0: 69.8% 27.3%  2.9%\n",
      "[libx264 @ 0x55d1b6c13500] ref B L1: 98.3%  1.7%\n",
      "[libx264 @ 0x55d1b6c13500] kb/s:289.80\n",
      "ffmpeg version 4.2.7-0ubuntu0.1 Copyright (c) 2000-2022 the FFmpeg developers\n",
      "  built with gcc 9 (Ubuntu 9.4.0-1ubuntu1~20.04.1)\n",
      "  configuration: --prefix=/usr --extra-version=0ubuntu0.1 --toolchain=hardened --libdir=/usr/lib/x86_64-linux-gnu --incdir=/usr/include/x86_64-linux-gnu --arch=amd64 --enable-gpl --disable-stripping --enable-avresample --disable-filter=resample --enable-avisynth --enable-gnutls --enable-ladspa --enable-libaom --enable-libass --enable-libbluray --enable-libbs2b --enable-libcaca --enable-libcdio --enable-libcodec2 --enable-libflite --enable-libfontconfig --enable-libfreetype --enable-libfribidi --enable-libgme --enable-libgsm --enable-libjack --enable-libmp3lame --enable-libmysofa --enable-libopenjpeg --enable-libopenmpt --enable-libopus --enable-libpulse --enable-librsvg --enable-librubberband --enable-libshine --enable-libsnappy --enable-libsoxr --enable-libspeex --enable-libssh --enable-libtheora --enable-libtwolame --enable-libvidstab --enable-libvorbis --enable-libvpx --enable-libwavpack --enable-libwebp --enable-libx265 --enable-libxml2 --enable-libxvid --enable-libzmq --enable-libzvbi --enable-lv2 --enable-omx --enable-openal --enable-opencl --enable-opengl --enable-sdl2 --enable-libdc1394 --enable-libdrm --enable-libiec61883 --enable-nvenc --enable-chromaprint --enable-frei0r --enable-libx264 --enable-shared\n",
      "  libavutil      56. 31.100 / 56. 31.100\n",
      "  libavcodec     58. 54.100 / 58. 54.100\n",
      "  libavformat    58. 29.100 / 58. 29.100\n",
      "  libavdevice    58.  8.100 / 58.  8.100\n",
      "  libavfilter     7. 57.100 /  7. 57.100\n",
      "  libavresample   4.  0.  0 /  4.  0.  0\n",
      "  libswscale      5.  5.100 /  5.  5.100\n",
      "  libswresample   3.  5.100 /  3.  5.100\n",
      "  libpostproc    55.  5.100 / 55.  5.100\n",
      "Input #0, mov,mp4,m4a,3gp,3g2,mj2, from '/home/jack/Desktop/ffmpeg_flask/outputxx.mp4':\n",
      "  Metadata:\n",
      "    major_brand     : isom\n",
      "    minor_version   : 512\n",
      "    compatible_brands: isomiso2avc1mp41\n",
      "    encoder         : Lavf58.29.100\n",
      "  Duration: 00:00:49.97, start: 0.000000, bitrate: 292 kb/s\n",
      "    Stream #0:0(und): Video: h264 (High) (avc1 / 0x31637661), yuv420p, 640x640, 289 kb/s, 30 fps, 30 tbr, 15360 tbn, 60 tbc (default)\n",
      "    Metadata:\n",
      "      handler_name    : VideoHandler\n",
      "Stream mapping:\n",
      "  Stream #0:0 -> #0:0 (h264 (native) -> h264 (libx264))\n",
      "Press [q] to stop, [?] for help\n",
      "[libx264 @ 0x55c2f3a74c00] using cpu capabilities: MMX2 SSE2Fast LZCNT SSSE3 SSE4.2\n",
      "[libx264 @ 0x55c2f3a74c00] profile High, level 3.1\n",
      "[libx264 @ 0x55c2f3a74c00] 264 - core 155 r2917 0a84d98 - H.264/MPEG-4 AVC codec - Copyleft 2003-2018 - http://www.videolan.org/x264.html - options: cabac=1 ref=3 deblock=1:0:0 analyse=0x3:0x113 me=hex subme=7 psy=1 psy_rd=1.00:0.00 mixed_ref=1 me_range=16 chroma_me=1 trellis=1 8x8dct=1 cqm=0 deadzone=21,11 fast_pskip=1 chroma_qp_offset=-2 threads=3 lookahead_threads=1 sliced_threads=0 nr=0 decimate=1 interlaced=0 bluray_compat=0 constrained_intra=0 bframes=3 b_pyramid=2 b_adapt=1 b_bias=0 direct=1 weightb=1 open_gop=0 weightp=2 keyint=250 keyint_min=25 scenecut=40 intra_refresh=0 rc_lookahead=40 rc=crf mbtree=1 crf=23.0 qcomp=0.60 qpmin=0 qpmax=69 qpstep=4 ip_ratio=1.40 aq=1:1.00\n",
      "Output #0, mp4, to '/home/jack/Desktop/ffmpeg_flask/mpdecimatexx.mp4':\n",
      "  Metadata:\n",
      "    major_brand     : isom\n",
      "    minor_version   : 512\n",
      "    compatible_brands: isomiso2avc1mp41\n",
      "    encoder         : Lavf58.29.100\n",
      "    Stream #0:0(und): Video: h264 (libx264) (avc1 / 0x31637661), yuv420p, 640x640, q=-1--1, 30 fps, 15360 tbn, 30 tbc (default)\n",
      "    Metadata:\n",
      "      handler_name    : VideoHandler\n",
      "      encoder         : Lavc58.54.100 libx264\n",
      "    Side data:\n",
      "      cpb: bitrate max/min/avg: 0/0/0 buffer size: 0 vbv_delay: -1\n"
     ]
    },
    {
     "name": "stderr",
     "output_type": "stream",
     "text": [
      "frame=   50 fps= 17 q=-1.0 Lsize=     525kB time=00:00:01.56 bitrate=2743.6kbits/s speed=0.525x      \n",
      "video:524kB audio:0kB subtitle:0kB other streams:0kB global headers:0kB muxing overhead: 0.194494%\n",
      "[libx264 @ 0x55c2f3a74c00] frame I:3     Avg QP:25.73  size: 11230\n",
      "[libx264 @ 0x55c2f3a74c00] frame P:47    Avg QP:27.34  size: 10678\n",
      "[libx264 @ 0x55c2f3a74c00] mb I  I16..4: 14.4% 82.3%  3.3%\n",
      "[libx264 @ 0x55c2f3a74c00] mb P  I16..4: 14.3% 81.9%  3.2%  P16..4:  0.5%  0.1%  0.0%  0.0%  0.0%    skip: 0.0%\n",
      "[libx264 @ 0x55c2f3a74c00] 8x8 transform intra:82.4% inter:94.5%\n",
      "[libx264 @ 0x55c2f3a74c00] coded y,uvDC,uvAC intra: 51.2% 72.2% 19.4% inter: 53.1% 88.1% 2.0%\n",
      "[libx264 @ 0x55c2f3a74c00] i16 v,h,dc,p: 22% 18%  5% 55%\n",
      "[libx264 @ 0x55c2f3a74c00] i8 v,h,dc,ddl,ddr,vr,hd,vl,hu: 32% 18% 10%  6%  7%  8%  6%  8%  6%\n",
      "[libx264 @ 0x55c2f3a74c00] i4 v,h,dc,ddl,ddr,vr,hd,vl,hu: 28% 17%  8%  6% 12% 10%  8%  6%  4%\n",
      "[libx264 @ 0x55c2f3a74c00] i8c dc,h,v,p: 43% 18% 24% 15%\n",
      "[libx264 @ 0x55c2f3a74c00] Weighted P-Frames: Y:4.3% UV:4.3%\n",
      "[libx264 @ 0x55c2f3a74c00] ref P L0: 38.1% 10.1% 24.8% 26.7%  0.3%\n",
      "[libx264 @ 0x55c2f3a74c00] kb/s:2570.75\n",
      "ffmpeg version 4.2.7-0ubuntu0.1 Copyright (c) 2000-2022 the FFmpeg developers\n",
      "  built with gcc 9 (Ubuntu 9.4.0-1ubuntu1~20.04.1)\n",
      "  configuration: --prefix=/usr --extra-version=0ubuntu0.1 --toolchain=hardened --libdir=/usr/lib/x86_64-linux-gnu --incdir=/usr/include/x86_64-linux-gnu --arch=amd64 --enable-gpl --disable-stripping --enable-avresample --disable-filter=resample --enable-avisynth --enable-gnutls --enable-ladspa --enable-libaom --enable-libass --enable-libbluray --enable-libbs2b --enable-libcaca --enable-libcdio --enable-libcodec2 --enable-libflite --enable-libfontconfig --enable-libfreetype --enable-libfribidi --enable-libgme --enable-libgsm --enable-libjack --enable-libmp3lame --enable-libmysofa --enable-libopenjpeg --enable-libopenmpt --enable-libopus --enable-libpulse --enable-librsvg --enable-librubberband --enable-libshine --enable-libsnappy --enable-libsoxr --enable-libspeex --enable-libssh --enable-libtheora --enable-libtwolame --enable-libvidstab --enable-libvorbis --enable-libvpx --enable-libwavpack --enable-libwebp --enable-libx265 --enable-libxml2 --enable-libxvid --enable-libzmq --enable-libzvbi --enable-lv2 --enable-omx --enable-openal --enable-opencl --enable-opengl --enable-sdl2 --enable-libdc1394 --enable-libdrm --enable-libiec61883 --enable-nvenc --enable-chromaprint --enable-frei0r --enable-libx264 --enable-shared\n",
      "  libavutil      56. 31.100 / 56. 31.100\n",
      "  libavcodec     58. 54.100 / 58. 54.100\n",
      "  libavformat    58. 29.100 / 58. 29.100\n",
      "  libavdevice    58.  8.100 / 58.  8.100\n",
      "  libavfilter     7. 57.100 /  7. 57.100\n",
      "  libavresample   4.  0.  0 /  4.  0.  0\n",
      "  libswscale      5.  5.100 /  5.  5.100\n",
      "  libswresample   3.  5.100 /  3.  5.100\n",
      "  libpostproc    55.  5.100 / 55.  5.100\n",
      "Input #0, mov,mp4,m4a,3gp,3g2,mj2, from '/home/jack/Desktop/ffmpeg_flask/mpdecimatexx.mp4':\n",
      "  Metadata:\n",
      "    major_brand     : isom\n",
      "    minor_version   : 512\n",
      "    compatible_brands: isomiso2avc1mp41\n",
      "    encoder         : Lavf58.29.100\n",
      "  Duration: 00:00:01.67, start: 0.000000, bitrate: 2578 kb/s\n",
      "    Stream #0:0(und): Video: h264 (High) (avc1 / 0x31637661), yuv420p, 640x640, 2574 kb/s, 30 fps, 30 tbr, 15360 tbn, 60 tbc (default)\n",
      "    Metadata:\n",
      "      handler_name    : VideoHandler\n",
      "Input #1, mp3, from '/home/jack/Desktop/ffmpeg_flask/static/long.mp3':\n",
      "  Metadata:\n",
      "    major_brand     : mp42\n",
      "    minor_version   : 0\n",
      "    compatible_brands: isommp42\n",
      "    encoder         : Lavf58.29.100\n",
      "  Duration: 03:26:08.74, start: 0.025057, bitrate: 128 kb/s\n",
      "    Stream #1:0: Audio: mp3, 44100 Hz, stereo, fltp, 128 kb/s\n",
      "    Metadata:\n",
      "      encoder         : Lavc58.54\n",
      "[afade @ 0x561532e833c0] Unable to parse option value \"exprs=tb-d\" as duration\n",
      "    Last message repeated 1 times\n",
      "[afade @ 0x561532e833c0] Error setting option st to value exprs=tb-d.\n",
      "[Parsed_afade_1 @ 0x561532e83280] Error applying options to the filter.\n",
      "[AVFilterGraph @ 0x561532e8a380] Error initializing filter 'afade' with args 't=out:st=exprs=tb-d:d=2'\n",
      "Error initializing complex filters.\n",
      "Invalid argument\n"
     ]
    }
   ],
   "source": [
    "import subprocess\n",
    "\n",
    "def process_video(input_video):\n",
    "    DIR = \"/home/jack/Desktop/ffmpeg_flask/\"\n",
    "  \n",
    "    # Run FFmpeg commands\n",
    "    command1 = f\"ffmpeg -i {input_video} -filter:v \\\"minterpolate='mi_mode=mci:mc_mode=aobmc:vsbmc=1:fps=50'\\\" -c:v libx264 -r 30 -pix_fmt yuv420p -c:a copy -y {DIR}outputxx.mp4\"\n",
    "    subprocess.run(command1, shell=True)\n",
    "    \n",
    "    command2 = f\"ffmpeg -i {DIR}outputxx.mp4 -vf mpdecimate,setpts=N/FRAME_RATE/TB -c:v libx264 -r 30 -pix_fmt yuv420p -c:a copy -y {DIR}mpdecimatexx.mp4\"\n",
    "    subprocess.run(command2, shell=True)\n",
    "\n",
    "    # Add music to the video\n",
    "    command3 = f\"ffmpeg -i {DIR}mpdecimatexx.mp4 -i {DIR}static/long.mp3 -filter_complex \\\"[1:a]afade=t=in:st=0:d=1,afade=t=out:st='exprs=tb-d':d=2[a1];[0:a][a1]amix=inputs=2\\\" -c:v copy -y {DIR}finalXX.mp4\"\n",
    "    subprocess.run(command3, shell=True)\n",
    "    \n",
    "input_video = \"/home/jack/Desktop/FLASK/static/square_vids/00024_AI_Square_Video_Content.mp4\"  \n",
    "process_video(input_video)\n"
   ]
  },
  {
   "cell_type": "code",
   "execution_count": 36,
   "id": "9157aed6",
   "metadata": {},
   "outputs": [
    {
     "name": "stdout",
     "output_type": "stream",
     "text": [
      "app.py\t     appworking.py  long.mp3\t      outputxx.mp4\tstatic\r\n",
      "app.py-back  Dockerfile     mpdecimatexx.mp4  requirements.txt\ttemplates\r\n",
      "app.pyback   ffmpeg_server  myapp.log\t      Requirements.txt\tview.py\r\n"
     ]
    }
   ],
   "source": [
    "!ls /home/jack/Desktop/ffmpeg_flask/"
   ]
  },
  {
   "cell_type": "code",
   "execution_count": 45,
   "id": "2dc62234",
   "metadata": {},
   "outputs": [
    {
     "name": "stderr",
     "output_type": "stream",
     "text": [
      "ffmpeg version 4.2.7-0ubuntu0.1 Copyright (c) 2000-2022 the FFmpeg developers\n",
      "  built with gcc 9 (Ubuntu 9.4.0-1ubuntu1~20.04.1)\n",
      "  configuration: --prefix=/usr --extra-version=0ubuntu0.1 --toolchain=hardened --libdir=/usr/lib/x86_64-linux-gnu --incdir=/usr/include/x86_64-linux-gnu --arch=amd64 --enable-gpl --disable-stripping --enable-avresample --disable-filter=resample --enable-avisynth --enable-gnutls --enable-ladspa --enable-libaom --enable-libass --enable-libbluray --enable-libbs2b --enable-libcaca --enable-libcdio --enable-libcodec2 --enable-libflite --enable-libfontconfig --enable-libfreetype --enable-libfribidi --enable-libgme --enable-libgsm --enable-libjack --enable-libmp3lame --enable-libmysofa --enable-libopenjpeg --enable-libopenmpt --enable-libopus --enable-libpulse --enable-librsvg --enable-librubberband --enable-libshine --enable-libsnappy --enable-libsoxr --enable-libspeex --enable-libssh --enable-libtheora --enable-libtwolame --enable-libvidstab --enable-libvorbis --enable-libvpx --enable-libwavpack --enable-libwebp --enable-libx265 --enable-libxml2 --enable-libxvid --enable-libzmq --enable-libzvbi --enable-lv2 --enable-omx --enable-openal --enable-opencl --enable-opengl --enable-sdl2 --enable-libdc1394 --enable-libdrm --enable-libiec61883 --enable-nvenc --enable-chromaprint --enable-frei0r --enable-libx264 --enable-shared\n",
      "  libavutil      56. 31.100 / 56. 31.100\n",
      "  libavcodec     58. 54.100 / 58. 54.100\n",
      "  libavformat    58. 29.100 / 58. 29.100\n",
      "  libavdevice    58.  8.100 / 58.  8.100\n",
      "  libavfilter     7. 57.100 /  7. 57.100\n",
      "  libavresample   4.  0.  0 /  4.  0.  0\n",
      "  libswscale      5.  5.100 /  5.  5.100\n",
      "  libswresample   3.  5.100 /  3.  5.100\n",
      "  libpostproc    55.  5.100 / 55.  5.100\n",
      "Input #0, mov,mp4,m4a,3gp,3g2,mj2, from '/home/jack/Desktop/ffmpeg_flask/mpdecimatexx.mp4':\n",
      "  Metadata:\n",
      "    major_brand     : isom\n",
      "    minor_version   : 512\n",
      "    compatible_brands: isomiso2avc1mp41\n",
      "    encoder         : Lavf58.29.100\n",
      "  Duration: 00:00:01.67, start: 0.000000, bitrate: 2578 kb/s\n",
      "    Stream #0:0(und): Video: h264 (High) (avc1 / 0x31637661), yuv420p, 640x640, 2574 kb/s, 30 fps, 30 tbr, 15360 tbn, 60 tbc (default)\n",
      "    Metadata:\n",
      "      handler_name    : VideoHandler\n",
      "[Parsed_channelmap_4 @ 0x5614d83bda40] Failed to parse channel map\n",
      "[AVFilterGraph @ 0x5614d83b94c0] Error initializing filter 'channelmap' with args 'map=stereo'\n",
      "Error initializing complex filters.\n",
      "Invalid argument\n"
     ]
    },
    {
     "data": {
      "text/plain": [
       "CompletedProcess(args='ffmpeg -i /home/jack/Desktop/ffmpeg_flask/mpdecimatexx.mp4 -filter_complex \"[0:v]trim=duration=14,loop=279:1:0[vloop];[0:a]afade=t=in:st=0:d=1,afade=t=out:st=0.9:d=2,channelmap=map=stereo[a1];[vloop][a1]concat=n=1:v=1:a=1\" -c:v libx264 -r 30 -pix_fmt yuv420p -c:a aac -b:a 192k -shortest -y /home/jack/Desktop/ffmpeg_flask/finaldoubleup.mp4', returncode=1)"
      ]
     },
     "execution_count": 45,
     "metadata": {},
     "output_type": "execute_result"
    }
   ],
   "source": [
    "import subprocess\n",
    "\n",
    "DIR = \"/home/jack/Desktop/ffmpeg_flask/\"\n",
    "EXP = \"EXPERIMENT\"\n",
    "command = f\"ffmpeg -i {DIR}mpdecimatexx.mp4 -filter_complex \\\"[0:v]trim=duration=14,loop=279:1:0[vloop];[0:a]afade=t=in:st=0:d=1,afade=t=out:st=0.9:d=2,channelmap=map=stereo[a1];[vloop][a1]concat=n=1:v=1:a=1\\\" -c:v libx264 -r 30 -pix_fmt yuv420p -c:a aac -b:a 192k -shortest -y {EXP}finaldoubleup.mp4\"\n",
    "\n",
    "subprocess.run(command, shell=True)\n"
   ]
  },
  {
   "cell_type": "code",
   "execution_count": 53,
   "id": "72f1be85",
   "metadata": {},
   "outputs": [],
   "source": [
    "!cp /home/jack/Desktop/ffmpeg_flask/mpdecimatexx.mp4 input.mp4"
   ]
  },
  {
   "cell_type": "code",
   "execution_count": 55,
   "id": "48346b0b",
   "metadata": {},
   "outputs": [
    {
     "name": "stdout",
     "output_type": "stream",
     "text": [
      "ffmpeg version 4.2.7-0ubuntu0.1 Copyright (c) 2000-2022 the FFmpeg developers\r\n",
      "  built with gcc 9 (Ubuntu 9.4.0-1ubuntu1~20.04.1)\r\n",
      "  configuration: --prefix=/usr --extra-version=0ubuntu0.1 --toolchain=hardened --libdir=/usr/lib/x86_64-linux-gnu --incdir=/usr/include/x86_64-linux-gnu --arch=amd64 --enable-gpl --disable-stripping --enable-avresample --disable-filter=resample --enable-avisynth --enable-gnutls --enable-ladspa --enable-libaom --enable-libass --enable-libbluray --enable-libbs2b --enable-libcaca --enable-libcdio --enable-libcodec2 --enable-libflite --enable-libfontconfig --enable-libfreetype --enable-libfribidi --enable-libgme --enable-libgsm --enable-libjack --enable-libmp3lame --enable-libmysofa --enable-libopenjpeg --enable-libopenmpt --enable-libopus --enable-libpulse --enable-librsvg --enable-librubberband --enable-libshine --enable-libsnappy --enable-libsoxr --enable-libspeex --enable-libssh --enable-libtheora --enable-libtwolame --enable-libvidstab --enable-libvorbis --enable-libvpx --enable-libwavpack --enable-libwebp --enable-libx265 --enable-libxml2 --enable-libxvid --enable-libzmq --enable-libzvbi --enable-lv2 --enable-omx --enable-openal --enable-opencl --enable-opengl --enable-sdl2 --enable-libdc1394 --enable-libdrm --enable-libiec61883 --enable-nvenc --enable-chromaprint --enable-frei0r --enable-libx264 --enable-shared\r\n",
      "  libavutil      56. 31.100 / 56. 31.100\r\n",
      "  libavcodec     58. 54.100 / 58. 54.100\r\n",
      "  libavformat    58. 29.100 / 58. 29.100\r\n",
      "  libavdevice    58.  8.100 / 58.  8.100\r\n",
      "  libavfilter     7. 57.100 /  7. 57.100\r\n",
      "  libavresample   4.  0.  0 /  4.  0.  0\r\n",
      "  libswscale      5.  5.100 /  5.  5.100\r\n",
      "  libswresample   3.  5.100 /  3.  5.100\r\n",
      "  libpostproc    55.  5.100 / 55.  5.100\r\n",
      "Input #0, mov,mp4,m4a,3gp,3g2,mj2, from 'input.mp4':\r\n",
      "  Metadata:\r\n",
      "    major_brand     : isom\r\n",
      "    minor_version   : 512\r\n",
      "    compatible_brands: isomiso2avc1mp41\r\n",
      "    encoder         : Lavf58.29.100\r\n",
      "  Duration: 00:00:01.67, start: 0.000000, bitrate: 2578 kb/s\r\n",
      "    Stream #0:0(und): Video: h264 (High) (avc1 / 0x31637661), yuv420p, 640x640, 2574 kb/s, 30 fps, 30 tbr, 15360 tbn, 60 tbc (default)\r\n",
      "    Metadata:\r\n",
      "      handler_name    : VideoHandler\r\n",
      "\u001b[1;32m[AVFilterGraph @ 0x555c9c8eb380] \u001b[0m\u001b[1;31mNo output pad can be associated to link label 'b'.\r\n",
      "\u001b[0m\u001b[4;31mError initializing complex filters.\r\n",
      "\u001b[0m\u001b[4;31mInvalid argument\r\n",
      "\u001b[0m"
     ]
    }
   ],
   "source": [
    "!ffmpeg -i input.mp4 -filter_complex '[0:v]split=1[a][b]; [a]trim=duration=15[v1]; [b]trim=duration=15[v2]; [v1][v2][v1]concat=n=3:v=1:a=0' output.mp4\n"
   ]
  },
  {
   "cell_type": "code",
   "execution_count": 54,
   "id": "30d55a5f",
   "metadata": {},
   "outputs": [
    {
     "name": "stdout",
     "output_type": "stream",
     "text": [
      "ffmpeg version 4.2.7-0ubuntu0.1 Copyright (c) 2000-2022 the FFmpeg developers\r\n",
      "  built with gcc 9 (Ubuntu 9.4.0-1ubuntu1~20.04.1)\r\n",
      "  configuration: --prefix=/usr --extra-version=0ubuntu0.1 --toolchain=hardened --libdir=/usr/lib/x86_64-linux-gnu --incdir=/usr/include/x86_64-linux-gnu --arch=amd64 --enable-gpl --disable-stripping --enable-avresample --disable-filter=resample --enable-avisynth --enable-gnutls --enable-ladspa --enable-libaom --enable-libass --enable-libbluray --enable-libbs2b --enable-libcaca --enable-libcdio --enable-libcodec2 --enable-libflite --enable-libfontconfig --enable-libfreetype --enable-libfribidi --enable-libgme --enable-libgsm --enable-libjack --enable-libmp3lame --enable-libmysofa --enable-libopenjpeg --enable-libopenmpt --enable-libopus --enable-libpulse --enable-librsvg --enable-librubberband --enable-libshine --enable-libsnappy --enable-libsoxr --enable-libspeex --enable-libssh --enable-libtheora --enable-libtwolame --enable-libvidstab --enable-libvorbis --enable-libvpx --enable-libwavpack --enable-libwebp --enable-libx265 --enable-libxml2 --enable-libxvid --enable-libzmq --enable-libzvbi --enable-lv2 --enable-omx --enable-openal --enable-opencl --enable-opengl --enable-sdl2 --enable-libdc1394 --enable-libdrm --enable-libiec61883 --enable-nvenc --enable-chromaprint --enable-frei0r --enable-libx264 --enable-shared\r\n",
      "  libavutil      56. 31.100 / 56. 31.100\r\n",
      "  libavcodec     58. 54.100 / 58. 54.100\r\n",
      "  libavformat    58. 29.100 / 58. 29.100\r\n",
      "  libavdevice    58.  8.100 / 58.  8.100\r\n",
      "  libavfilter     7. 57.100 /  7. 57.100\r\n",
      "  libavresample   4.  0.  0 /  4.  0.  0\r\n",
      "  libswscale      5.  5.100 /  5.  5.100\r\n",
      "  libswresample   3.  5.100 /  3.  5.100\r\n",
      "  libpostproc    55.  5.100 / 55.  5.100\r\n",
      "Input #0, mov,mp4,m4a,3gp,3g2,mj2, from 'input.mp4':\r\n",
      "  Metadata:\r\n",
      "    major_brand     : isom\r\n",
      "    minor_version   : 512\r\n",
      "    compatible_brands: isomiso2avc1mp41\r\n",
      "    encoder         : Lavf58.29.100\r\n",
      "  Duration: 00:00:01.67, start: 0.000000, bitrate: 2578 kb/s\r\n",
      "    Stream #0:0(und): Video: h264 (High) (avc1 / 0x31637661), yuv420p, 640x640, 2574 kb/s, 30 fps, 30 tbr, 15360 tbn, 60 tbc (default)\r\n",
      "    Metadata:\r\n",
      "      handler_name    : VideoHandler\r\n",
      "\u001b[1;32m[AVFilterGraph @ 0x561b93b48380] \u001b[0m\u001b[1;31mNo output pad can be associated to link label 'b'.\r\n",
      "\u001b[0m\u001b[4;31mError initializing complex filters.\r\n",
      "\u001b[0m\u001b[4;31mInvalid argument\r\n",
      "\u001b[0m"
     ]
    }
   ],
   "source": [
    "!ffmpeg -i input.mp4 -filter_complex \\\n",
    "'[0:v]split=1[a][b]; \\\n",
    "[a]trim=duration=15[v1]; \\\n",
    "[b]trim=duration=15[v2]; \\\n",
    "[v1][v2][v1]concat=n=3:v=1:a=0' output.mp4\n",
    " Metadata:\n",
    "      handler_name    : VideoHandler\n",
    "[AVFilterGraph @ 0x561b93b48380] No output pad can be associated to link label 'b'.\n",
    "Error initializing complex filters.\n",
    "Invalid argument"
   ]
  },
  {
   "cell_type": "code",
   "execution_count": 52,
   "id": "d57deb72",
   "metadata": {},
   "outputs": [
    {
     "name": "stderr",
     "output_type": "stream",
     "text": [
      "ffmpeg version 4.2.7-0ubuntu0.1 Copyright (c) 2000-2022 the FFmpeg developers\n",
      "  built with gcc 9 (Ubuntu 9.4.0-1ubuntu1~20.04.1)\n",
      "  configuration: --prefix=/usr --extra-version=0ubuntu0.1 --toolchain=hardened --libdir=/usr/lib/x86_64-linux-gnu --incdir=/usr/include/x86_64-linux-gnu --arch=amd64 --enable-gpl --disable-stripping --enable-avresample --disable-filter=resample --enable-avisynth --enable-gnutls --enable-ladspa --enable-libaom --enable-libass --enable-libbluray --enable-libbs2b --enable-libcaca --enable-libcdio --enable-libcodec2 --enable-libflite --enable-libfontconfig --enable-libfreetype --enable-libfribidi --enable-libgme --enable-libgsm --enable-libjack --enable-libmp3lame --enable-libmysofa --enable-libopenjpeg --enable-libopenmpt --enable-libopus --enable-libpulse --enable-librsvg --enable-librubberband --enable-libshine --enable-libsnappy --enable-libsoxr --enable-libspeex --enable-libssh --enable-libtheora --enable-libtwolame --enable-libvidstab --enable-libvorbis --enable-libvpx --enable-libwavpack --enable-libwebp --enable-libx265 --enable-libxml2 --enable-libxvid --enable-libzmq --enable-libzvbi --enable-lv2 --enable-omx --enable-openal --enable-opencl --enable-opengl --enable-sdl2 --enable-libdc1394 --enable-libdrm --enable-libiec61883 --enable-nvenc --enable-chromaprint --enable-frei0r --enable-libx264 --enable-shared\n",
      "  libavutil      56. 31.100 / 56. 31.100\n",
      "  libavcodec     58. 54.100 / 58. 54.100\n",
      "  libavformat    58. 29.100 / 58. 29.100\n",
      "  libavdevice    58.  8.100 / 58.  8.100\n",
      "  libavfilter     7. 57.100 /  7. 57.100\n",
      "  libavresample   4.  0.  0 /  4.  0.  0\n",
      "  libswscale      5.  5.100 /  5.  5.100\n",
      "  libswresample   3.  5.100 /  3.  5.100\n",
      "  libpostproc    55.  5.100 / 55.  5.100\n",
      "Input #0, mov,mp4,m4a,3gp,3g2,mj2, from '/home/jack/Desktop/ffmpeg_flask/mpdecimatexx.mp4':\n",
      "  Metadata:\n",
      "    major_brand     : isom\n",
      "    minor_version   : 512\n",
      "    compatible_brands: isomiso2avc1mp41\n",
      "    encoder         : Lavf58.29.100\n",
      "  Duration: 00:00:01.67, start: 0.000000, bitrate: 2578 kb/s\n",
      "    Stream #0:0(und): Video: h264 (High) (avc1 / 0x31637661), yuv420p, 640x640, 2574 kb/s, 30 fps, 30 tbr, 15360 tbn, 60 tbc (default)\n",
      "    Metadata:\n",
      "      handler_name    : VideoHandler\n",
      "Cannot find a matching stream for unlabeled input pad 1 on filter Parsed_concat_2\n"
     ]
    },
    {
     "data": {
      "text/plain": [
       "CompletedProcess(args=\"ffmpeg -i /home/jack/Desktop/ffmpeg_flask/mpdecimatexx.mp4 -filter_complex '[0:v]split=2[a][b];[a]trim=duration=15[v1];[b]concat=n=2:v=1:a=0[v2];[v1][v2][v1]concat=n=3:v=1:a=0' -c:v libx264 -r 30 -pix_fmt yuv420p -an -y /home/jack/Desktop/ffmpeg_flask/output.mp4\", returncode=1)"
      ]
     },
     "execution_count": 52,
     "metadata": {},
     "output_type": "execute_result"
    }
   ],
   "source": [
    "import subprocess\n",
    "\n",
    "DIR = \"/home/jack/Desktop/ffmpeg_flask/\"\n",
    "command3 = f\"ffmpeg -i {DIR}mpdecimatexx.mp4 -filter_complex '[0:v]split=2[a][b];[a]trim=duration=15[v1];[b]concat=n=2:v=1:a=0[v2];[v1][v2][v1]concat=n=3:v=1:a=0' -c:v libx264 -r 30 -pix_fmt yuv420p -an -y {DIR}output.mp4\"\n",
    "subprocess.run(command3, shell=True)\n"
   ]
  },
  {
   "cell_type": "code",
   "execution_count": 49,
   "id": "372fb8ee",
   "metadata": {},
   "outputs": [
    {
     "name": "stderr",
     "output_type": "stream",
     "text": [
      "ffmpeg version 4.2.7-0ubuntu0.1 Copyright (c) 2000-2022 the FFmpeg developers\n",
      "  built with gcc 9 (Ubuntu 9.4.0-1ubuntu1~20.04.1)\n",
      "  configuration: --prefix=/usr --extra-version=0ubuntu0.1 --toolchain=hardened --libdir=/usr/lib/x86_64-linux-gnu --incdir=/usr/include/x86_64-linux-gnu --arch=amd64 --enable-gpl --disable-stripping --enable-avresample --disable-filter=resample --enable-avisynth --enable-gnutls --enable-ladspa --enable-libaom --enable-libass --enable-libbluray --enable-libbs2b --enable-libcaca --enable-libcdio --enable-libcodec2 --enable-libflite --enable-libfontconfig --enable-libfreetype --enable-libfribidi --enable-libgme --enable-libgsm --enable-libjack --enable-libmp3lame --enable-libmysofa --enable-libopenjpeg --enable-libopenmpt --enable-libopus --enable-libpulse --enable-librsvg --enable-librubberband --enable-libshine --enable-libsnappy --enable-libsoxr --enable-libspeex --enable-libssh --enable-libtheora --enable-libtwolame --enable-libvidstab --enable-libvorbis --enable-libvpx --enable-libwavpack --enable-libwebp --enable-libx265 --enable-libxml2 --enable-libxvid --enable-libzmq --enable-libzvbi --enable-lv2 --enable-omx --enable-openal --enable-opencl --enable-opengl --enable-sdl2 --enable-libdc1394 --enable-libdrm --enable-libiec61883 --enable-nvenc --enable-chromaprint --enable-frei0r --enable-libx264 --enable-shared\n",
      "  libavutil      56. 31.100 / 56. 31.100\n",
      "  libavcodec     58. 54.100 / 58. 54.100\n",
      "  libavformat    58. 29.100 / 58. 29.100\n",
      "  libavdevice    58.  8.100 / 58.  8.100\n",
      "  libavfilter     7. 57.100 /  7. 57.100\n",
      "  libavresample   4.  0.  0 /  4.  0.  0\n",
      "  libswscale      5.  5.100 /  5.  5.100\n",
      "  libswresample   3.  5.100 /  3.  5.100\n",
      "  libpostproc    55.  5.100 / 55.  5.100\n",
      "Input #0, mov,mp4,m4a,3gp,3g2,mj2, from '/home/jack/Desktop/ffmpeg_flask/mpdecimatexx.mp4':\n",
      "  Metadata:\n",
      "    major_brand     : isom\n",
      "    minor_version   : 512\n",
      "    compatible_brands: isomiso2avc1mp41\n",
      "    encoder         : Lavf58.29.100\n",
      "  Duration: 00:00:01.67, start: 0.000000, bitrate: 2578 kb/s\n",
      "    Stream #0:0(und): Video: h264 (High) (avc1 / 0x31637661), yuv420p, 640x640, 2574 kb/s, 30 fps, 30 tbr, 15360 tbn, 60 tbc (default)\n",
      "    Metadata:\n",
      "      handler_name    : VideoHandler\n",
      "[AVFilterGraph @ 0x5593156db2c0] No output pad can be associated to link label 'b'.\n",
      "Error initializing complex filters.\n",
      "Invalid argument\n"
     ]
    },
    {
     "data": {
      "text/plain": [
       "CompletedProcess(args=\"ffmpeg -i /home/jack/Desktop/ffmpeg_flask/mpdecimatexx.mp4  -filter_complex '[0:v]split=1[a][b];[a]trim=duration=15[v1];[b]concat=n=2:v=1:a=0[v2];[v1][v2][v1]concat=n=3:v=1:a=0' XXXXXXoutput.mp4\", returncode=1)"
      ]
     },
     "execution_count": 49,
     "metadata": {},
     "output_type": "execute_result"
    }
   ],
   "source": [
    "import subprocess\n",
    "\n",
    "DIR = \"/home/jack/Desktop/ffmpeg_flask/\"\n",
    "command3 = f\"ffmpeg -i {DIR}mpdecimatexx.mp4  -filter_complex '[0:v]split=1[a][b];[a]trim=duration=15[v1];[b]concat=n=2:v=1:a=0[v2];[v1][v2][v1]concat=n=3:v=1:a=0' XXXXXXoutput.mp4\"\n",
    "subprocess.run(command3, shell=True)\n",
    " Metadata:\n",
    "      handler_name    : VideoHandler\n",
    "[AVFilterGraph @ 0x5593156db2c0] No output pad can be associated to link label 'b'.\n",
    "Error initializing complex filters.\n",
    "Invalid argument\n"
   ]
  },
  {
   "cell_type": "code",
   "execution_count": 42,
   "id": "b48cd515",
   "metadata": {},
   "outputs": [
    {
     "name": "stderr",
     "output_type": "stream",
     "text": [
      "ffmpeg version 4.2.7-0ubuntu0.1 Copyright (c) 2000-2022 the FFmpeg developers\n",
      "  built with gcc 9 (Ubuntu 9.4.0-1ubuntu1~20.04.1)\n",
      "  configuration: --prefix=/usr --extra-version=0ubuntu0.1 --toolchain=hardened --libdir=/usr/lib/x86_64-linux-gnu --incdir=/usr/include/x86_64-linux-gnu --arch=amd64 --enable-gpl --disable-stripping --enable-avresample --disable-filter=resample --enable-avisynth --enable-gnutls --enable-ladspa --enable-libaom --enable-libass --enable-libbluray --enable-libbs2b --enable-libcaca --enable-libcdio --enable-libcodec2 --enable-libflite --enable-libfontconfig --enable-libfreetype --enable-libfribidi --enable-libgme --enable-libgsm --enable-libjack --enable-libmp3lame --enable-libmysofa --enable-libopenjpeg --enable-libopenmpt --enable-libopus --enable-libpulse --enable-librsvg --enable-librubberband --enable-libshine --enable-libsnappy --enable-libsoxr --enable-libspeex --enable-libssh --enable-libtheora --enable-libtwolame --enable-libvidstab --enable-libvorbis --enable-libvpx --enable-libwavpack --enable-libwebp --enable-libx265 --enable-libxml2 --enable-libxvid --enable-libzmq --enable-libzvbi --enable-lv2 --enable-omx --enable-openal --enable-opencl --enable-opengl --enable-sdl2 --enable-libdc1394 --enable-libdrm --enable-libiec61883 --enable-nvenc --enable-chromaprint --enable-frei0r --enable-libx264 --enable-shared\n",
      "  libavutil      56. 31.100 / 56. 31.100\n",
      "  libavcodec     58. 54.100 / 58. 54.100\n",
      "  libavformat    58. 29.100 / 58. 29.100\n",
      "  libavdevice    58.  8.100 / 58.  8.100\n",
      "  libavfilter     7. 57.100 /  7. 57.100\n",
      "  libavresample   4.  0.  0 /  4.  0.  0\n",
      "  libswscale      5.  5.100 /  5.  5.100\n",
      "  libswresample   3.  5.100 /  3.  5.100\n",
      "  libpostproc    55.  5.100 / 55.  5.100\n",
      "Input #0, mov,mp4,m4a,3gp,3g2,mj2, from '/home/jack/Desktop/ffmpeg_flask/mpdecimatexx.mp4':\n",
      "  Metadata:\n",
      "    major_brand     : isom\n",
      "    minor_version   : 512\n",
      "    compatible_brands: isomiso2avc1mp41\n",
      "    encoder         : Lavf58.29.100\n",
      "  Duration: 00:00:01.67, start: 0.000000, bitrate: 2578 kb/s\n",
      "    Stream #0:0(und): Video: h264 (High) (avc1 / 0x31637661), yuv420p, 640x640, 2574 kb/s, 30 fps, 30 tbr, 15360 tbn, 60 tbc (default)\n",
      "    Metadata:\n",
      "      handler_name    : VideoHandler\n",
      "[Parsed_afade_3 @ 0x5584f1867000] Media type mismatch between the 'Parsed_afade_3' filter output pad 0 (audio) and the 'Parsed_concat_4' filter input pad 2 (video)\n",
      "[AVFilterGraph @ 0x5584f183a140] Cannot create the link afade:0 -> concat:2\n",
      "Error initializing complex filters.\n",
      "Invalid argument\n"
     ]
    },
    {
     "data": {
      "text/plain": [
       "CompletedProcess(args='ffmpeg -i /home/jack/Desktop/ffmpeg_flask/mpdecimatexx.mp4 -filter_complex \"[0:v]trim=duration=14,loop=279:1:0[vloop];[0:a]afade=t=in:st=0:d=1,afade=t=out:st=0.9:d=2[a1];[vloop][0:a][a1]concat=n=3:v=1:a=1\" -c:v libx264 -r 30 -pix_fmt yuv420p -c:a aac -b:a 192k -shortest -y /home/jack/Desktop/ffmpeg_flask/finaldoubleup.mp4', returncode=1)"
      ]
     },
     "execution_count": 42,
     "metadata": {},
     "output_type": "execute_result"
    }
   ],
   "source": [
    "import subprocess\n",
    "\n",
    "DIR = \"/home/jack/Desktop/ffmpeg_flask/\"\n",
    "command3 = f\"ffmpeg -i {DIR}mpdecimatexx.mp4 -filter_complex \\\"[0:v]trim=duration=14,loop=279:1:0[vloop];[0:a]afade=t=in:st=0:d=1,afade=t=out:st=0.9:d=2[a1];[vloop][0:a][a1]concat=n=3:v=1:a=1\\\" -c:v libx264 -r 30 -pix_fmt yuv420p -c:a aac -b:a 192k -shortest -y {DIR}finaldoubleup.mp4\"\n",
    "\n",
    "subprocess.run(command3, shell=True)\n"
   ]
  },
  {
   "cell_type": "code",
   "execution_count": 39,
   "id": "7e4c0eb7",
   "metadata": {},
   "outputs": [
    {
     "name": "stderr",
     "output_type": "stream",
     "text": [
      "ffmpeg version 4.2.7-0ubuntu0.1 Copyright (c) 2000-2022 the FFmpeg developers\n",
      "  built with gcc 9 (Ubuntu 9.4.0-1ubuntu1~20.04.1)\n",
      "  configuration: --prefix=/usr --extra-version=0ubuntu0.1 --toolchain=hardened --libdir=/usr/lib/x86_64-linux-gnu --incdir=/usr/include/x86_64-linux-gnu --arch=amd64 --enable-gpl --disable-stripping --enable-avresample --disable-filter=resample --enable-avisynth --enable-gnutls --enable-ladspa --enable-libaom --enable-libass --enable-libbluray --enable-libbs2b --enable-libcaca --enable-libcdio --enable-libcodec2 --enable-libflite --enable-libfontconfig --enable-libfreetype --enable-libfribidi --enable-libgme --enable-libgsm --enable-libjack --enable-libmp3lame --enable-libmysofa --enable-libopenjpeg --enable-libopenmpt --enable-libopus --enable-libpulse --enable-librsvg --enable-librubberband --enable-libshine --enable-libsnappy --enable-libsoxr --enable-libspeex --enable-libssh --enable-libtheora --enable-libtwolame --enable-libvidstab --enable-libvorbis --enable-libvpx --enable-libwavpack --enable-libwebp --enable-libx265 --enable-libxml2 --enable-libxvid --enable-libzmq --enable-libzvbi --enable-lv2 --enable-omx --enable-openal --enable-opencl --enable-opengl --enable-sdl2 --enable-libdc1394 --enable-libdrm --enable-libiec61883 --enable-nvenc --enable-chromaprint --enable-frei0r --enable-libx264 --enable-shared\n",
      "  libavutil      56. 31.100 / 56. 31.100\n",
      "  libavcodec     58. 54.100 / 58. 54.100\n",
      "  libavformat    58. 29.100 / 58. 29.100\n",
      "  libavdevice    58.  8.100 / 58.  8.100\n",
      "  libavfilter     7. 57.100 /  7. 57.100\n",
      "  libavresample   4.  0.  0 /  4.  0.  0\n",
      "  libswscale      5.  5.100 /  5.  5.100\n",
      "  libswresample   3.  5.100 /  3.  5.100\n",
      "  libpostproc    55.  5.100 / 55.  5.100\n",
      "Input #0, mov,mp4,m4a,3gp,3g2,mj2, from '/home/jack/Desktop/ffmpeg_flask/mpdecimatexx.mp4':\n",
      "  Metadata:\n",
      "    major_brand     : isom\n",
      "    minor_version   : 512\n",
      "    compatible_brands: isomiso2avc1mp41\n",
      "    encoder         : Lavf58.29.100\n",
      "  Duration: 00:00:01.67, start: 0.000000, bitrate: 2578 kb/s\n",
      "    Stream #0:0(und): Video: h264 (High) (avc1 / 0x31637661), yuv420p, 640x640, 2574 kb/s, 30 fps, 30 tbr, 15360 tbn, 60 tbc (default)\n",
      "    Metadata:\n",
      "      handler_name    : VideoHandler\n",
      "[AVFilterGraph @ 0x5597db138140] Too many inputs specified for the \"concat\" filter.\n",
      "Error initializing complex filters.\n",
      "Invalid argument\n"
     ]
    },
    {
     "data": {
      "text/plain": [
       "CompletedProcess(args='ffmpeg -i /home/jack/Desktop/ffmpeg_flask/mpdecimatexx.mp4 -filter_complex \"[0:v]trim=duration=14,loop=279:1:0[vloop];[0:a]afade=t=in:st=0:d=1,afade=t=out:st=0.9:d=2[a1];[vloop][0:a][a1]concat=n=1:v=1:a=1\" -c:v libx264 -r 30 -pix_fmt yuv420p -c:a aac -b:a 192k -shortest -y /home/jack/Desktop/ffmpeg_flask/finaldoubleup.mp4', returncode=1)"
      ]
     },
     "execution_count": 39,
     "metadata": {},
     "output_type": "execute_result"
    }
   ],
   "source": [
    "import subprocess\n",
    "DIR = \"/home/jack/Desktop/ffmpeg_flask/\"\n",
    "command3 = f\"ffmpeg -i {DIR}mpdecimatexx.mp4 -filter_complex \\\"[0:v]trim=duration=14,loop=279:1:0[vloop];[0:a]afade=t=in:st=0:d=1,afade=t=out:st=0.9:d=2[a1];[vloop][0:a][a1]concat=n=1:v=1:a=1\\\" -c:v libx264 -r 30 -pix_fmt yuv420p -c:a aac -b:a 192k -shortest -y {DIR}finaldoubleup.mp4\"\n",
    "subprocess.run(command3, shell=True)"
   ]
  },
  {
   "cell_type": "code",
   "execution_count": 41,
   "id": "b11ea6e9",
   "metadata": {},
   "outputs": [
    {
     "name": "stdout",
     "output_type": "stream",
     "text": [
      "ffmpeg version 4.2.7-0ubuntu0.1 Copyright (c) 2000-2022 the FFmpeg developers\r\n",
      "  built with gcc 9 (Ubuntu 9.4.0-1ubuntu1~20.04.1)\r\n",
      "  configuration: --prefix=/usr --extra-version=0ubuntu0.1 --toolchain=hardened --libdir=/usr/lib/x86_64-linux-gnu --incdir=/usr/include/x86_64-linux-gnu --arch=amd64 --enable-gpl --disable-stripping --enable-avresample --disable-filter=resample --enable-avisynth --enable-gnutls --enable-ladspa --enable-libaom --enable-libass --enable-libbluray --enable-libbs2b --enable-libcaca --enable-libcdio --enable-libcodec2 --enable-libflite --enable-libfontconfig --enable-libfreetype --enable-libfribidi --enable-libgme --enable-libgsm --enable-libjack --enable-libmp3lame --enable-libmysofa --enable-libopenjpeg --enable-libopenmpt --enable-libopus --enable-libpulse --enable-librsvg --enable-librubberband --enable-libshine --enable-libsnappy --enable-libsoxr --enable-libspeex --enable-libssh --enable-libtheora --enable-libtwolame --enable-libvidstab --enable-libvorbis --enable-libvpx --enable-libwavpack --enable-libwebp --enable-libx265 --enable-libxml2 --enable-libxvid --enable-libzmq --enable-libzvbi --enable-lv2 --enable-omx --enable-openal --enable-opencl --enable-opengl --enable-sdl2 --enable-libdc1394 --enable-libdrm --enable-libiec61883 --enable-nvenc --enable-chromaprint --enable-frei0r --enable-libx264 --enable-shared\r\n",
      "  libavutil      56. 31.100 / 56. 31.100\r\n",
      "  libavcodec     58. 54.100 / 58. 54.100\r\n",
      "  libavformat    58. 29.100 / 58. 29.100\r\n",
      "  libavdevice    58.  8.100 / 58.  8.100\r\n",
      "  libavfilter     7. 57.100 /  7. 57.100\r\n",
      "  libavresample   4.  0.  0 /  4.  0.  0\r\n",
      "  libswscale      5.  5.100 /  5.  5.100\r\n",
      "  libswresample   3.  5.100 /  3.  5.100\r\n",
      "  libpostproc    55.  5.100 / 55.  5.100\r\n",
      "Input #0, mov,mp4,m4a,3gp,3g2,mj2, from '/home/jack/Desktop/ffmpeg_flask/mpdecimatexx.mp4':\r\n",
      "  Metadata:\r\n",
      "    major_brand     : isom\r\n",
      "    minor_version   : 512\r\n",
      "    compatible_brands: isomiso2avc1mp41\r\n",
      "    encoder         : Lavf58.29.100\r\n",
      "  Duration: 00:00:01.67, start: 0.000000, bitrate: 2578 kb/s\r\n",
      "    Stream #0:0(und): Video: h264 (High) (avc1 / 0x31637661), yuv420p, 640x640, 2574 kb/s, 30 fps, 30 tbr, 15360 tbn, 60 tbc (default)\r\n",
      "    Metadata:\r\n",
      "      handler_name    : VideoHandler\r\n",
      "\u001b[4;31mStream specifier ':a' in filtergraph description [0:v]trim=0:14,loop=279:1:0[v];[0:a]atrim=0:14,asetpts=PTS-STARTPTS[a];[v][a][v][a]concat=n=2:v=1:a=1 matches no streams.\r\n",
      "\u001b[0m"
     ]
    }
   ],
   "source": [
    "!ffmpeg -i /home/jack/Desktop/ffmpeg_flask/mpdecimatexx.mp4 -filter_complex \"[0:v]trim=0:14,loop=279:1:0[v];[0:a]atrim=0:14,asetpts=PTS-STARTPTS[a];[v][a][v][a]concat=n=2:v=1:a=1\" -c:v libx264 -c:a aac -b:a 192k -shortest -y /home/jack/Desktop/ffmpeg_flask/outputOO.mp4\n"
   ]
  },
  {
   "cell_type": "code",
   "execution_count": 37,
   "id": "c8197c8e",
   "metadata": {},
   "outputs": [
    {
     "name": "stderr",
     "output_type": "stream",
     "text": [
      "ffmpeg version 4.2.7-0ubuntu0.1 Copyright (c) 2000-2022 the FFmpeg developers\n",
      "  built with gcc 9 (Ubuntu 9.4.0-1ubuntu1~20.04.1)\n",
      "  configuration: --prefix=/usr --extra-version=0ubuntu0.1 --toolchain=hardened --libdir=/usr/lib/x86_64-linux-gnu --incdir=/usr/include/x86_64-linux-gnu --arch=amd64 --enable-gpl --disable-stripping --enable-avresample --disable-filter=resample --enable-avisynth --enable-gnutls --enable-ladspa --enable-libaom --enable-libass --enable-libbluray --enable-libbs2b --enable-libcaca --enable-libcdio --enable-libcodec2 --enable-libflite --enable-libfontconfig --enable-libfreetype --enable-libfribidi --enable-libgme --enable-libgsm --enable-libjack --enable-libmp3lame --enable-libmysofa --enable-libopenjpeg --enable-libopenmpt --enable-libopus --enable-libpulse --enable-librsvg --enable-librubberband --enable-libshine --enable-libsnappy --enable-libsoxr --enable-libspeex --enable-libssh --enable-libtheora --enable-libtwolame --enable-libvidstab --enable-libvorbis --enable-libvpx --enable-libwavpack --enable-libwebp --enable-libx265 --enable-libxml2 --enable-libxvid --enable-libzmq --enable-libzvbi --enable-lv2 --enable-omx --enable-openal --enable-opencl --enable-opengl --enable-sdl2 --enable-libdc1394 --enable-libdrm --enable-libiec61883 --enable-nvenc --enable-chromaprint --enable-frei0r --enable-libx264 --enable-shared\n",
      "  libavutil      56. 31.100 / 56. 31.100\n",
      "  libavcodec     58. 54.100 / 58. 54.100\n",
      "  libavformat    58. 29.100 / 58. 29.100\n",
      "  libavdevice    58.  8.100 / 58.  8.100\n",
      "  libavfilter     7. 57.100 /  7. 57.100\n",
      "  libavresample   4.  0.  0 /  4.  0.  0\n",
      "  libswscale      5.  5.100 /  5.  5.100\n",
      "  libswresample   3.  5.100 /  3.  5.100\n",
      "  libpostproc    55.  5.100 / 55.  5.100\n",
      "Input #0, mov,mp4,m4a,3gp,3g2,mj2, from '/home/jack/Desktop/ffmpeg_flask/mpdecimatexx.mp4':\n",
      "  Metadata:\n",
      "    major_brand     : isom\n",
      "    minor_version   : 512\n",
      "    compatible_brands: isomiso2avc1mp41\n",
      "    encoder         : Lavf58.29.100\n",
      "  Duration: 00:00:01.67, start: 0.000000, bitrate: 2578 kb/s\n",
      "    Stream #0:0(und): Video: h264 (High) (avc1 / 0x31637661), yuv420p, 640x640, 2574 kb/s, 30 fps, 30 tbr, 15360 tbn, 60 tbc (default)\n",
      "    Metadata:\n",
      "      handler_name    : VideoHandler\n",
      "[AVFilterGraph @ 0x56041bbef140] Too many inputs specified for the \"concat\" filter.\n",
      "Error initializing complex filters.\n",
      "Invalid argument\n"
     ]
    },
    {
     "data": {
      "text/plain": [
       "CompletedProcess(args='ffmpeg -i /home/jack/Desktop/ffmpeg_flask/mpdecimatexx.mp4 -filter_complex \"[0:v]trim=duration=14,loop=279:1:0[v];[1:a]afade=t=in:st=0:d=1,afade=t=out:st=0.9:d=2[a1];[v][0:a][a1]concat=n=1:v=1:a=1\" -c:v libx264 -r 30 -pix_fmt yuv420p -c:a aac -b:a 192k -shortest -y /home/jack/Desktop/ffmpeg_flask/finaldoubleup.mp4', returncode=1)"
      ]
     },
     "execution_count": 37,
     "metadata": {},
     "output_type": "execute_result"
    }
   ],
   "source": [
    "import subprocess\n",
    "DIR = \"/home/jack/Desktop/ffmpeg_flask/\"\n",
    "command3 = f\"ffmpeg -i {DIR}mpdecimatexx.mp4 -filter_complex \\\"[0:v]trim=duration=14,loop=279:1:0[v];[1:a]afade=t=in:st=0:d=1,afade=t=out:st=0.9:d=2[a1];[v][0:a][a1]concat=n=1:v=1:a=1\\\" -c:v libx264 -r 30 -pix_fmt yuv420p -c:a aac -b:a 192k -shortest -y {DIR}finaldoubleup.mp4\"\n",
    "subprocess.run(command3, shell=True)\n",
    "[AVFilterGraph @ 0x56041bbef140] Too many inputs specified for the \"concat\" filter.\n",
    "Error initializing complex filters.\n",
    "Invalid argument"
   ]
  },
  {
   "cell_type": "markdown",
   "id": "c8924da5",
   "metadata": {},
   "source": [
    "# Run"
   ]
  },
  {
   "cell_type": "code",
   "execution_count": 4,
   "id": "5600c341",
   "metadata": {},
   "outputs": [
    {
     "name": "stdout",
     "output_type": "stream",
     "text": [
      "ffmpeg version 4.2.7-0ubuntu0.1 Copyright (c) 2000-2022 the FFmpeg developers\n",
      "  built with gcc 9 (Ubuntu 9.4.0-1ubuntu1~20.04.1)\n",
      "  configuration: --prefix=/usr --extra-version=0ubuntu0.1 --toolchain=hardened --libdir=/usr/lib/x86_64-linux-gnu --incdir=/usr/include/x86_64-linux-gnu --arch=amd64 --enable-gpl --disable-stripping --enable-avresample --disable-filter=resample --enable-avisynth --enable-gnutls --enable-ladspa --enable-libaom --enable-libass --enable-libbluray --enable-libbs2b --enable-libcaca --enable-libcdio --enable-libcodec2 --enable-libflite --enable-libfontconfig --enable-libfreetype --enable-libfribidi --enable-libgme --enable-libgsm --enable-libjack --enable-libmp3lame --enable-libmysofa --enable-libopenjpeg --enable-libopenmpt --enable-libopus --enable-libpulse --enable-librsvg --enable-librubberband --enable-libshine --enable-libsnappy --enable-libsoxr --enable-libspeex --enable-libssh --enable-libtheora --enable-libtwolame --enable-libvidstab --enable-libvorbis --enable-libvpx --enable-libwavpack --enable-libwebp --enable-libx265 --enable-libxml2 --enable-libxvid --enable-libzmq --enable-libzvbi --enable-lv2 --enable-omx --enable-openal --enable-opencl --enable-opengl --enable-sdl2 --enable-libdc1394 --enable-libdrm --enable-libiec61883 --enable-nvenc --enable-chromaprint --enable-frei0r --enable-libx264 --enable-shared\n",
      "  libavutil      56. 31.100 / 56. 31.100\n",
      "  libavcodec     58. 54.100 / 58. 54.100\n",
      "  libavformat    58. 29.100 / 58. 29.100\n",
      "  libavdevice    58.  8.100 / 58.  8.100\n",
      "  libavfilter     7. 57.100 /  7. 57.100\n",
      "  libavresample   4.  0.  0 /  4.  0.  0\n",
      "  libswscale      5.  5.100 /  5.  5.100\n",
      "  libswresample   3.  5.100 /  3.  5.100\n",
      "  libpostproc    55.  5.100 / 55.  5.100\n",
      "Input #0, mov,mp4,m4a,3gp,3g2,mj2, from '/home/jack/Desktop/FLASK/static/square_vids/00024_AI_Square_Video_Content.mp4':\n",
      "  Metadata:\n",
      "    major_brand     : isom\n",
      "    minor_version   : 512\n",
      "    compatible_brands: isomiso2avc1mp41\n",
      "    encoder         : Lavf58.29.100\n",
      "  Duration: 00:00:50.00, start: 0.000000, bitrate: 297 kb/s\n",
      "    Stream #0:0(und): Video: h264 (High) (avc1 / 0x31637661), yuv420p, 640x640, 294 kb/s, 24 fps, 24 tbr, 12288 tbn, 48 tbc (default)\n",
      "    Metadata:\n",
      "      handler_name    : VideoHandler\n",
      "Stream mapping:\n",
      "  Stream #0:0 -> #0:0 (h264 (native) -> h264 (libx264))\n",
      "Press [q] to stop, [?] for help\n",
      "\u001b[1;36m[libx264 @ 0x5597910f8480] \u001b[0musing cpu capabilities: MMX2 SSE2Fast LZCNT SSSE3 SSE4.2\n",
      "\u001b[1;36m[libx264 @ 0x5597910f8480] \u001b[0mprofile High, level 3.1\n",
      "\u001b[1;36m[libx264 @ 0x5597910f8480] \u001b[0m264 - core 155 r2917 0a84d98 - H.264/MPEG-4 AVC codec - Copyleft 2003-2018 - http://www.videolan.org/x264.html - options: cabac=1 ref=3 deblock=1:0:0 analyse=0x3:0x113 me=hex subme=7 psy=1 psy_rd=1.00:0.00 mixed_ref=1 me_range=16 chroma_me=1 trellis=1 8x8dct=1 cqm=0 deadzone=21,11 fast_pskip=1 chroma_qp_offset=-2 threads=3 lookahead_threads=1 sliced_threads=0 nr=0 decimate=1 interlaced=0 bluray_compat=0 constrained_intra=0 bframes=3 b_pyramid=2 b_adapt=1 b_bias=0 direct=1 weightb=1 open_gop=0 weightp=2 keyint=250 keyint_min=25 scenecut=40 intra_refresh=0 rc_lookahead=40 rc=crf mbtree=1 crf=23.0 qcomp=0.60 qpmin=0 qpmax=69 qpstep=4 ip_ratio=1.40 aq=1:1.00\n",
      "Output #0, mp4, to '/home/jack/Desktop/ffmpeg_flask/output.mp4':\n",
      "  Metadata:\n",
      "    major_brand     : isom\n",
      "    minor_version   : 512\n",
      "    compatible_brands: isomiso2avc1mp41\n",
      "    encoder         : Lavf58.29.100\n",
      "    Stream #0:0(und): Video: h264 (libx264) (avc1 / 0x31637661), yuv420p, 640x640, q=-1--1, 50 fps, 12800 tbn, 50 tbc (default)\n",
      "    Metadata:\n",
      "      handler_name    : VideoHandler\n",
      "      encoder         : Lavc58.54.100 libx264\n",
      "    Side data:\n",
      "      cpb: bitrate max/min/avg: 0/0/0 buffer size: 0 vbv_delay: -1\n",
      "frame= 2496 fps=8.3 q=-1.0 Lsize=    1729kB time=00:00:49.86 bitrate= 284.0kbits/s speed=0.165x    \n",
      "video:1699kB audio:0kB subtitle:0kB other streams:0kB global headers:0kB muxing overhead: 1.759998%\n",
      "\u001b[1;36m[libx264 @ 0x5597910f8480] \u001b[0mframe I:50    Avg QP:16.19  size: 33188\n",
      "\u001b[1;36m[libx264 @ 0x5597910f8480] \u001b[0mframe P:648   Avg QP:20.37  size:    54\n",
      "\u001b[1;36m[libx264 @ 0x5597910f8480] \u001b[0mframe B:1798  Avg QP:26.53  size:    25\n",
      "\u001b[1;36m[libx264 @ 0x5597910f8480] \u001b[0mconsecutive B-frames:  3.9%  0.1%  0.0% 96.0%\n",
      "\u001b[1;36m[libx264 @ 0x5597910f8480] \u001b[0mmb I  I16..4:  5.7% 83.1% 11.3%\n",
      "\u001b[1;36m[libx264 @ 0x5597910f8480] \u001b[0mmb P  I16..4:  0.0%  0.0%  0.0%  P16..4:  0.5%  0.0%  0.0%  0.0%  0.0%    skip:99.4%\n",
      "\u001b[1;36m[libx264 @ 0x5597910f8480] \u001b[0mmb B  I16..4:  0.0%  0.0%  0.0%  B16..8:  0.1%  0.0%  0.0%  direct: 0.0%  skip:99.9%  L0:18.8% L1:81.2% BI: 0.0%\n",
      "\u001b[1;36m[libx264 @ 0x5597910f8480] \u001b[0m8x8 transform intra:83.1% inter:96.1%\n",
      "\u001b[1;36m[libx264 @ 0x5597910f8480] \u001b[0mcoded y,uvDC,uvAC intra: 86.9% 90.4% 82.5% inter: 0.0% 0.1% 0.0%\n",
      "\u001b[1;36m[libx264 @ 0x5597910f8480] \u001b[0mi16 v,h,dc,p: 24% 17%  6% 53%\n",
      "\u001b[1;36m[libx264 @ 0x5597910f8480] \u001b[0mi8 v,h,dc,ddl,ddr,vr,hd,vl,hu: 29% 19%  8%  6%  7%  8%  6%  9%  7%\n",
      "\u001b[1;36m[libx264 @ 0x5597910f8480] \u001b[0mi4 v,h,dc,ddl,ddr,vr,hd,vl,hu: 36% 21%  7%  4%  9%  8%  7%  5%  3%\n",
      "\u001b[1;36m[libx264 @ 0x5597910f8480] \u001b[0mi8c dc,h,v,p: 35% 18% 26% 21%\n",
      "\u001b[1;36m[libx264 @ 0x5597910f8480] \u001b[0mWeighted P-Frames: Y:0.0% UV:0.0%\n",
      "\u001b[1;36m[libx264 @ 0x5597910f8480] \u001b[0mref P L0: 97.4%  0.1%  1.9%  0.6%\n",
      "\u001b[1;36m[libx264 @ 0x5597910f8480] \u001b[0mref B L0: 67.4% 31.8%  0.8%\n",
      "\u001b[1;36m[libx264 @ 0x5597910f8480] \u001b[0mref B L1: 98.1%  1.9%\n",
      "\u001b[1;36m[libx264 @ 0x5597910f8480] \u001b[0mkb/s:278.65\n",
      "ffmpeg version 4.2.7-0ubuntu0.1 Copyright (c) 2000-2022 the FFmpeg developers\n",
      "  built with gcc 9 (Ubuntu 9.4.0-1ubuntu1~20.04.1)\n",
      "  configuration: --prefix=/usr --extra-version=0ubuntu0.1 --toolchain=hardened --libdir=/usr/lib/x86_64-linux-gnu --incdir=/usr/include/x86_64-linux-gnu --arch=amd64 --enable-gpl --disable-stripping --enable-avresample --disable-filter=resample --enable-avisynth --enable-gnutls --enable-ladspa --enable-libaom --enable-libass --enable-libbluray --enable-libbs2b --enable-libcaca --enable-libcdio --enable-libcodec2 --enable-libflite --enable-libfontconfig --enable-libfreetype --enable-libfribidi --enable-libgme --enable-libgsm --enable-libjack --enable-libmp3lame --enable-libmysofa --enable-libopenjpeg --enable-libopenmpt --enable-libopus --enable-libpulse --enable-librsvg --enable-librubberband --enable-libshine --enable-libsnappy --enable-libsoxr --enable-libspeex --enable-libssh --enable-libtheora --enable-libtwolame --enable-libvidstab --enable-libvorbis --enable-libvpx --enable-libwavpack --enable-libwebp --enable-libx265 --enable-libxml2 --enable-libxvid --enable-libzmq --enable-libzvbi --enable-lv2 --enable-omx --enable-openal --enable-opencl --enable-opengl --enable-sdl2 --enable-libdc1394 --enable-libdrm --enable-libiec61883 --enable-nvenc --enable-chromaprint --enable-frei0r --enable-libx264 --enable-shared\n",
      "  libavutil      56. 31.100 / 56. 31.100\n",
      "  libavcodec     58. 54.100 / 58. 54.100\n",
      "  libavformat    58. 29.100 / 58. 29.100\n",
      "  libavdevice    58.  8.100 / 58.  8.100\n",
      "  libavfilter     7. 57.100 /  7. 57.100\n",
      "  libavresample   4.  0.  0 /  4.  0.  0\n",
      "  libswscale      5.  5.100 /  5.  5.100\n",
      "  libswresample   3.  5.100 /  3.  5.100\n",
      "  libpostproc    55.  5.100 / 55.  5.100\n",
      "Input #0, mov,mp4,m4a,3gp,3g2,mj2, from '/home/jack/Desktop/ffmpeg_flask/output.mp4':\n",
      "  Metadata:\n",
      "    major_brand     : isom\n",
      "    minor_version   : 512\n",
      "    compatible_brands: isomiso2avc1mp41\n",
      "    encoder         : Lavf58.29.100\n",
      "  Duration: 00:00:49.92, start: 0.000000, bitrate: 283 kb/s\n",
      "    Stream #0:0(und): Video: h264 (High) (avc1 / 0x31637661), yuv420p, 640x640, 278 kb/s, 50 fps, 50 tbr, 12800 tbn, 100 tbc (default)\n",
      "    Metadata:\n",
      "      handler_name    : VideoHandler\n",
      "Stream mapping:\n",
      "  Stream #0:0 -> #0:0 (h264 (native) -> h264 (libx264))\n",
      "Press [q] to stop, [?] for help\n",
      "\u001b[1;36m[libx264 @ 0x55e415cf85c0] \u001b[0musing cpu capabilities: MMX2 SSE2Fast LZCNT SSSE3 SSE4.2\n",
      "\u001b[1;36m[libx264 @ 0x55e415cf85c0] \u001b[0mprofile High, level 3.1\n",
      "\u001b[1;36m[libx264 @ 0x55e415cf85c0] \u001b[0m264 - core 155 r2917 0a84d98 - H.264/MPEG-4 AVC codec - Copyleft 2003-2018 - http://www.videolan.org/x264.html - options: cabac=1 ref=3 deblock=1:0:0 analyse=0x3:0x113 me=hex subme=7 psy=1 psy_rd=1.00:0.00 mixed_ref=1 me_range=16 chroma_me=1 trellis=1 8x8dct=1 cqm=0 deadzone=21,11 fast_pskip=1 chroma_qp_offset=-2 threads=3 lookahead_threads=1 sliced_threads=0 nr=0 decimate=1 interlaced=0 bluray_compat=0 constrained_intra=0 bframes=3 b_pyramid=2 b_adapt=1 b_bias=0 direct=1 weightb=1 open_gop=0 weightp=2 keyint=250 keyint_min=25 scenecut=40 intra_refresh=0 rc_lookahead=40 rc=crf mbtree=1 crf=23.0 qcomp=0.60 qpmin=0 qpmax=69 qpstep=4 ip_ratio=1.40 aq=1:1.00\n",
      "Output #0, mp4, to '/home/jack/Desktop/ffmpeg_flask/mpdecimate.mp4':\n",
      "  Metadata:\n",
      "    major_brand     : isom\n",
      "    minor_version   : 512\n",
      "    compatible_brands: isomiso2avc1mp41\n",
      "    encoder         : Lavf58.29.100\n",
      "    Stream #0:0(und): Video: h264 (libx264) (avc1 / 0x31637661), yuv420p, 640x640, q=-1--1, 50 fps, 12800 tbn, 50 tbc (default)\n",
      "    Metadata:\n",
      "      handler_name    : VideoHandler\n",
      "      encoder         : Lavc58.54.100 libx264\n",
      "    Side data:\n",
      "      cpb: bitrate max/min/avg: 0/0/0 buffer size: 0 vbv_delay: -1\n"
     ]
    },
    {
     "name": "stdout",
     "output_type": "stream",
     "text": [
      "frame=   50 fps= 15 q=-1.0 Lsize=     449kB time=00:00:00.94 bitrate=3915.7kbits/s speed=0.282x    \n",
      "video:448kB audio:0kB subtitle:0kB other streams:0kB global headers:0kB muxing overhead: 0.227189%\n",
      "\u001b[1;36m[libx264 @ 0x55e415cf85c0] \u001b[0mframe I:3     Avg QP:27.51  size:  9545\n",
      "\u001b[1;36m[libx264 @ 0x55e415cf85c0] \u001b[0mframe P:47    Avg QP:29.14  size:  9144\n",
      "\u001b[1;36m[libx264 @ 0x55e415cf85c0] \u001b[0mmb I  I16..4: 17.0% 79.6%  3.4%\n",
      "\u001b[1;36m[libx264 @ 0x55e415cf85c0] \u001b[0mmb P  I16..4: 16.7% 79.5%  3.0%  P16..4:  0.6%  0.1%  0.0%  0.0%  0.0%    skip: 0.0%\n",
      "\u001b[1;36m[libx264 @ 0x55e415cf85c0] \u001b[0m8x8 transform intra:80.1% inter:93.2%\n",
      "\u001b[1;36m[libx264 @ 0x55e415cf85c0] \u001b[0mcoded y,uvDC,uvAC intra: 44.8% 67.3% 13.6% inter: 49.3% 86.2% 1.6%\n",
      "\u001b[1;36m[libx264 @ 0x55e415cf85c0] \u001b[0mi16 v,h,dc,p: 23% 19%  6% 52%\n",
      "\u001b[1;36m[libx264 @ 0x55e415cf85c0] \u001b[0mi8 v,h,dc,ddl,ddr,vr,hd,vl,hu: 33% 17% 11%  6%  7%  7%  6%  7%  6%\n",
      "\u001b[1;36m[libx264 @ 0x55e415cf85c0] \u001b[0mi4 v,h,dc,ddl,ddr,vr,hd,vl,hu: 28% 18%  8%  6% 12% 11%  8%  6%  4%\n",
      "\u001b[1;36m[libx264 @ 0x55e415cf85c0] \u001b[0mi8c dc,h,v,p: 46% 17% 24% 14%\n",
      "\u001b[1;36m[libx264 @ 0x55e415cf85c0] \u001b[0mWeighted P-Frames: Y:4.3% UV:4.3%\n",
      "\u001b[1;36m[libx264 @ 0x55e415cf85c0] \u001b[0mref P L0: 38.6%  9.2% 23.8% 28.4%\n",
      "\u001b[1;36m[libx264 @ 0x55e415cf85c0] \u001b[0mkb/s:3667.20\n"
     ]
    }
   ],
   "source": [
    "!ffmpeg -i /home/jack/Desktop/FLASK/static/square_vids/00024_AI_Square_Video_Content.mp4 -filter:v \"minterpolate='mi_mode=mci:mc_mode=aobmc:vsbmc=1:fps=50'\" /home/jack/Desktop/ffmpeg_flask/output.mp4\n",
    "!ffmpeg -i /home/jack/Desktop/ffmpeg_flask/output.mp4 -vf mpdecimate,setpts=N/FRAME_RATE/TB /home/jack/Desktop/ffmpeg_flask/mpdecimate.mp4"
   ]
  },
  {
   "cell_type": "code",
   "execution_count": 16,
   "id": "67f3529a",
   "metadata": {},
   "outputs": [
    {
     "name": "stdout",
     "output_type": "stream",
     "text": [
      "ffmpeg version 4.2.7-0ubuntu0.1 Copyright (c) 2000-2022 the FFmpeg developers\n",
      "  built with gcc 9 (Ubuntu 9.4.0-1ubuntu1~20.04.1)\n",
      "  configuration: --prefix=/usr --extra-version=0ubuntu0.1 --toolchain=hardened --libdir=/usr/lib/x86_64-linux-gnu --incdir=/usr/include/x86_64-linux-gnu --arch=amd64 --enable-gpl --disable-stripping --enable-avresample --disable-filter=resample --enable-avisynth --enable-gnutls --enable-ladspa --enable-libaom --enable-libass --enable-libbluray --enable-libbs2b --enable-libcaca --enable-libcdio --enable-libcodec2 --enable-libflite --enable-libfontconfig --enable-libfreetype --enable-libfribidi --enable-libgme --enable-libgsm --enable-libjack --enable-libmp3lame --enable-libmysofa --enable-libopenjpeg --enable-libopenmpt --enable-libopus --enable-libpulse --enable-librsvg --enable-librubberband --enable-libshine --enable-libsnappy --enable-libsoxr --enable-libspeex --enable-libssh --enable-libtheora --enable-libtwolame --enable-libvidstab --enable-libvorbis --enable-libvpx --enable-libwavpack --enable-libwebp --enable-libx265 --enable-libxml2 --enable-libxvid --enable-libzmq --enable-libzvbi --enable-lv2 --enable-omx --enable-openal --enable-opencl --enable-opengl --enable-sdl2 --enable-libdc1394 --enable-libdrm --enable-libiec61883 --enable-nvenc --enable-chromaprint --enable-frei0r --enable-libx264 --enable-shared\n",
      "  libavutil      56. 31.100 / 56. 31.100\n",
      "  libavcodec     58. 54.100 / 58. 54.100\n",
      "  libavformat    58. 29.100 / 58. 29.100\n",
      "  libavdevice    58.  8.100 / 58.  8.100\n",
      "  libavfilter     7. 57.100 /  7. 57.100\n",
      "  libavresample   4.  0.  0 /  4.  0.  0\n",
      "  libswscale      5.  5.100 /  5.  5.100\n",
      "  libswresample   3.  5.100 /  3.  5.100\n",
      "  libpostproc    55.  5.100 / 55.  5.100\n",
      "Input #0, mov,mp4,m4a,3gp,3g2,mj2, from 'output.mp4':\n",
      "  Metadata:\n",
      "    major_brand     : isom\n",
      "    minor_version   : 512\n",
      "    compatible_brands: isomiso2avc1mp41\n",
      "    encoder         : Lavf58.29.100\n",
      "  Duration: 00:00:33.02, start: 0.000000, bitrate: 2943 kb/s\n",
      "    Stream #0:0(und): Video: h264 (High) (avc1 / 0x31637661), yuvj420p(pc), 512x512 [SAR 1:1 DAR 1:1], 2940 kb/s, 50 fps, 50 tbr, 12800 tbn, 100 tbc (default)\n",
      "    Metadata:\n",
      "      handler_name    : VideoHandler\n",
      "Stream mapping:\n",
      "  Stream #0:0 -> #0:0 (h264 (native) -> h264 (libx264))\n",
      "Press [q] to stop, [?] for help\n",
      "\u001b[1;36m[libx264 @ 0x55dcb3b45680] \u001b[0musing SAR=1/1\n",
      "\u001b[1;36m[libx264 @ 0x55dcb3b45680] \u001b[0musing cpu capabilities: MMX2 SSE2Fast LZCNT SSSE3 SSE4.2\n",
      "\u001b[1;36m[libx264 @ 0x55dcb3b45680] \u001b[0mprofile High, level 3.1\n",
      "\u001b[1;36m[libx264 @ 0x55dcb3b45680] \u001b[0m264 - core 155 r2917 0a84d98 - H.264/MPEG-4 AVC codec - Copyleft 2003-2018 - http://www.videolan.org/x264.html - options: cabac=1 ref=3 deblock=1:0:0 analyse=0x3:0x113 me=hex subme=7 psy=1 psy_rd=1.00:0.00 mixed_ref=1 me_range=16 chroma_me=1 trellis=1 8x8dct=1 cqm=0 deadzone=21,11 fast_pskip=1 chroma_qp_offset=-2 threads=3 lookahead_threads=1 sliced_threads=0 nr=0 decimate=1 interlaced=0 bluray_compat=0 constrained_intra=0 bframes=3 b_pyramid=2 b_adapt=1 b_bias=0 direct=1 weightb=1 open_gop=0 weightp=2 keyint=250 keyint_min=25 scenecut=40 intra_refresh=0 rc_lookahead=40 rc=crf mbtree=1 crf=23.0 qcomp=0.60 qpmin=0 qpmax=69 qpstep=4 ip_ratio=1.40 aq=1:1.00\n",
      "Output #0, mp4, to 'mpdecimate.mp4':\n",
      "  Metadata:\n",
      "    major_brand     : isom\n",
      "    minor_version   : 512\n",
      "    compatible_brands: isomiso2avc1mp41\n",
      "    encoder         : Lavf58.29.100\n",
      "    Stream #0:0(und): Video: h264 (libx264) (avc1 / 0x31637661), yuvj420p(pc), 512x512 [SAR 1:1 DAR 1:1], q=-1--1, 50 fps, 12800 tbn, 50 tbc (default)\n",
      "    Metadata:\n",
      "      handler_name    : VideoHandler\n",
      "      encoder         : Lavc58.54.100 libx264\n",
      "    Side data:\n",
      "      cpb: bitrate max/min/avg: 0/0/0 buffer size: 0 vbv_delay: -1\n",
      "frame= 1357 fps= 68 q=-1.0 Lsize=   10194kB time=00:00:27.08 bitrate=3083.9kbits/s speed=1.36x    \n",
      "video:10185kB audio:0kB subtitle:0kB other streams:0kB global headers:0kB muxing overhead: 0.093977%\n",
      "\u001b[1;36m[libx264 @ 0x55dcb3b45680] \u001b[0mframe I:8     Avg QP:26.70  size: 45127\n",
      "\u001b[1;36m[libx264 @ 0x55dcb3b45680] \u001b[0mframe P:1169  Avg QP:28.44  size:  8302\n",
      "\u001b[1;36m[libx264 @ 0x55dcb3b45680] \u001b[0mframe B:180   Avg QP:32.91  size:  2014\n",
      "\u001b[1;36m[libx264 @ 0x55dcb3b45680] \u001b[0mconsecutive B-frames: 75.8% 18.6%  3.3%  2.4%\n",
      "\u001b[1;36m[libx264 @ 0x55dcb3b45680] \u001b[0mmb I  I16..4:  0.9% 85.4% 13.7%\n",
      "\u001b[1;36m[libx264 @ 0x55dcb3b45680] \u001b[0mmb P  I16..4:  0.1%  0.4%  0.1%  P16..4: 57.7% 22.9% 11.9%  0.0%  0.0%    skip: 6.9%\n",
      "\u001b[1;36m[libx264 @ 0x55dcb3b45680] \u001b[0mmb B  I16..4:  0.0%  0.0%  0.0%  B16..8: 58.6%  8.8%  1.3%  direct: 1.2%  skip:30.1%  L0:26.1% L1:48.9% BI:25.0%\n",
      "\u001b[1;36m[libx264 @ 0x55dcb3b45680] \u001b[0m8x8 transform intra:81.4% inter:60.8%\n",
      "\u001b[1;36m[libx264 @ 0x55dcb3b45680] \u001b[0mcoded y,uvDC,uvAC intra: 88.7% 89.3% 57.6% inter: 46.0% 46.6% 4.1%\n",
      "\u001b[1;36m[libx264 @ 0x55dcb3b45680] \u001b[0mi16 v,h,dc,p: 31% 18%  7% 45%\n",
      "\u001b[1;36m[libx264 @ 0x55dcb3b45680] \u001b[0mi8 v,h,dc,ddl,ddr,vr,hd,vl,hu: 18% 12% 14%  7%  9% 11%  8% 11% 10%\n",
      "\u001b[1;36m[libx264 @ 0x55dcb3b45680] \u001b[0mi4 v,h,dc,ddl,ddr,vr,hd,vl,hu: 23% 10% 11%  8% 11% 12%  8% 10%  6%\n",
      "\u001b[1;36m[libx264 @ 0x55dcb3b45680] \u001b[0mi8c dc,h,v,p: 46% 16% 25% 13%\n",
      "\u001b[1;36m[libx264 @ 0x55dcb3b45680] \u001b[0mWeighted P-Frames: Y:24.1% UV:18.8%\n",
      "\u001b[1;36m[libx264 @ 0x55dcb3b45680] \u001b[0mref P L0: 67.9% 27.2%  4.2%  0.5%  0.2%\n",
      "\u001b[1;36m[libx264 @ 0x55dcb3b45680] \u001b[0mref B L0: 97.3%  2.2%  0.5%\n",
      "\u001b[1;36m[libx264 @ 0x55dcb3b45680] \u001b[0mref B L1: 100.0%  0.0%\n",
      "\u001b[1;36m[libx264 @ 0x55dcb3b45680] \u001b[0mkb/s:3073.98\n"
     ]
    }
   ],
   "source": [
    "!ffmpeg -i outputxx.mp4 -vf mpdecimate,setpts=N/FRAME_RATE/TB mpdecimate.mp4\n"
   ]
  },
  {
   "cell_type": "code",
   "execution_count": 1,
   "id": "b307f099",
   "metadata": {},
   "outputs": [
    {
     "name": "stdout",
     "output_type": "stream",
     "text": [
      "app.py\t       Dockerfile\t myapp.log\t   static\t    view.py\r\n",
      "app.py-back    ffmpeg_server\t outputxx.mp4\t   templates\r\n",
      "app.pyback     long.mp3\t\t requirements.txt  Untitled1.ipynb\r\n",
      "appworking.py  mpdecimatexx.mp4  Requirements.txt  Untitled.ipynb\r\n"
     ]
    }
   ],
   "source": [
    "!ls"
   ]
  },
  {
   "cell_type": "code",
   "execution_count": 2,
   "id": "315c30a7",
   "metadata": {},
   "outputs": [
    {
     "name": "stdout",
     "output_type": "stream",
     "text": [
      "ffmpeg version 4.2.7-0ubuntu0.1 Copyright (c) 2000-2022 the FFmpeg developers\n",
      "  built with gcc 9 (Ubuntu 9.4.0-1ubuntu1~20.04.1)\n",
      "  configuration: --prefix=/usr --extra-version=0ubuntu0.1 --toolchain=hardened --libdir=/usr/lib/x86_64-linux-gnu --incdir=/usr/include/x86_64-linux-gnu --arch=amd64 --enable-gpl --disable-stripping --enable-avresample --disable-filter=resample --enable-avisynth --enable-gnutls --enable-ladspa --enable-libaom --enable-libass --enable-libbluray --enable-libbs2b --enable-libcaca --enable-libcdio --enable-libcodec2 --enable-libflite --enable-libfontconfig --enable-libfreetype --enable-libfribidi --enable-libgme --enable-libgsm --enable-libjack --enable-libmp3lame --enable-libmysofa --enable-libopenjpeg --enable-libopenmpt --enable-libopus --enable-libpulse --enable-librsvg --enable-librubberband --enable-libshine --enable-libsnappy --enable-libsoxr --enable-libspeex --enable-libssh --enable-libtheora --enable-libtwolame --enable-libvidstab --enable-libvorbis --enable-libvpx --enable-libwavpack --enable-libwebp --enable-libx265 --enable-libxml2 --enable-libxvid --enable-libzmq --enable-libzvbi --enable-lv2 --enable-omx --enable-openal --enable-opencl --enable-opengl --enable-sdl2 --enable-libdc1394 --enable-libdrm --enable-libiec61883 --enable-nvenc --enable-chromaprint --enable-frei0r --enable-libx264 --enable-shared\n",
      "  libavutil      56. 31.100 / 56. 31.100\n",
      "  libavcodec     58. 54.100 / 58. 54.100\n",
      "  libavformat    58. 29.100 / 58. 29.100\n",
      "  libavdevice    58.  8.100 / 58.  8.100\n",
      "  libavfilter     7. 57.100 /  7. 57.100\n",
      "  libavresample   4.  0.  0 /  4.  0.  0\n",
      "  libswscale      5.  5.100 /  5.  5.100\n",
      "  libswresample   3.  5.100 /  3.  5.100\n",
      "  libpostproc    55.  5.100 / 55.  5.100\n",
      "Input #0, mov,mp4,m4a,3gp,3g2,mj2, from 'outputxx.mp4':\n",
      "  Metadata:\n",
      "    major_brand     : isom\n",
      "    minor_version   : 512\n",
      "    compatible_brands: isomiso2avc1mp41\n",
      "    encoder         : Lavf58.29.100\n",
      "  Duration: 00:00:49.97, start: 0.000000, bitrate: 292 kb/s\n",
      "    Stream #0:0(und): Video: h264 (High) (avc1 / 0x31637661), yuv420p, 640x640, 289 kb/s, 30 fps, 30 tbr, 15360 tbn, 60 tbc (default)\n",
      "    Metadata:\n",
      "      handler_name    : VideoHandler\n",
      "Stream mapping:\n",
      "  Stream #0:0 -> #0:0 (h264 (native) -> h264 (libx264))\n",
      "Press [q] to stop, [?] for help\n",
      "\u001b[1;36m[libx264 @ 0x562491e1b2c0] \u001b[0musing cpu capabilities: MMX2 SSE2Fast LZCNT SSSE3 SSE4.2\n",
      "\u001b[1;36m[libx264 @ 0x562491e1b2c0] \u001b[0mprofile High, level 3.1\n",
      "\u001b[1;36m[libx264 @ 0x562491e1b2c0] \u001b[0m264 - core 155 r2917 0a84d98 - H.264/MPEG-4 AVC codec - Copyleft 2003-2018 - http://www.videolan.org/x264.html - options: cabac=1 ref=3 deblock=1:0:0 analyse=0x3:0x113 me=hex subme=7 psy=1 psy_rd=1.00:0.00 mixed_ref=1 me_range=16 chroma_me=1 trellis=1 8x8dct=1 cqm=0 deadzone=21,11 fast_pskip=1 chroma_qp_offset=-2 threads=3 lookahead_threads=1 sliced_threads=0 nr=0 decimate=1 interlaced=0 bluray_compat=0 constrained_intra=0 bframes=3 b_pyramid=2 b_adapt=1 b_bias=0 direct=1 weightb=1 open_gop=0 weightp=2 keyint=250 keyint_min=25 scenecut=40 intra_refresh=0 rc_lookahead=40 rc=crf mbtree=1 crf=23.0 qcomp=0.60 qpmin=0 qpmax=69 qpstep=4 ip_ratio=1.40 aq=1:1.00\n",
      "Output #0, mp4, to 'mpdecimate.mp4':\n",
      "  Metadata:\n",
      "    major_brand     : isom\n",
      "    minor_version   : 512\n",
      "    compatible_brands: isomiso2avc1mp41\n",
      "    encoder         : Lavf58.29.100\n",
      "    Stream #0:0(und): Video: h264 (libx264) (avc1 / 0x31637661), yuv420p, 640x640, q=-1--1, 30 fps, 15360 tbn, 30 tbc (default)\n",
      "    Metadata:\n",
      "      handler_name    : VideoHandler\n",
      "      encoder         : Lavc58.54.100 libx264\n",
      "    Side data:\n",
      "      cpb: bitrate max/min/avg: 0/0/0 buffer size: 0 vbv_delay: -1\n",
      "frame=   50 fps= 15 q=-1.0 Lsize=     525kB time=00:00:01.56 bitrate=2743.6kbits/s speed=0.483x    \n",
      "video:524kB audio:0kB subtitle:0kB other streams:0kB global headers:0kB muxing overhead: 0.194494%\n",
      "\u001b[1;36m[libx264 @ 0x562491e1b2c0] \u001b[0mframe I:3     Avg QP:25.73  size: 11230\n",
      "\u001b[1;36m[libx264 @ 0x562491e1b2c0] \u001b[0mframe P:47    Avg QP:27.34  size: 10678\n",
      "\u001b[1;36m[libx264 @ 0x562491e1b2c0] \u001b[0mmb I  I16..4: 14.4% 82.3%  3.3%\n",
      "\u001b[1;36m[libx264 @ 0x562491e1b2c0] \u001b[0mmb P  I16..4: 14.3% 81.9%  3.2%  P16..4:  0.5%  0.1%  0.0%  0.0%  0.0%    skip: 0.0%\n",
      "\u001b[1;36m[libx264 @ 0x562491e1b2c0] \u001b[0m8x8 transform intra:82.4% inter:94.5%\n",
      "\u001b[1;36m[libx264 @ 0x562491e1b2c0] \u001b[0mcoded y,uvDC,uvAC intra: 51.2% 72.2% 19.4% inter: 53.1% 88.1% 2.0%\n",
      "\u001b[1;36m[libx264 @ 0x562491e1b2c0] \u001b[0mi16 v,h,dc,p: 22% 18%  5% 55%\n",
      "\u001b[1;36m[libx264 @ 0x562491e1b2c0] \u001b[0mi8 v,h,dc,ddl,ddr,vr,hd,vl,hu: 32% 18% 10%  6%  7%  8%  6%  8%  6%\n",
      "\u001b[1;36m[libx264 @ 0x562491e1b2c0] \u001b[0mi4 v,h,dc,ddl,ddr,vr,hd,vl,hu: 28% 17%  8%  6% 12% 10%  8%  6%  4%\n",
      "\u001b[1;36m[libx264 @ 0x562491e1b2c0] \u001b[0mi8c dc,h,v,p: 43% 18% 24% 15%\n",
      "\u001b[1;36m[libx264 @ 0x562491e1b2c0] \u001b[0mWeighted P-Frames: Y:4.3% UV:4.3%\n",
      "\u001b[1;36m[libx264 @ 0x562491e1b2c0] \u001b[0mref P L0: 38.1% 10.1% 24.8% 26.7%  0.3%\n",
      "\u001b[1;36m[libx264 @ 0x562491e1b2c0] \u001b[0mkb/s:2570.75\n"
     ]
    }
   ],
   "source": [
    "#/home/jack/Desktop/ffmpeg_flask/outputxx.mp4\n",
    "!ffmpeg -i outputxx.mp4 -vf mpdecimate,setpts=N/FRAME_RATE/TB mpdecimate.mp4"
   ]
  },
  {
   "cell_type": "code",
   "execution_count": null,
   "id": "a63543b4",
   "metadata": {},
   "outputs": [],
   "source": []
  }
 ],
 "metadata": {
  "kernelspec": {
   "display_name": "cloned-base",
   "language": "python",
   "name": "cloned-base"
  },
  "language_info": {
   "codemirror_mode": {
    "name": "ipython",
    "version": 3
   },
   "file_extension": ".py",
   "mimetype": "text/x-python",
   "name": "python",
   "nbconvert_exporter": "python",
   "pygments_lexer": "ipython3",
   "version": "3.9.12"
  }
 },
 "nbformat": 4,
 "nbformat_minor": 5
}
